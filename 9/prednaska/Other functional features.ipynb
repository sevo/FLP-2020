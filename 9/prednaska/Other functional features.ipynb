{
 "cells": [
  {
   "cell_type": "markdown",
   "metadata": {
    "slideshow": {
     "slide_type": "slide"
    }
   },
   "source": [
    "# 1. Partial function application\n",
    "# 2. Pattern matching"
   ]
  },
  {
   "cell_type": "markdown",
   "metadata": {
    "slideshow": {
     "slide_type": "slide"
    }
   },
   "source": [
    "# Ciastocna aplikacia - Partially applied functions\n",
    "\n",
    "http://blog.dhananjaynene.com/tags/functional-programming/\n",
    "\n",
    "* Ciastocna aplikacia transformuje funkciu s nejakym poctom parametrov na inu funkciu s mensim poctom parametrov\n",
    "\n",
    "* Cize zafixuje nejake parametre\n",
    "\n",
    "f:(X × Y × Z) → N\n",
    "\n",
    "partial(f):(Y × Z) → N"
   ]
  },
  {
   "cell_type": "markdown",
   "metadata": {
    "slideshow": {
     "slide_type": "slide"
    }
   },
   "source": [
    "# Minule som ukazal, ako sa nieco taketo da spravit s pomocou uzaveru\n",
    "len som nepouzil funkcu, ale operator"
   ]
  },
  {
   "cell_type": "code",
   "execution_count": 1,
   "metadata": {},
   "outputs": [],
   "source": [
    "def add(a, b):\n",
    "    return a + b"
   ]
  },
  {
   "cell_type": "code",
   "execution_count": 30,
   "metadata": {
    "slideshow": {
     "slide_type": "slide"
    }
   },
   "outputs": [],
   "source": [
    "def make_adder(a) :\n",
    "    def adder(b) :\n",
    "        return add(a, b)\n",
    "    return adder"
   ]
  },
  {
   "cell_type": "code",
   "execution_count": 31,
   "metadata": {},
   "outputs": [
    {
     "data": {
      "text/plain": [
       "6"
      ]
     },
     "execution_count": 31,
     "metadata": {},
     "output_type": "execute_result"
    }
   ],
   "source": [
    "add_two = make_adder(2)\n",
    "add_two(4)"
   ]
  },
  {
   "cell_type": "markdown",
   "metadata": {
    "slideshow": {
     "slide_type": "slide"
    }
   },
   "source": [
    "# Iny priklad"
   ]
  },
  {
   "cell_type": "code",
   "execution_count": 4,
   "metadata": {},
   "outputs": [],
   "source": [
    "def make_power(exponent):\n",
    "    def power(x):\n",
    "        return x**exponent\n",
    "    return power"
   ]
  },
  {
   "cell_type": "code",
   "execution_count": 5,
   "metadata": {},
   "outputs": [
    {
     "name": "stdout",
     "output_type": "stream",
     "text": [
      "9\n",
      "900\n"
     ]
    },
    {
     "data": {
      "text/plain": [
       "90000"
      ]
     },
     "execution_count": 5,
     "metadata": {},
     "output_type": "execute_result"
    }
   ],
   "source": [
    "square = make_power(2)\n",
    "print(square(3))\n",
    "print(square(30))\n",
    "square(300)"
   ]
  },
  {
   "cell_type": "markdown",
   "metadata": {
    "slideshow": {
     "slide_type": "slide"
    }
   },
   "source": [
    "# Balicek functools ma na to funkciu, ktora definiciu takychto funkcii robi este pohodlnejsiu"
   ]
  },
  {
   "cell_type": "code",
   "execution_count": 33,
   "metadata": {},
   "outputs": [
    {
     "data": {
      "text/plain": [
       "729"
      ]
     },
     "execution_count": 33,
     "metadata": {},
     "output_type": "execute_result"
    }
   ],
   "source": [
    "from functools import partial\n",
    "\n",
    "def power(base, exponent):\n",
    "    return base ** exponent\n",
    "\n",
    "cube = partial(power, 3)\n",
    "cube(6)"
   ]
  },
  {
   "cell_type": "code",
   "execution_count": 34,
   "metadata": {
    "slideshow": {
     "slide_type": "slide"
    }
   },
   "outputs": [
    {
     "data": {
      "text/plain": [
       "8"
      ]
     },
     "execution_count": 34,
     "metadata": {},
     "output_type": "execute_result"
    }
   ],
   "source": [
    "def power(base, exponent):\n",
    "    return base ** exponent\n",
    "\n",
    "cube = partial(power, exponent=3)\n",
    "cube(2)"
   ]
  },
  {
   "cell_type": "markdown",
   "metadata": {
    "slideshow": {
     "slide_type": "slide"
    }
   },
   "source": [
    "# Iny priklad, uprveny konstruktor int"
   ]
  },
  {
   "cell_type": "code",
   "execution_count": 8,
   "metadata": {
    "slideshow": {
     "slide_type": "-"
    }
   },
   "outputs": [
    {
     "data": {
      "text/plain": [
       "469"
      ]
     },
     "execution_count": 8,
     "metadata": {},
     "output_type": "execute_result"
    }
   ],
   "source": [
    "basetwo = partial(int, base=2)\n",
    "basetwo('111010101')"
   ]
  },
  {
   "cell_type": "markdown",
   "metadata": {
    "slideshow": {
     "slide_type": "slide"
    }
   },
   "source": [
    "# Problem je v tom, ze skoro vsetky priklady na internete, ktore najdete su z toho ako vyrobit power funkcie alebo nieco podobne trivialne\n",
    "\n",
    "## Skusme nieco trivialne, ale praktickejsie"
   ]
  },
  {
   "cell_type": "markdown",
   "metadata": {
    "slideshow": {
     "slide_type": "slide"
    }
   },
   "source": [
    "# Napriklad funkciu, ktora ma vypisovat do nejakeho specialneho suboru. Napriklad chyboveho vystupu"
   ]
  },
  {
   "cell_type": "code",
   "execution_count": 9,
   "metadata": {
    "slideshow": {
     "slide_type": "-"
    }
   },
   "outputs": [],
   "source": [
    "import sys\n",
    "from functools import partial\n",
    "\n",
    "print_stderr = partial(print, file=sys.stderr)"
   ]
  },
  {
   "cell_type": "code",
   "execution_count": 10,
   "metadata": {},
   "outputs": [
    {
     "name": "stderr",
     "output_type": "stream",
     "text": [
      "pokus\n"
     ]
    }
   ],
   "source": [
    "print_stderr(\"pokus\")"
   ]
  },
  {
   "cell_type": "markdown",
   "metadata": {
    "slideshow": {
     "slide_type": "slide"
    }
   },
   "source": [
    "# Toto by som vedel dosiahnut aj dekoratorom, aj lambdou,  aj pomocou closure ale takto je to asi najjednoduchsie\n",
    "\n",
    "## Skusme si niektore z toho naprogramovat v ramci opakovania"
   ]
  },
  {
   "cell_type": "code",
   "execution_count": 11,
   "metadata": {},
   "outputs": [
    {
     "name": "stderr",
     "output_type": "stream",
     "text": [
      "hahahhaha\n"
     ]
    }
   ],
   "source": [
    "# print_stderr = partial(print, file=sys.stderr)\n",
    "print_stderr = lambda x: print(x, file=sys.stderr)\n",
    "print_stderr('hahahhaha')"
   ]
  },
  {
   "cell_type": "markdown",
   "metadata": {
    "slideshow": {
     "slide_type": "slide"
    }
   },
   "source": [
    "# Skusme partial application pouzit na refaktorovanie takehoto kodu"
   ]
  },
  {
   "cell_type": "code",
   "execution_count": null,
   "metadata": {},
   "outputs": [],
   "source": [
    "for text in lines:\n",
    "    if re.search('[a-zA-Z]\\=', text):\n",
    "        some_action(text)\n",
    "    elif re.search('[a-zA-Z]\\s\\=', text):\n",
    "        some_other_action(text)\n",
    "    else:\n",
    "        some_default_action()"
   ]
  },
  {
   "cell_type": "markdown",
   "metadata": {
    "slideshow": {
     "slide_type": "slide"
    }
   },
   "source": [
    "# regularne vyrazy sa daju vytiahnut do funkcie"
   ]
  },
  {
   "cell_type": "code",
   "execution_count": null,
   "metadata": {
    "scrolled": false,
    "slideshow": {
     "slide_type": "-"
    }
   },
   "outputs": [],
   "source": [
    "def is_grouped_together(text): # skuste z tohoto spravit partial\n",
    "    return re.search(\"[a-zA-Z]\\s\\=\", text)\n",
    "\n",
    "def is_spaced_apart(text):\n",
    "    return re.search(\"[a-zA-Z]\\s\\=\", text) \n",
    "\n",
    "def and_so_on(text):\n",
    "    return re.search(\"pattern_188364625\", text)\n",
    "\n",
    "for text in lines:\n",
    "    if is_grouped_together(text):\n",
    "        some_action(text)\n",
    "    elif is_spaced_apart(text):\n",
    "        some_other_action(text)\n",
    "    else:\n",
    "        some_default_action()"
   ]
  },
  {
   "cell_type": "markdown",
   "metadata": {},
   "source": [
    "# Vidite tam to opakovanie kodu?"
   ]
  },
  {
   "cell_type": "markdown",
   "metadata": {
    "slideshow": {
     "slide_type": "slide"
    }
   },
   "source": [
    "# Ako by to bolo cele prerobene?"
   ]
  },
  {
   "cell_type": "code",
   "execution_count": null,
   "metadata": {},
   "outputs": [],
   "source": [
    "is_spaced_apart = partial(re.search, '[a-zA-Z]\\s\\=')\n",
    "is_grouped_together = partial(re.search, '[a-zA-Z]\\=')\n",
    "\n",
    "  \n",
    "for text in lines:\n",
    "    if is_grouped_together(text):\n",
    "        some_action(text)\n",
    "    elif is_spaced_apart(text):\n",
    "        some_other_action(text)\n",
    "    else:\n",
    "        some_default_action()"
   ]
  },
  {
   "cell_type": "markdown",
   "metadata": {
    "slideshow": {
     "slide_type": "slide"
    }
   },
   "source": [
    "## Dalsie priklady na pouzitie partial pri refactoringu \n",
    "\n",
    "http://chriskiehl.com/article/Cleaner-coding-through-partially-applied-functions/"
   ]
  },
  {
   "cell_type": "markdown",
   "metadata": {
    "slideshow": {
     "slide_type": "slide"
    }
   },
   "source": [
    "# A preco to nepouzit na specializovany konstruktor?"
   ]
  },
  {
   "cell_type": "code",
   "execution_count": 14,
   "metadata": {},
   "outputs": [
    {
     "name": "stdout",
     "output_type": "stream",
     "text": [
      "jablka: 3\n"
     ]
    }
   ],
   "source": [
    "class Tovar:\n",
    "    def __init__(self, typ, mnozstvo=0):\n",
    "        self.typ=typ\n",
    "        self.mnozstvo=mnozstvo\n",
    "        \n",
    "    def write(self):\n",
    "        return '{}: {}'.format(self.typ, self.mnozstvo)\n",
    "\n",
    "nakup_jablk = Tovar('jablka', 3) \n",
    "print(nakup_jablk.write())"
   ]
  },
  {
   "cell_type": "code",
   "execution_count": 15,
   "metadata": {
    "slideshow": {
     "slide_type": "slide"
    }
   },
   "outputs": [
    {
     "data": {
      "text/plain": [
       "'jablka: 4'"
      ]
     },
     "execution_count": 15,
     "metadata": {},
     "output_type": "execute_result"
    }
   ],
   "source": [
    "Jablko = partial(Tovar, 'jablka')\n",
    "Jablko(4).write()"
   ]
  },
  {
   "cell_type": "markdown",
   "metadata": {
    "slideshow": {
     "slide_type": "slide"
    }
   },
   "source": [
    "# To iste by fungovalo aj na \"objekt\" vytvoreny pomocou closure"
   ]
  },
  {
   "cell_type": "code",
   "execution_count": 16,
   "metadata": {},
   "outputs": [],
   "source": [
    "import pyrsistent as ps\n",
    "\n",
    "def Tovar(typ, mnozstvo):\n",
    "    def write():\n",
    "        return '{}: {}'.format(typ, mnozstvo)\n",
    "    return ps.freeze({'write': write})"
   ]
  },
  {
   "cell_type": "code",
   "execution_count": 17,
   "metadata": {},
   "outputs": [
    {
     "data": {
      "text/plain": [
       "'jablka: 5'"
      ]
     },
     "execution_count": 17,
     "metadata": {},
     "output_type": "execute_result"
    }
   ],
   "source": [
    "Jablko = partial(Tovar, 'jablka')\n",
    "Jablko(5).write()"
   ]
  },
  {
   "cell_type": "markdown",
   "metadata": {
    "slideshow": {
     "slide_type": "slide"
    }
   },
   "source": [
    "# Viete si tak vytvorit viacere konstruktory pre tu istu triedu\n",
    "\n",
    "Co vam brani vytvorit si konstruktor pre nejaky specialny typ loggera alebo objektu na citanie nejakeho specialneho typu suboru. \n",
    "\n",
    "Nemusite stale opakovat tie iste parametre vo volani konstruktora / funkcie."
   ]
  },
  {
   "cell_type": "markdown",
   "metadata": {
    "slideshow": {
     "slide_type": "slide"
    }
   },
   "source": [
    "# Viete to pouzit nie len na specializovanie, ale aj na oddelenie zadavania parametrov funkcie a jej vykonania v case.\n",
    "\n",
    "Kolko krat sa vam stalo, ze ste v programe davno vedeli aku funkciu budete musiet zavolat a aj s castou argumentov, ale museli ste cakat az do nejakeho casu, kde ste dostali aj zvysok a museli ste parametre predavat spolu s funkciou / objektom na ktorom bola metoda\n",
    "\n",
    "Ak by ste vedeli vyrobit funkciu, s niektorymi parametrami prednastavenymi, tak by vam stacilo posuvat si tuto jednu funkciu a nemuseli by ste si presuvat vsetky parametre az do miesta, kde ich nakoniec vlozite pri volani funkcie"
   ]
  },
  {
   "cell_type": "code",
   "execution_count": null,
   "metadata": {
    "slideshow": {
     "slide_type": "slide"
    }
   },
   "outputs": [],
   "source": [
    "def query_database(userid, password, query) :\n",
    "    # do query\n",
    "    # return results\n",
    "\n",
    "def bar(userid, password):\n",
    "    return query_database(userid, password, \"Select ...\")\n",
    "\n",
    "def foo(userid, password) :\n",
    "    return bar(userid, password)\n",
    "\n",
    "def main(userid, password) :\n",
    "    # .. lot of code here .. eventually reaching\n",
    "    foo(userid, password)"
   ]
  },
  {
   "cell_type": "markdown",
   "metadata": {
    "slideshow": {
     "slide_type": "slide"
    }
   },
   "source": [
    "# Takto by sa to dalo spravit ak by sme pouzili partial application pomocou vnorenej funkcie."
   ]
  },
  {
   "cell_type": "code",
   "execution_count": null,
   "metadata": {},
   "outputs": [],
   "source": [
    "def get_query_agent(userid, password)\n",
    "    def do_query(query) :\n",
    "        # do query\n",
    "        # return results\n",
    "    return do_query\n",
    "\n",
    "def bar(querying_func):\n",
    "    return func(querying_func, 'Select ...')\n",
    "\n",
    "def foo(querying_func) :\n",
    "    return bar(querying_func)\n",
    "\n",
    "def main(userid, password) :\n",
    "    query_agent = get_query_agent(userid, password)\n",
    "    # .. much further down the line\n",
    "    foo(query_agent)"
   ]
  },
  {
   "cell_type": "markdown",
   "metadata": {
    "slideshow": {
     "slide_type": "slide"
    }
   },
   "source": [
    "# Teraz o cool funkcionalej vlastnosti, ktora v Pythone *nie je*"
   ]
  },
  {
   "cell_type": "markdown",
   "metadata": {
    "slideshow": {
     "slide_type": "-"
    }
   },
   "source": [
    "# Pattern matching\n",
    "## Multimethods\n",
    "## Multiple dispatch"
   ]
  },
  {
   "cell_type": "markdown",
   "metadata": {
    "slideshow": {
     "slide_type": "slide"
    }
   },
   "source": [
    "# Multiple dispatch (and poor men's patter matching) in Java\n",
    "\n",
    "http://blog.efftinge.de/2010/03/multiple-dispatch-and-poor-mens-patter.html odkaz davam hlavne kvoli nazvu clanku :)"
   ]
  },
  {
   "cell_type": "code",
   "execution_count": null,
   "metadata": {},
   "outputs": [],
   "source": [
    "# -- JAVA --\n",
    "\n",
    "static void print(Fruit f) {\n",
    " sysout(\"Hello Fruit\");\n",
    "}\n",
    "\n",
    "static void print(Banana b) {\n",
    " sysout(\"Hello Banana\");\n",
    "}\n",
    "\n",
    "Banana banana = new Fruit();\n",
    "\n",
    "print(banana)"
   ]
  },
  {
   "cell_type": "markdown",
   "metadata": {
    "slideshow": {
     "slide_type": "slide"
    }
   },
   "source": [
    "# Toto nebol multiple dispatch. Toto bol overloading pretoze sa to rozhodovalo v case kompilacie. \n",
    "\n",
    "preto by sa vypisalo \"Hello banana\" na zaklade typu premennej a nie \"Hello Fruit\" na zaklade typu objektu\n",
    "\n",
    "multiple dispatch sa rozhoduje dynamicky na zaklade objektu\n",
    "\n",
    "Multiple dispatch by som dosiahol napriklad ak by print bola metoda objektu."
   ]
  },
  {
   "cell_type": "markdown",
   "metadata": {
    "slideshow": {
     "slide_type": "slide"
    }
   },
   "source": [
    "# Nanestastie Python nema ani multiple dispatch a ani overloading"
   ]
  },
  {
   "cell_type": "markdown",
   "metadata": {
    "slideshow": {
     "slide_type": "slide"
    }
   },
   "source": [
    "# Nema zmysel definovat dve funkcie s rovnakym menom"
   ]
  },
  {
   "cell_type": "code",
   "execution_count": 18,
   "metadata": {},
   "outputs": [
    {
     "name": "stdout",
     "output_type": "stream",
     "text": [
      "pokus2\n"
     ]
    }
   ],
   "source": [
    "def pokus(a):\n",
    "    print('pokus1')\n",
    "    \n",
    "def pokus():\n",
    "    print('pokus2')\n",
    "    \n",
    "pokus()"
   ]
  },
  {
   "cell_type": "markdown",
   "metadata": {
    "slideshow": {
     "slide_type": "slide"
    }
   },
   "source": [
    "# A je jedno, ci maju rovnaky pocet parametrov alebo rozny. Ani definovanie typu pomocou anotacie v pythone 3 mi nepomoze\n",
    "Vzdy si len prepisem funkciu inou\n",
    "\n",
    "Nikdy sa nerozhodne na zaklade parametrov, ktora by sa mala pouzit (tak ako je to napriklad v jave)"
   ]
  },
  {
   "cell_type": "code",
   "execution_count": 19,
   "metadata": {},
   "outputs": [
    {
     "ename": "TypeError",
     "evalue": "pokus() takes 1 positional argument but 2 were given",
     "output_type": "error",
     "traceback": [
      "\u001b[1;31m---------------------------------------------------------------------------\u001b[0m",
      "\u001b[1;31mTypeError\u001b[0m                                 Traceback (most recent call last)",
      "\u001b[1;32m<ipython-input-19-32df8fb0d570>\u001b[0m in \u001b[0;36m<module>\u001b[1;34m\u001b[0m\n\u001b[0;32m      5\u001b[0m     \u001b[0mprint\u001b[0m\u001b[1;33m(\u001b[0m\u001b[1;34m'pokus2'\u001b[0m\u001b[1;33m)\u001b[0m\u001b[1;33m\u001b[0m\u001b[1;33m\u001b[0m\u001b[0m\n\u001b[0;32m      6\u001b[0m \u001b[1;33m\u001b[0m\u001b[0m\n\u001b[1;32m----> 7\u001b[1;33m \u001b[0mpokus\u001b[0m\u001b[1;33m(\u001b[0m\u001b[1;34m'3'\u001b[0m\u001b[1;33m,\u001b[0m \u001b[1;33m[\u001b[0m\u001b[1;33m]\u001b[0m\u001b[1;33m)\u001b[0m\u001b[1;33m\u001b[0m\u001b[1;33m\u001b[0m\u001b[0m\n\u001b[0m",
      "\u001b[1;31mTypeError\u001b[0m: pokus() takes 1 positional argument but 2 were given"
     ]
    }
   ],
   "source": [
    "def pokus(a:str, b:list):\n",
    "    print('pokus1')\n",
    "    \n",
    "def pokus(b:int):\n",
    "    print('pokus2')\n",
    "    \n",
    "pokus('3', [])"
   ]
  },
  {
   "cell_type": "markdown",
   "metadata": {
    "slideshow": {
     "slide_type": "slide"
    }
   },
   "source": [
    "# V standardnej kniznici jendoducho nie su prostriedky na to, aby som vedel definovat vacero rovnakych fukcii a na zaklade atributov rozhodnut ktora sa ma zavolat\n",
    "\n",
    "toto plati aj pre metody\n",
    "\n",
    "nevieme napriklad definovat ani metodu triedy a objektu, ktora sa rovnako vola :("
   ]
  },
  {
   "cell_type": "markdown",
   "metadata": {
    "slideshow": {
     "slide_type": "slide"
    }
   },
   "source": [
    "# Vela ludom uz napadlo, ze by nieco take bolo celkom cool a spravili nejake pokusy o zapracovanie do jazyka\n",
    "http://www.grantjenks.com/docs/pypatt-python-pattern-matching/\n",
    "\n",
    "* https://github.com/lihaoyi/macropy - module import\n",
    "* https://github.com/Suor/patterns - decorator with funky syntax - Shared at Python Brazil 2013\n",
    "* https://github.com/mariusae/match - http://monkey.org/~marius/pattern-matching-in-python.html - operator overloading\n",
    "* http://blog.chadselph.com/adding-functional-style-pattern-matching-to-python.html - multi-methods\n",
    "* http://svn.colorstudy.com/home/ianb/recipes/patmatch.py - multi-methods\n",
    "* http://www.artima.com/weblogs/viewpost.jsp?thread=101605 - the original multi-methods\n",
    "* http://speak.codebunk.com/post/77084204957/pattern-matching-in-python - multi-methods supporting callables\n",
    "* http://www.aclevername.com/projects/splarnektity/ - not sure how it works but the syntax leaves a lot to be desired\n",
    "* https://github.com/martinblech/pyfpm - multi-dispatch with string parsing\n",
    "* https://github.com/jldupont/pyfnc - multi-dispatch\n",
    "* http://www.pyret.org/ - It’s own language"
   ]
  },
  {
   "cell_type": "markdown",
   "metadata": {},
   "source": [
    "# Ziadna z tychto kniznic nie je taka dobra ako plnohodnotne zapracovana vlastnost do funkcionalneho jazyka, ale skusim aspon na takomto chabom priklade ukazat, co by sa s niecim takymto dalo robit."
   ]
  },
  {
   "cell_type": "markdown",
   "metadata": {},
   "source": [
    "# Multimethods\n",
    "\n",
    "uz aj Guido van Rossum si vsimol, ze by to mohlo byt celkom fajn\n",
    "\n",
    "http://www.artima.com/weblogs/viewpost.jsp?thread=101605"
   ]
  },
  {
   "cell_type": "code",
   "execution_count": null,
   "metadata": {},
   "outputs": [],
   "source": [
    "# casto sa stava, ze kod vyzera nejak takto \n",
    "def foo(a, b):\n",
    "    if isinstance(a, int) and isinstance(b, int):\n",
    "        # ...code for two ints...\n",
    "    elif isinstance(a, float) and isinstance(b, float):\n",
    "        # ...code for two floats...\n",
    "    elif isinstance(a, str) and isinstance(b, str):\n",
    "        # ...code for two strings...\n",
    "    else:\n",
    "        raise TypeError(\"unsupported argument types (%s, %s)\" % (type(a), type(b)))"
   ]
  },
  {
   "cell_type": "markdown",
   "metadata": {
    "slideshow": {
     "slide_type": "slide"
    }
   },
   "source": [
    "# Najskor si definujem pomocne funkcie"
   ]
  },
  {
   "cell_type": "code",
   "execution_count": 20,
   "metadata": {
    "slideshow": {
     "slide_type": "-"
    }
   },
   "outputs": [],
   "source": [
    "registry = {}\n",
    "\n",
    "class MultiMethod(object):\n",
    "    def __init__(self, name):\n",
    "        self.name = name\n",
    "        self.typemap = {}\n",
    "    def __call__(self, *args):\n",
    "        types = tuple(arg.__class__ for arg in args) # a generator expression!\n",
    "        function = self.typemap.get(types)\n",
    "        if function is None:\n",
    "            raise TypeError(\"no match\")\n",
    "        return function(*args)\n",
    "    def register(self, types, function):\n",
    "        if types in self.typemap:\n",
    "            raise TypeError(\"duplicate registration\")\n",
    "        self.typemap[types] = function\n",
    "        \n",
    "def multimethod(*types):\n",
    "    def register(function):\n",
    "        name = function.__name__\n",
    "        mm = registry.get(name)\n",
    "        if mm is None:\n",
    "            mm = registry[name] = MultiMethod(name)\n",
    "        mm.register(types, function)\n",
    "        return mm\n",
    "    return register"
   ]
  },
  {
   "cell_type": "markdown",
   "metadata": {
    "slideshow": {
     "slide_type": "slide"
    }
   },
   "source": [
    "# Nevyzeralo by to ovela lepsie takto?"
   ]
  },
  {
   "cell_type": "code",
   "execution_count": 21,
   "metadata": {
    "slideshow": {
     "slide_type": "-"
    }
   },
   "outputs": [],
   "source": [
    "@multimethod(int, int)\n",
    "def foo(a, b):\n",
    "    print('int int')\n",
    "\n",
    "@multimethod(float, float)\n",
    "def foo(a, b):\n",
    "    print('float float')\n",
    "\n",
    "@multimethod(str, str)\n",
    "def foo(a, b):\n",
    "    print('str str')"
   ]
  },
  {
   "cell_type": "code",
   "execution_count": 22,
   "metadata": {},
   "outputs": [
    {
     "name": "stdout",
     "output_type": "stream",
     "text": [
      "float float\n"
     ]
    }
   ],
   "source": [
    "foo(1.0,1.0)"
   ]
  },
  {
   "cell_type": "markdown",
   "metadata": {
    "slideshow": {
     "slide_type": "slide"
    }
   },
   "source": [
    "# Co na to treba?\n",
    "\n",
    "* dekorator, ktory do nejakej struktury bude odkladat funkcie a parametre \n",
    "* je potrebne overenie, ktora funkcia je ta spravna \n",
    "* dekorator musi vratit funkciu, ktora sa pozrie do struktury s funkciami, postupne bude overovat, ci sa typy a pocty atributov zhoduju a potom jednu fukciu zavola\n",
    "* cele to ma menej ako 20 riadkov (koho to zaujima, moze sa pozriet o par saljdov vyssie ako sa to da spravit)\n",
    "\n",
    "# Obmedzenia?\n",
    "\n",
    "* nefunguje to na zaklade pomenovanych atributov\n",
    "* neda sa pouzit premenlivy pocet atributov\n",
    "* atributy sa porovnavaju len na zaklade typov. Napada mi milion sposobov, ako by som chcel atributy porovnavat zlozitejsie"
   ]
  },
  {
   "cell_type": "markdown",
   "metadata": {
    "slideshow": {
     "slide_type": "slide"
    }
   },
   "source": [
    "# Mozno ina implementacia mi da vacsiu volnost\n",
    "\n",
    "http://blog.chadselph.com/adding-functional-style-pattern-matching-to-python.html"
   ]
  },
  {
   "cell_type": "code",
   "execution_count": 25,
   "metadata": {},
   "outputs": [],
   "source": [
    "from patternmatching import ifmatches, Any, OfType, Where\n",
    "\n",
    "@ifmatches\n",
    "def greet(gender=OfType(str), name=\"Joey\"):\n",
    "    print(\"Joey, whats up man?\")\n",
    "@ifmatches\n",
    "def greet(gender=\"male\", name=Any):\n",
    "    print(\"Hello Mr. {}\".format(name))\n",
    "@ifmatches\n",
    "def greet(gender=\"female\", name=Any):\n",
    "    print(\"Hello Ms. {}\".format(name))\n",
    "@ifmatches\n",
    "def greet(gender=Any, name=Where(str.isupper)):\n",
    "    print(\"Hello {}. IMPORTANT\".format(\"Mr\" if gender == 'male' else \"Ms\"))    \n",
    "@ifmatches\n",
    "def greet(gender=Any, name=Any):\n",
    "    print(\"Hello, {}\".format(name))"
   ]
  },
  {
   "cell_type": "code",
   "execution_count": 26,
   "metadata": {
    "slideshow": {
     "slide_type": "slide"
    }
   },
   "outputs": [
    {
     "name": "stdout",
     "output_type": "stream",
     "text": [
      "Hello Mr. JAKUB\n"
     ]
    }
   ],
   "source": [
    "greet('male', 'JAKUB')"
   ]
  },
  {
   "cell_type": "markdown",
   "metadata": {
    "slideshow": {
     "slide_type": "slide"
    }
   },
   "source": [
    "# No a posledna kniznica so zaujimavou syntaxou\n",
    "\n",
    "https://github.com/Suor/patterns"
   ]
  },
  {
   "cell_type": "code",
   "execution_count": 24,
   "metadata": {},
   "outputs": [],
   "source": [
    "from patterns import patterns, Mismatch\n",
    "\n",
    "@patterns\n",
    "def factorial():\n",
    "    if 0: 1\n",
    "    if n is int: n * factorial(n-1)\n",
    "    if []: []\n",
    "    if [x] + xs: [factorial(x)] + factorial(xs)\n",
    "    if {'n': n, 'f': f}: f(factorial(n))"
   ]
  },
  {
   "cell_type": "code",
   "execution_count": 25,
   "metadata": {
    "slideshow": {
     "slide_type": "slide"
    }
   },
   "outputs": [
    {
     "data": {
      "text/plain": [
       "6"
      ]
     },
     "execution_count": 25,
     "metadata": {},
     "output_type": "execute_result"
    }
   ],
   "source": [
    "factorial(3)"
   ]
  },
  {
   "cell_type": "code",
   "execution_count": 26,
   "metadata": {
    "slideshow": {
     "slide_type": "slide"
    }
   },
   "outputs": [
    {
     "data": {
      "text/plain": [
       "120"
      ]
     },
     "execution_count": 26,
     "metadata": {},
     "output_type": "execute_result"
    }
   ],
   "source": [
    "factorial(5)"
   ]
  },
  {
   "cell_type": "code",
   "execution_count": 27,
   "metadata": {
    "slideshow": {
     "slide_type": "slide"
    }
   },
   "outputs": [
    {
     "data": {
      "text/plain": [
       "[6, 24, 2]"
      ]
     },
     "execution_count": 27,
     "metadata": {},
     "output_type": "execute_result"
    }
   ],
   "source": [
    "factorial([3,4,2])"
   ]
  },
  {
   "cell_type": "code",
   "execution_count": 28,
   "metadata": {
    "slideshow": {
     "slide_type": "slide"
    }
   },
   "outputs": [
    {
     "data": {
      "text/plain": [
       "121"
      ]
     },
     "execution_count": 28,
     "metadata": {},
     "output_type": "execute_result"
    }
   ],
   "source": [
    "factorial({'n': [5, 1], 'f': sum})"
   ]
  },
  {
   "cell_type": "code",
   "execution_count": 29,
   "metadata": {
    "slideshow": {
     "slide_type": "slide"
    }
   },
   "outputs": [
    {
     "ename": "Mismatch",
     "evalue": "",
     "output_type": "error",
     "traceback": [
      "\u001b[1;31m---------------------------------------------------------------------------\u001b[0m",
      "\u001b[1;31mMismatch\u001b[0m                                  Traceback (most recent call last)",
      "\u001b[1;32m<ipython-input-29-a2e59b9f91af>\u001b[0m in \u001b[0;36m<module>\u001b[1;34m\u001b[0m\n\u001b[1;32m----> 1\u001b[1;33m \u001b[0mfactorial\u001b[0m\u001b[1;33m(\u001b[0m\u001b[1;34m'hello'\u001b[0m\u001b[1;33m)\u001b[0m\u001b[1;33m\u001b[0m\u001b[1;33m\u001b[0m\u001b[0m\n\u001b[0m",
      "\u001b[1;32m<nofile>\u001b[0m in \u001b[0;36mfactorial\u001b[1;34m(value)\u001b[0m\n",
      "\u001b[1;31mMismatch\u001b[0m: "
     ]
    }
   ],
   "source": [
    "factorial('hello')"
   ]
  },
  {
   "cell_type": "markdown",
   "metadata": {
    "slideshow": {
     "slide_type": "slide"
    }
   },
   "source": [
    "# Spomente si na tuto poslednu kniznicu ked sa budete ucit Prolog, urcite tam najdete nejaku podobnost :)"
   ]
  },
  {
   "cell_type": "markdown",
   "metadata": {
    "slideshow": {
     "slide_type": "slide"
    }
   },
   "source": [
    "# Takze ked sa budete nudit, tak mozete spravit vlastnu implementaciu pattern matchingu v pythone. Ale tentokrat uz poriadne :)"
   ]
  }
 ],
 "metadata": {
  "celltoolbar": "Slideshow",
  "kernelspec": {
   "display_name": "Python 3",
   "language": "python",
   "name": "python3"
  },
  "language_info": {
   "codemirror_mode": {
    "name": "ipython",
    "version": 3
   },
   "file_extension": ".py",
   "mimetype": "text/x-python",
   "name": "python",
   "nbconvert_exporter": "python",
   "pygments_lexer": "ipython3",
   "version": "3.7.1"
  }
 },
 "nbformat": 4,
 "nbformat_minor": 1
}
