{
 "cells": [
  {
   "cell_type": "markdown",
   "metadata": {
    "slideshow": {
     "slide_type": "slide"
    }
   },
   "source": [
    "# Organizacia buduceho tyzdna\n",
    "\n",
    "* 14.4. bdue posledna prednaska venovana Pythonu\n",
    "\n",
    "* V case prednasky bude najskor pisomny test na 60 min pomocou AISu\n",
    "\n",
    "* Test bude obsahovat otazky na vsetky odprednasane temy venovane Pyhtonu, vratane dnesnej\n",
    "\n",
    "* Po teste bude nasledovat posledna tema venovana Pythonu\n",
    "\n",
    "* Otazky na temu poslednej prednasky budu az na zaverecnej skuske."
   ]
  },
  {
   "cell_type": "markdown",
   "metadata": {
    "slideshow": {
     "slide_type": "slide"
    }
   },
   "source": [
    "# Obsah dnesnej prednasky\n",
    "\n",
    "## 1. Rozsah platnosti premennej\n",
    "## 2. Vnorena funkcia\n",
    "## 3. Closure (Funkčný uzáver)\n",
    "## 4. Decorator"
   ]
  },
  {
   "cell_type": "markdown",
   "metadata": {
    "slideshow": {
     "slide_type": "slide"
    }
   },
   "source": [
    "# Closure - Funkčný uzáver\n",
    "\n",
    "* Funkcia, ktora pouziva neglobalnu premennu definovanu mimo svojho tela (vysvetlim)\n",
    "* Da sa to pouzit napriklad na asynchronne programovanie pomocou callbackov (spatne volanie?).\n",
    "* prevzane z: Ramalho, Luciano. *Fluent Python.* O'Reilly Media, 2015."
   ]
  },
  {
   "cell_type": "markdown",
   "metadata": {
    "slideshow": {
     "slide_type": "slide"
    }
   },
   "source": [
    "# Rozsah platnosti premennych\n"
   ]
  },
  {
   "cell_type": "code",
   "execution_count": 2,
   "metadata": {
    "slideshow": {
     "slide_type": "slide"
    }
   },
   "outputs": [
    {
     "name": "stdout",
     "output_type": "stream",
     "text": [
      "3\n"
     ]
    },
    {
     "ename": "NameError",
     "evalue": "name 'b' is not defined",
     "output_type": "error",
     "traceback": [
      "\u001b[0;31m---------------------------------------------------------------------------\u001b[0m",
      "\u001b[0;31mNameError\u001b[0m                                 Traceback (most recent call last)",
      "\u001b[0;32m<ipython-input-2-009ad9378744>\u001b[0m in \u001b[0;36m<module>\u001b[0;34m()\u001b[0m\n\u001b[1;32m      3\u001b[0m     \u001b[0mprint\u001b[0m\u001b[0;34m(\u001b[0m\u001b[0mb\u001b[0m\u001b[0;34m)\u001b[0m\u001b[0;34m\u001b[0m\u001b[0m\n\u001b[1;32m      4\u001b[0m \u001b[0;34m\u001b[0m\u001b[0m\n\u001b[0;32m----> 5\u001b[0;31m \u001b[0mf1\u001b[0m\u001b[0;34m(\u001b[0m\u001b[0;36m3\u001b[0m\u001b[0;34m)\u001b[0m\u001b[0;34m\u001b[0m\u001b[0m\n\u001b[0m",
      "\u001b[0;32m<ipython-input-2-009ad9378744>\u001b[0m in \u001b[0;36mf1\u001b[0;34m(a)\u001b[0m\n\u001b[1;32m      1\u001b[0m \u001b[0;32mdef\u001b[0m \u001b[0mf1\u001b[0m\u001b[0;34m(\u001b[0m\u001b[0ma\u001b[0m\u001b[0;34m)\u001b[0m\u001b[0;34m:\u001b[0m\u001b[0;34m\u001b[0m\u001b[0m\n\u001b[1;32m      2\u001b[0m     \u001b[0mprint\u001b[0m\u001b[0;34m(\u001b[0m\u001b[0ma\u001b[0m\u001b[0;34m)\u001b[0m\u001b[0;34m\u001b[0m\u001b[0m\n\u001b[0;32m----> 3\u001b[0;31m     \u001b[0mprint\u001b[0m\u001b[0;34m(\u001b[0m\u001b[0mb\u001b[0m\u001b[0;34m)\u001b[0m\u001b[0;34m\u001b[0m\u001b[0m\n\u001b[0m\u001b[1;32m      4\u001b[0m \u001b[0;34m\u001b[0m\u001b[0m\n\u001b[1;32m      5\u001b[0m \u001b[0mf1\u001b[0m\u001b[0;34m(\u001b[0m\u001b[0;36m3\u001b[0m\u001b[0;34m)\u001b[0m\u001b[0;34m\u001b[0m\u001b[0m\n",
      "\u001b[0;31mNameError\u001b[0m: name 'b' is not defined"
     ]
    }
   ],
   "source": [
    "def f1(a):\n",
    "    print(a)\n",
    "    print(b)\n",
    "\n",
    "f1(3)"
   ]
  },
  {
   "cell_type": "code",
   "execution_count": 3,
   "metadata": {
    "slideshow": {
     "slide_type": "slide"
    }
   },
   "outputs": [
    {
     "name": "stdout",
     "output_type": "stream",
     "text": [
      "3\n",
      "6\n"
     ]
    }
   ],
   "source": [
    "b = 6\n",
    "f1(3)"
   ]
  },
  {
   "cell_type": "markdown",
   "metadata": {
    "slideshow": {
     "slide_type": "slide"
    }
   },
   "source": [
    "# Funkcia vie citat premennu definovanu mimo svojho tela"
   ]
  },
  {
   "cell_type": "code",
   "execution_count": 4,
   "metadata": {},
   "outputs": [
    {
     "name": "stdout",
     "output_type": "stream",
     "text": [
      "3\n",
      "6\n"
     ]
    }
   ],
   "source": [
    "b = 6\n",
    "\n",
    "def f1(a):\n",
    "    print(a)\n",
    "    print(b)\n",
    "\n",
    "f1(3)"
   ]
  },
  {
   "cell_type": "code",
   "execution_count": 7,
   "metadata": {
    "slideshow": {
     "slide_type": "slide"
    }
   },
   "outputs": [
    {
     "name": "stdout",
     "output_type": "stream",
     "text": [
      "3\n"
     ]
    },
    {
     "ename": "UnboundLocalError",
     "evalue": "local variable 'b' referenced before assignment",
     "output_type": "error",
     "traceback": [
      "\u001b[0;31m---------------------------------------------------------------------------\u001b[0m",
      "\u001b[0;31mUnboundLocalError\u001b[0m                         Traceback (most recent call last)",
      "\u001b[0;32m<ipython-input-7-df5dc1335d1e>\u001b[0m in \u001b[0;36m<module>\u001b[0;34m()\u001b[0m\n\u001b[1;32m      6\u001b[0m \u001b[0;34m\u001b[0m\u001b[0m\n\u001b[1;32m      7\u001b[0m \u001b[0;34m\u001b[0m\u001b[0m\n\u001b[0;32m----> 8\u001b[0;31m \u001b[0mf2\u001b[0m\u001b[0;34m(\u001b[0m\u001b[0;36m3\u001b[0m\u001b[0;34m)\u001b[0m\u001b[0;34m\u001b[0m\u001b[0m\n\u001b[0m\u001b[1;32m      9\u001b[0m \u001b[0mprint\u001b[0m\u001b[0;34m(\u001b[0m\u001b[0mb\u001b[0m\u001b[0;34m)\u001b[0m\u001b[0;34m\u001b[0m\u001b[0m\n",
      "\u001b[0;32m<ipython-input-7-df5dc1335d1e>\u001b[0m in \u001b[0;36mf2\u001b[0;34m(a)\u001b[0m\n\u001b[1;32m      2\u001b[0m \u001b[0;32mdef\u001b[0m \u001b[0mf2\u001b[0m\u001b[0;34m(\u001b[0m\u001b[0ma\u001b[0m\u001b[0;34m)\u001b[0m\u001b[0;34m:\u001b[0m\u001b[0;34m\u001b[0m\u001b[0m\n\u001b[1;32m      3\u001b[0m     \u001b[0mprint\u001b[0m\u001b[0;34m(\u001b[0m\u001b[0ma\u001b[0m\u001b[0;34m)\u001b[0m\u001b[0;34m\u001b[0m\u001b[0m\n\u001b[0;32m----> 4\u001b[0;31m     \u001b[0mprint\u001b[0m\u001b[0;34m(\u001b[0m\u001b[0mb\u001b[0m\u001b[0;34m)\u001b[0m\u001b[0;34m\u001b[0m\u001b[0m\n\u001b[0m\u001b[1;32m      5\u001b[0m     \u001b[0mb\u001b[0m \u001b[0;34m=\u001b[0m \u001b[0;36m9\u001b[0m\u001b[0;34m\u001b[0m\u001b[0m\n\u001b[1;32m      6\u001b[0m \u001b[0;34m\u001b[0m\u001b[0m\n",
      "\u001b[0;31mUnboundLocalError\u001b[0m: local variable 'b' referenced before assignment"
     ]
    }
   ],
   "source": [
    "b = 6\n",
    "def f2(a):\n",
    "    print(a)    \n",
    "    print(b)\n",
    "    b = 9\n",
    "    \n",
    "    \n",
    "f2(3)\n",
    "print(b)"
   ]
  },
  {
   "cell_type": "code",
   "execution_count": null,
   "metadata": {
    "slideshow": {
     "slide_type": "slide"
    }
   },
   "outputs": [],
   "source": [
    "b = 6\n",
    "def f2(a):\n",
    "    print(a)\n",
    "    print(b) # tuna nevypisujeme obsah premennej z prveho riadku ale tej, ktora je az na dalsom riadku. To logicky nemoze prejst\n",
    "    b = 9 # akonahle raz vo funkcii priradujete do premennej, tak sa vytvori nova, lokalna pri kompilacii do bitekodu.\n",
    "    \n",
    "f2(3)"
   ]
  },
  {
   "cell_type": "markdown",
   "metadata": {
    "slideshow": {
     "slide_type": "slide"
    }
   },
   "source": [
    "# Python nedovoli menit (len citat) hodnotu premennej, ktora nie je lokalna\n",
    "Python nevyzaduje deklaraciu premennych ale predpoklada, ze premenna priradena v tele funkcie je lokalna.\n",
    "\n",
    "JavaScript napriklad vyzaduje deklaraciu lokalnych premennych pomocou `var`. Ak na to zabudente, tak nic nepredpokalda a pokusi sa hladat premennu medzi globalnymi. Toto casto sposobuje bugy."
   ]
  },
  {
   "cell_type": "markdown",
   "metadata": {
    "slideshow": {
     "slide_type": "slide"
    }
   },
   "source": [
    "# Ak chcete vo funkcii priradit hodnotu premennej definovanej mimo nej, musite z nej spravit globalnu premennu"
   ]
  },
  {
   "cell_type": "code",
   "execution_count": 8,
   "metadata": {},
   "outputs": [
    {
     "name": "stdout",
     "output_type": "stream",
     "text": [
      "3\n",
      "6\n",
      "9\n"
     ]
    }
   ],
   "source": [
    "b = 6\n",
    "def f3(a):\n",
    "    global b\n",
    "    print(a)\n",
    "    print(b)\n",
    "    b = 9\n",
    "    \n",
    "f3(3)\n",
    "print(b)"
   ]
  },
  {
   "cell_type": "markdown",
   "metadata": {
    "slideshow": {
     "slide_type": "slide"
    }
   },
   "source": [
    "# Ale my globalne premenne nemame radi. Takze toto nebudeme pouzivat"
   ]
  },
  {
   "cell_type": "markdown",
   "metadata": {
    "slideshow": {
     "slide_type": "slide"
    }
   },
   "source": [
    "# Co si zapamatat o rozsahu platnosti premennych?\n",
    "\n",
    "* funkcia vie citat premenne definovane mimo svojho tela\n",
    "* tieto premenne ale nevie menit.\n",
    "* ak by ich chcela menit, tak pri kompilacii do bitekodu sa vytvori lokalna premenna a ak ju pouzijeme skor ako jej priradime hodnotu, tak mame problem\n",
    "* teoreticky mozeme pouzit globalnu premennu, ale my nechceme"
   ]
  },
  {
   "cell_type": "markdown",
   "metadata": {
    "slideshow": {
     "slide_type": "slide"
    }
   },
   "source": [
    "# Dalsia vec, ktoru si potrebujeme vysvetlit na to aby sme spravili closure su vnorene funkcie"
   ]
  },
  {
   "cell_type": "markdown",
   "metadata": {
    "slideshow": {
     "slide_type": "slide"
    }
   },
   "source": [
    "# Ano, funkcie sa daju definovat vo vnutri inej funkcie"
   ]
  },
  {
   "cell_type": "code",
   "execution_count": 9,
   "metadata": {},
   "outputs": [],
   "source": [
    "def outer():\n",
    "    def inner(a):\n",
    "        return a + 7\n",
    "    return inner"
   ]
  },
  {
   "cell_type": "markdown",
   "metadata": {
    "slideshow": {
     "slide_type": "slide"
    }
   },
   "source": [
    "# Vnutorna funkcia nie je z vonka dostupna. Existuje len v ramci tela vonkajsej funkcie. Teda pokial ju nevratime ako navratovu hodnotu."
   ]
  },
  {
   "cell_type": "code",
   "execution_count": 10,
   "metadata": {},
   "outputs": [],
   "source": [
    "def outer():\n",
    "    def inner(a):\n",
    "        return a + 7\n",
    "    return inner"
   ]
  },
  {
   "cell_type": "code",
   "execution_count": 11,
   "metadata": {},
   "outputs": [
    {
     "ename": "NameError",
     "evalue": "name 'inner' is not defined",
     "output_type": "error",
     "traceback": [
      "\u001b[0;31m---------------------------------------------------------------------------\u001b[0m",
      "\u001b[0;31mNameError\u001b[0m                                 Traceback (most recent call last)",
      "\u001b[0;32m<ipython-input-11-2da8fe5bb8bd>\u001b[0m in \u001b[0;36m<module>\u001b[0;34m()\u001b[0m\n\u001b[0;32m----> 1\u001b[0;31m \u001b[0minner\u001b[0m\u001b[0;34m(\u001b[0m\u001b[0;36m3\u001b[0m\u001b[0;34m)\u001b[0m \u001b[0;31m# zvonka funkcia nieje dostupna a je teda chranena (nikto k nej nemoze a nezaspini nam priestor mien)\u001b[0m\u001b[0;34m\u001b[0m\u001b[0m\n\u001b[0m",
      "\u001b[0;31mNameError\u001b[0m: name 'inner' is not defined"
     ]
    }
   ],
   "source": [
    "inner(3) # zvonka funkcia nieje dostupna a je teda chranena (nikto k nej nemoze a nezaspini nam priestor mien)"
   ]
  },
  {
   "cell_type": "code",
   "execution_count": 13,
   "metadata": {
    "slideshow": {
     "slide_type": "slide"
    }
   },
   "outputs": [
    {
     "data": {
      "text/plain": [
       "11"
      ]
     },
     "execution_count": 13,
     "metadata": {},
     "output_type": "execute_result"
    }
   ],
   "source": [
    "pom = outer()\n",
    "pom(4)"
   ]
  },
  {
   "cell_type": "markdown",
   "metadata": {
    "slideshow": {
     "slide_type": "slide"
    }
   },
   "source": [
    "# Na co su vnorene funkcie dobre?\n",
    "* Hlavne skryvaju implementaciu funkcie pred okolim\n",
    "* Umoznuju definovanie komplexnej logiky a mnozstva pomocnych funkcii zatial co zvonka bude dostupna len jedina.\n",
    "* Nemusite tak definovat zbytocne vela \"privatnych\" funkcii\n",
    "* V pythone ani privatne funkcie nie su, takze toto je jediny sposob ako skryt pomocne funkcie pred svetom\n",
    "* Privatne funkcie v pythone su riesene len konvenciou (funkcie s nazvom zacinajucim na jeden _ su dohodou povazovane za privatne)"
   ]
  },
  {
   "cell_type": "markdown",
   "metadata": {
    "slideshow": {
     "slide_type": "slide"
    }
   },
   "source": [
    "# Napriklad ak sa vam opakuje rovnaka postupnost riadkov, tak ju vyjmete do funkcie ale ak je tato zbytocna pre ine funkie, tak zvonka vobec nemusi byt dostupna\n",
    "\n",
    "tj. kalsicky princip privatnej pomocnej funkcie"
   ]
  },
  {
   "cell_type": "code",
   "execution_count": null,
   "metadata": {
    "slideshow": {
     "slide_type": "slide"
    }
   },
   "outputs": [],
   "source": [
    "# Vnorena funkcia pouzita na spracovanie suboru alebo cesty k suboru\n",
    "def process(file_name):\n",
    "    def do_stuff(file_process):\n",
    "        for line in file_process:\n",
    "            print(line)\n",
    "            \n",
    "    if isinstance(file_name, str):\n",
    "        with open(file_name, 'r') as f:\n",
    "            do_stuff(f)\n",
    "    else:\n",
    "        do_stuff(file_name)"
   ]
  },
  {
   "cell_type": "markdown",
   "metadata": {
    "slideshow": {
     "slide_type": "slide"
    }
   },
   "source": [
    "# Daju sa pouzit napriklad na kontrolu vstupov odelenu od samotenho vypoctu"
   ]
  },
  {
   "cell_type": "code",
   "execution_count": 14,
   "metadata": {},
   "outputs": [
    {
     "name": "stdout",
     "output_type": "stream",
     "text": [
      "24\n"
     ]
    }
   ],
   "source": [
    "# https://realpython.com/blog/python/inner-functions-what-are-they-good-for/\n",
    "def factorial(number):\n",
    "\n",
    "    # error handling\n",
    "    if not isinstance(number, int):\n",
    "        raise TypeError(\"Sorry. 'number' must be an integer.\")\n",
    "    if not number >= 0:\n",
    "        raise ValueError(\"Sorry. 'number' must be zero or positive.\")\n",
    "\n",
    "    # logika spracovania je pekne sustredena na jednom mieste\n",
    "    def inner_factorial(number):\n",
    "        if number <= 1:\n",
    "            return 1\n",
    "        return number*inner_factorial(number-1)\n",
    "    return inner_factorial(number)\n",
    "\n",
    "# call the outer function\n",
    "print(factorial(4))"
   ]
  },
  {
   "cell_type": "markdown",
   "metadata": {
    "slideshow": {
     "slide_type": "slide"
    }
   },
   "source": [
    "# Takze co je to teda ten uzaver?\n",
    "\n",
    "Funkcia, ktora pouziva neglobalnu premennu definovanu mimo svojho tela\n",
    "\n",
    "## Naco?\n",
    "1. Specializovanie vseobecnej funkcie (Partial function application)\n",
    "2. Udrziavanie stavu medzi volaniami funkcie\n",
    "\n",
    "> Ano, bude to spinava funkcia\n",
    "\n",
    "> Obcas sa ale uchovavaniu stavu nevyhneme\n",
    "\n",
    "> Ideme spravit funkcionalny sposob ako si uchovavat stav\n",
    "\n",
    "> Chcem ukazat ako sa daju funkcionalne crty pouzit na vylepsenie imperativneho kodu\n",
    "\n"
   ]
  },
  {
   "cell_type": "markdown",
   "metadata": {
    "slideshow": {
     "slide_type": "slide"
    }
   },
   "source": [
    "## Specializovanie vseobecnej funkcie (Partial function application)\n",
    "\n",
    "Teraz len jeden priklad. Poriadne sa tomu budem venovat neskor"
   ]
  },
  {
   "cell_type": "code",
   "execution_count": 15,
   "metadata": {},
   "outputs": [],
   "source": [
    "def make_power(a):\n",
    "    def power(b):\n",
    "        return b ** a\n",
    "    return power"
   ]
  },
  {
   "cell_type": "code",
   "execution_count": 19,
   "metadata": {},
   "outputs": [
    {
     "data": {
      "text/plain": [
       "9"
      ]
     },
     "execution_count": 19,
     "metadata": {},
     "output_type": "execute_result"
    }
   ],
   "source": [
    "square = make_power(2)\n",
    "square(3)"
   ]
  },
  {
   "cell_type": "markdown",
   "metadata": {
    "slideshow": {
     "slide_type": "slide"
    }
   },
   "source": [
    "Mame operaciu, ktora vyzaduje 2 parametre. Zafixovanim jedneho z nich vytvorime funkciu, ktora uz vyzaduje len jeden. "
   ]
  },
  {
   "cell_type": "markdown",
   "metadata": {
    "slideshow": {
     "slide_type": "slide"
    }
   },
   "source": [
    "## Udrziavanie stavu medzi volaniami funkcie - Ako?\n",
    "* Funkcia vracajuca vnorenu funkciu, ktora vyuziva lokalnu premennu na udrziavanie stavu.\n",
    "\n",
    "* Predstavte si takuto ulohu:\n",
    "\n",
    "> Chceme funkciu, ktora bude pocitat priemer stale rastuceho poctu cisel.\n",
    "\n",
    "> Poziadavka je aby sme to vedeli spravit v jednom prechode cez data nad potencialne nekonecnou sekvenciou dat.\n",
    "\n",
    ">> Jedna moznost je generator, druha je uzaver"
   ]
  },
  {
   "cell_type": "markdown",
   "metadata": {
    "slideshow": {
     "slide_type": "slide"
    }
   },
   "source": [
    "# Chceme funkciu, ktoru budeme opakovane volat s dalsim a dalsim cislom a vracat nam to bude vzdy aktualny priemer vsetkych doterajsich cisel"
   ]
  },
  {
   "cell_type": "code",
   "execution_count": null,
   "metadata": {},
   "outputs": [],
   "source": [
    "# zatial nespustat. avg nie je definovane\n",
    "avg(10)\n",
    "# 10.0\n",
    "avg(11)\n",
    "# 10.5\n",
    "avg(12)\n",
    "# 11"
   ]
  },
  {
   "cell_type": "markdown",
   "metadata": {
    "slideshow": {
     "slide_type": "slide"
    }
   },
   "source": [
    "# Na vypocet potrebujeme uchovavat stav: sumu a pocet hodnot. Kde sa uklada stav?\n",
    "* V globalnej premennej? Nie, nechceme si zapratat priestor mien nejakymi nahodnymi premennymi, ktore by nam mohol hocikto prepisat.\n",
    "* Potrebuje nieco, co nam tie premenne schova."
   ]
  },
  {
   "cell_type": "markdown",
   "metadata": {
    "slideshow": {
     "slide_type": "slide"
    }
   },
   "source": [
    "# Nieco taketo by sa dalo implementovat pomocou uzaveru"
   ]
  },
  {
   "cell_type": "code",
   "execution_count": 20,
   "metadata": {},
   "outputs": [],
   "source": [
    "# Prvy pokus\n",
    "def make_averager():\n",
    "    series = [] # tato premenna je platna len vo funkcii make_averager. Je pre nu lokalna. Mimo nej neexistuje.\n",
    "    def averager(new_value):\n",
    "        series.append(new_value) # vieme pristupit k premennej definovanej vyssie. \n",
    "        # Kedze list je mutable, tak ho vieme aj zmenit. Pozor, nemenime referenciu na premennu, menime objekt! \n",
    "        # Aby sme menili referenciu/premennu, tak by tu muselo byt = \n",
    "        total = sum(series)\n",
    "        return total/len(series)\n",
    "    return averager"
   ]
  },
  {
   "cell_type": "code",
   "execution_count": 21,
   "metadata": {
    "slideshow": {
     "slide_type": "slide"
    }
   },
   "outputs": [
    {
     "name": "stdout",
     "output_type": "stream",
     "text": [
      "10.0\n",
      "10.5\n",
      "11.0\n"
     ]
    }
   ],
   "source": [
    "avg = make_averager()\n",
    "print(avg(10))\n",
    "print(avg(11))\n",
    "print(avg(12))"
   ]
  },
  {
   "cell_type": "markdown",
   "metadata": {
    "slideshow": {
     "slide_type": "slide"
    }
   },
   "source": [
    "Obalujuca funkcia definuje rozsah platnosti lokalnych premennych. Po skonceni vykonavania uz na ne neexistuje referencia. Okrem tej, ktora sa vrati ako navratova hodnota. Co je zhodou okolnosti funkcia, ktora jednu z lokalnych premennych pouziva. Tato premenna sa vola **volna premenna**, kedze na nu neexistuje ziadna ina referencia."
   ]
  },
  {
   "cell_type": "markdown",
   "metadata": {
    "slideshow": {
     "slide_type": "-"
    }
   },
   "source": [
    "![closure](img/closure.png)"
   ]
  },
  {
   "cell_type": "markdown",
   "metadata": {
    "slideshow": {
     "slide_type": "slide"
    }
   },
   "source": [
    "# Aj ked k volnej premennej sa este da dostat\n",
    "\n",
    "Kedze v pythone nie je slovicko private a vsetka kontrola pristupu je len na konvecnii, tak by ste sa toho nemali chytat. Na debugovanie a testovanie je to ale celkom dobre vediet."
   ]
  },
  {
   "cell_type": "code",
   "execution_count": 22,
   "metadata": {},
   "outputs": [
    {
     "data": {
      "text/plain": [
       "<function __main__.make_averager.<locals>.averager>"
      ]
     },
     "execution_count": 22,
     "metadata": {},
     "output_type": "execute_result"
    }
   ],
   "source": [
    "avg\n",
    "# je to funkcia, ktora je definovana vo funkcii make_averager ako lokalna premenna s nazvom averager"
   ]
  },
  {
   "cell_type": "markdown",
   "metadata": {
    "slideshow": {
     "slide_type": "slide"
    }
   },
   "source": [
    "# Da sa pristupit k nazvom premennych a aj volnych premennych"
   ]
  },
  {
   "cell_type": "code",
   "execution_count": 23,
   "metadata": {},
   "outputs": [
    {
     "name": "stdout",
     "output_type": "stream",
     "text": [
      "('new_value', 'total')\n",
      "('series',)\n"
     ]
    }
   ],
   "source": [
    "print(avg.__code__.co_varnames)\n",
    "print(avg.__code__.co_freevars)"
   ]
  },
  {
   "cell_type": "markdown",
   "metadata": {
    "slideshow": {
     "slide_type": "slide"
    }
   },
   "source": [
    "# A aj k ich hodnotam"
   ]
  },
  {
   "cell_type": "code",
   "execution_count": 24,
   "metadata": {},
   "outputs": [
    {
     "name": "stdout",
     "output_type": "stream",
     "text": [
      "(<cell at 0x7efe804dabb8: list object at 0x7efe803f3988>,)\n",
      "[10, 11, 12]\n"
     ]
    }
   ],
   "source": [
    "print(avg.__closure__)\n",
    "print(avg.__closure__[0].cell_contents) # tato hodnota sa da aj zmenit, ale nerobte to."
   ]
  },
  {
   "cell_type": "markdown",
   "metadata": {
    "slideshow": {
     "slide_type": "slide"
    }
   },
   "source": [
    "# Na spocitanie priemeru nepotrebujeme cely zoznam. Staci nam suma a pocet.\n",
    "## Tento priklad je ale pokazeny. Kto vie preco? Uz som to naznacil viac krat."
   ]
  },
  {
   "cell_type": "code",
   "execution_count": 25,
   "metadata": {},
   "outputs": [],
   "source": [
    "def make_averager():\n",
    "    count = 0\n",
    "    total = 0\n",
    "    def averager(new_value):\n",
    "        count += 1\n",
    "        total += new_value\n",
    "        return total / count\n",
    "    return averager"
   ]
  },
  {
   "cell_type": "code",
   "execution_count": 26,
   "metadata": {
    "slideshow": {
     "slide_type": "slide"
    }
   },
   "outputs": [
    {
     "ename": "UnboundLocalError",
     "evalue": "local variable 'count' referenced before assignment",
     "output_type": "error",
     "traceback": [
      "\u001b[0;31m---------------------------------------------------------------------------\u001b[0m",
      "\u001b[0;31mUnboundLocalError\u001b[0m                         Traceback (most recent call last)",
      "\u001b[0;32m<ipython-input-26-4fe265be513b>\u001b[0m in \u001b[0;36m<module>\u001b[0;34m()\u001b[0m\n\u001b[1;32m      1\u001b[0m \u001b[0mavg\u001b[0m \u001b[0;34m=\u001b[0m \u001b[0mmake_averager\u001b[0m\u001b[0;34m(\u001b[0m\u001b[0;34m)\u001b[0m\u001b[0;34m\u001b[0m\u001b[0m\n\u001b[0;32m----> 2\u001b[0;31m \u001b[0mavg\u001b[0m\u001b[0;34m(\u001b[0m\u001b[0;36m10\u001b[0m\u001b[0;34m)\u001b[0m\u001b[0;34m\u001b[0m\u001b[0m\n\u001b[0m",
      "\u001b[0;32m<ipython-input-25-4e3013e70d95>\u001b[0m in \u001b[0;36maverager\u001b[0;34m(new_value)\u001b[0m\n\u001b[1;32m      3\u001b[0m     \u001b[0mtotal\u001b[0m \u001b[0;34m=\u001b[0m \u001b[0;36m0\u001b[0m\u001b[0;34m\u001b[0m\u001b[0m\n\u001b[1;32m      4\u001b[0m     \u001b[0;32mdef\u001b[0m \u001b[0maverager\u001b[0m\u001b[0;34m(\u001b[0m\u001b[0mnew_value\u001b[0m\u001b[0;34m)\u001b[0m\u001b[0;34m:\u001b[0m\u001b[0;34m\u001b[0m\u001b[0m\n\u001b[0;32m----> 5\u001b[0;31m         \u001b[0mcount\u001b[0m \u001b[0;34m+=\u001b[0m \u001b[0;36m1\u001b[0m\u001b[0;34m\u001b[0m\u001b[0m\n\u001b[0m\u001b[1;32m      6\u001b[0m         \u001b[0mtotal\u001b[0m \u001b[0;34m+=\u001b[0m \u001b[0mnew_value\u001b[0m\u001b[0;34m\u001b[0m\u001b[0m\n\u001b[1;32m      7\u001b[0m         \u001b[0;32mreturn\u001b[0m \u001b[0mtotal\u001b[0m \u001b[0;34m/\u001b[0m \u001b[0mcount\u001b[0m\u001b[0;34m\u001b[0m\u001b[0m\n",
      "\u001b[0;31mUnboundLocalError\u001b[0m: local variable 'count' referenced before assignment"
     ]
    }
   ],
   "source": [
    "avg = make_averager()\n",
    "avg(10)"
   ]
  },
  {
   "cell_type": "markdown",
   "metadata": {
    "slideshow": {
     "slide_type": "slide"
    }
   },
   "source": [
    "# += je vlastne priradenie a teda spravi z premennych count a total lokalne premenne, pricom ich chce hned predtym aj pouzit\n",
    "\n",
    "Pripominam, ze predchadzajuci priklad nepriradzoval do premennej, len upravoval mutable objekt."
   ]
  },
  {
   "cell_type": "markdown",
   "metadata": {
    "slideshow": {
     "slide_type": "slide"
    }
   },
   "source": [
    "# Podobne ako uplne na zaciatku bol riesenim prikaz `global`, teraz to bude `nonlocal`"
   ]
  },
  {
   "cell_type": "code",
   "execution_count": 27,
   "metadata": {},
   "outputs": [],
   "source": [
    "def make_averager():\n",
    "    count = 0\n",
    "    total = 0\n",
    "    def averager(new_value):\n",
    "        nonlocal count, total # tieto dve premenne teda nebudu lokalne v ramci funkcie averager \n",
    "        # ale sa zoberu z funkcie o uroven vyssie\n",
    "        count += 1\n",
    "        total += new_value\n",
    "        return total / count\n",
    "    return averager"
   ]
  },
  {
   "cell_type": "code",
   "execution_count": 28,
   "metadata": {},
   "outputs": [
    {
     "data": {
      "text/plain": [
       "10.0"
      ]
     },
     "execution_count": 28,
     "metadata": {},
     "output_type": "execute_result"
    }
   ],
   "source": [
    "avg = make_averager()\n",
    "avg(10)"
   ]
  },
  {
   "cell_type": "markdown",
   "metadata": {
    "slideshow": {
     "slide_type": "slide"
    }
   },
   "source": [
    "# Minule som vam slubil vysvetlenie ako opravit jeden hack\n",
    "Mali sme kod, ktory meral mnozstvo pamati spotrebovanej pri pocitani s generatorom a bez neho.\n",
    "Funkcia measure_add mala vedlajsi efekt, ktory vypisoval spotrebu pamati kazdych 200 000 volani. Potrebovala teda pocitadlo, ktore si uchovavalo stav medzi volaniami. Pouzili sme mutable objekt na to aby sme nemuseli pouzit priradovanie a nesnazili sa pristupit k premennej pred jej definicou alebo aby sme nedefinovali globalnu premennu."
   ]
  },
  {
   "cell_type": "code",
   "execution_count": 29,
   "metadata": {
    "slideshow": {
     "slide_type": "slide"
    }
   },
   "outputs": [],
   "source": [
    "from functools import reduce\n",
    "import gc\n",
    "import os\n",
    "import psutil\n",
    "process = psutil.Process(os.getpid())\n",
    "\n",
    "def print_memory_usage():\n",
    "    print(process.memory_info().rss)\n",
    "    \n",
    "counter = [0] # Toto je ten globalny mutable objekt \n",
    "def measure_add(a, result, counter=counter):\n",
    "    if counter[0] % 200000 == 0:\n",
    "        print_memory_usage()\n",
    "    counter[0] = counter[0] + 1\n",
    "    return a + result"
   ]
  },
  {
   "cell_type": "code",
   "execution_count": 30,
   "metadata": {
    "slideshow": {
     "slide_type": "slide"
    }
   },
   "outputs": [
    {
     "name": "stdout",
     "output_type": "stream",
     "text": [
      "58834944\n",
      "100282368\n",
      "100282368\n",
      "100282368\n",
      "100282368\n",
      "100282368\n",
      "333332833333500000\n"
     ]
    }
   ],
   "source": [
    "gc.collect()\n",
    "counter[0] = 0\n",
    "print_memory_usage()\n",
    "print(reduce(measure_add, [x*x for x in range(1000000)]))"
   ]
  },
  {
   "cell_type": "markdown",
   "metadata": {
    "slideshow": {
     "slide_type": "slide"
    }
   },
   "source": [
    "# Ako tento hack opravit?\n",
    "\n",
    "1. zabalime to cele do funkcie\n",
    "2. zmenime mutable objekt za immutable\n",
    "3. definujeme nonlokalnu premennu\n",
    "4. vratime vnutornu funkciu"
   ]
  },
  {
   "cell_type": "code",
   "execution_count": 33,
   "metadata": {},
   "outputs": [],
   "source": [
    "counter = [0] # Toto je ten globalny mutable objekt \n",
    "def measure_add(a, result, counter=counter):\n",
    "    if counter[0] % 200000 == 0:\n",
    "        print_memory_usage()\n",
    "    counter[0] = counter[0] + 1\n",
    "    return a + result"
   ]
  },
  {
   "cell_type": "code",
   "execution_count": 34,
   "metadata": {
    "slideshow": {
     "slide_type": "slide"
    }
   },
   "outputs": [],
   "source": [
    "# toto tu mam len pre kontrolu, aby som nespravil chybu\n",
    "def make_adder():\n",
    "    counter = 0\n",
    "    def measure_add(a, result):\n",
    "        nonlocal counter\n",
    "        if counter % 2000000 == 0:\n",
    "            print_memory_usage()\n",
    "        counter += 1\n",
    "        return a+result\n",
    "    return measure_add"
   ]
  },
  {
   "cell_type": "markdown",
   "metadata": {
    "slideshow": {
     "slide_type": "slide"
    }
   },
   "source": [
    "# A teraz to vyskusame"
   ]
  },
  {
   "cell_type": "code",
   "execution_count": 35,
   "metadata": {},
   "outputs": [
    {
     "name": "stdout",
     "output_type": "stream",
     "text": [
      "60051456\n",
      "472342528\n",
      "472342528\n",
      "472342528\n",
      "472342528\n",
      "472342528\n",
      "333333283333335000000\n"
     ]
    }
   ],
   "source": [
    "measure_add = make_adder()\n",
    "gc.collect()\n",
    "print_memory_usage()\n",
    "print(reduce(measure_add, [x*x for x in range(10000000)]))"
   ]
  },
  {
   "cell_type": "markdown",
   "metadata": {
    "slideshow": {
     "slide_type": "slide"
    }
   },
   "source": [
    "# Pomocou Closure sa da vytvorit napriklad aj jednoducha trieda"
   ]
  },
  {
   "cell_type": "code",
   "execution_count": 36,
   "metadata": {},
   "outputs": [],
   "source": [
    "class A:\n",
    "    def __init__(self, x):\n",
    "        self._x = x\n",
    "        \n",
    "    def incr(self):\n",
    "        self._x += 1\n",
    "        return self._x\n",
    "    \n",
    "obj = A(0)"
   ]
  },
  {
   "cell_type": "code",
   "execution_count": 39,
   "metadata": {},
   "outputs": [
    {
     "data": {
      "text/plain": [
       "3"
      ]
     },
     "execution_count": 39,
     "metadata": {},
     "output_type": "execute_result"
    }
   ],
   "source": [
    "obj.incr()"
   ]
  },
  {
   "cell_type": "markdown",
   "metadata": {
    "slideshow": {
     "slide_type": "slide"
    }
   },
   "source": [
    "# Pomocou closure napriklad takto"
   ]
  },
  {
   "cell_type": "code",
   "execution_count": 40,
   "metadata": {},
   "outputs": [],
   "source": [
    "def A(x):\n",
    "    def incr():\n",
    "        nonlocal x\n",
    "        x +=1\n",
    "        return x\n",
    "    return incr\n",
    "\n",
    "obj = A(0)"
   ]
  },
  {
   "cell_type": "code",
   "execution_count": 45,
   "metadata": {},
   "outputs": [
    {
     "data": {
      "text/plain": [
       "5"
      ]
     },
     "execution_count": 45,
     "metadata": {},
     "output_type": "execute_result"
    }
   ],
   "source": [
    "obj()"
   ]
  },
  {
   "cell_type": "markdown",
   "metadata": {
    "slideshow": {
     "slide_type": "slide"
    }
   },
   "source": [
    "# Ale mohol by som vracat aj viac \"metod\""
   ]
  },
  {
   "cell_type": "code",
   "execution_count": 46,
   "metadata": {},
   "outputs": [],
   "source": [
    "def A(x):\n",
    "    def incr():\n",
    "        nonlocal x\n",
    "        x +=1\n",
    "        return x\n",
    "    \n",
    "    def twice():\n",
    "        incr()\n",
    "        incr()\n",
    "        return x\n",
    "    return {'incr': incr, 'twice':twice}\n",
    "obj = A(0)"
   ]
  },
  {
   "cell_type": "code",
   "execution_count": 50,
   "metadata": {},
   "outputs": [
    {
     "data": {
      "text/plain": [
       "4"
      ]
     },
     "execution_count": 50,
     "metadata": {},
     "output_type": "execute_result"
    }
   ],
   "source": [
    "obj['incr']()\n",
    "# obj['twice']()"
   ]
  },
  {
   "cell_type": "markdown",
   "metadata": {
    "slideshow": {
     "slide_type": "slide"
    }
   },
   "source": [
    "# A aby bolo to volanie krajsie, tak mozem spravit nieco taketo\n",
    "dalo by sa to aj krajsie, ale bol som lenivy :)"
   ]
  },
  {
   "cell_type": "code",
   "execution_count": 51,
   "metadata": {},
   "outputs": [],
   "source": [
    "import pyrsistent as ps\n",
    "def A(x):\n",
    "    def incr():\n",
    "        nonlocal x\n",
    "        x +=1\n",
    "        return x\n",
    "    \n",
    "    def twice():\n",
    "        incr()\n",
    "        incr()\n",
    "        return x\n",
    "    \n",
    "    return ps.freeze({'incr': incr, 'twice':twice})\n",
    "obj = A(0)"
   ]
  },
  {
   "cell_type": "code",
   "execution_count": 55,
   "metadata": {},
   "outputs": [
    {
     "data": {
      "text/plain": [
       "5"
      ]
     },
     "execution_count": 55,
     "metadata": {},
     "output_type": "execute_result"
    }
   ],
   "source": [
    "obj.incr()\n",
    "# obj.twice()"
   ]
  },
  {
   "cell_type": "markdown",
   "metadata": {
    "slideshow": {
     "slide_type": "slide"
    }
   },
   "source": [
    "# V skutocnosti su uzaver a objekt vytvoreny z triedy ekvivalentne\n",
    "\n",
    "http://c2.com/cgi/wiki?ClosuresAndObjectsAreEquivalent\n",
    "\n",
    "The venerable master Qc Na was walking with his student, Anton. Hoping to prompt the master into a discussion, Anton said \"Master, I have heard that objects are a very good thing - is this true?\" Qc Na looked pityingly at his student and replied, \"Foolish pupil - objects are merely a poor man's closures.\"\n",
    "\n",
    "Chastised, Anton took his leave from his master and returned to his cell, intent on studying closures. He carefully read the entire \"Lambda: The Ultimate...\" series of papers and its cousins, and implemented a small Scheme interpreter with a closure-based object system. He learned much, and looked forward to informing his master of his progress.\n",
    "\n",
    "On his next walk with Qc Na, Anton attempted to impress his master by saying \"Master, I have diligently studied the matter, and now understand that objects are truly a poor man's closures.\" Qc Na responded by hitting Anton with his stick, saying \"When will you learn? Closures are a poor man's object.\" At that moment, Anton became enlightened.\n"
   ]
  },
  {
   "cell_type": "markdown",
   "metadata": {
    "slideshow": {
     "slide_type": "slide"
    }
   },
   "source": [
    "# Aky-taky preklad\n",
    "Ctihodný majster Qc Na šiel so svojím študentom, Antonom. Dúfajúc, že vyzve majstra do diskusie, Anton povedal: \"Pane, počul som, že objekty sú veľmi dobrá vec - je to pravda?\" Qc Na pozrel súcitne na svojho študenta a odpovedal: \"pochabý žiak - objekty sú len chudákove uzávery.\"\n",
    "\n",
    "Pokarhaný Anton odišiel od svojho majstra a vrátil sa do svojej cely, študovať uzávery. Starostlivo si prečítal celú \"Lambda: The Ultimate ...\" sériu článkov spolu s referenciami, a implementoval malý Scheme interpret s objektovým modelom založeným na uzáveroch. Naučil sa veľa, a tešil sa na to ako bude informovať svojho majstra o svojom pokroku.\n",
    "\n",
    "Na jeho ďalšej ceste s Qc Na, sa Anton pokúšal zapôsobiť na svojho pána tým, že hovorí: \"Majster, usilovne som študoval a pochopil som, že objekty sú skutočne chudákove uzávery.\" Qc Na reagoval tým, že udrel Antona palicou. Hovorí: \"Kedy sa poučíš? Uzávery sú objektami chudáka.\" V tej chvíli Anton dosiahol osvietenie."
   ]
  },
  {
   "cell_type": "markdown",
   "metadata": {
    "slideshow": {
     "slide_type": "slide"
    }
   },
   "source": [
    "# Objekty a uzavery maju rovnaku vyjadrovaciu silu\n",
    "\n",
    "Dolezite je vybrat si ktore pouzit v ktorej situacii, tak aby ste vyuzili pekne vlastnosti oboch.\n",
    "\n",
    "Ak toto dokazete, tak ste sa stali skutocnymi odbornikmi a dosiahnete nirvanu :)\n",
    "\n",
    "![nirvana](https://res.cloudinary.com/jerrick/image/upload/fl_progressive,q_auto,w_1024/c2j8qf77iuozjhd5f1b1.jpg)"
   ]
  },
  {
   "cell_type": "markdown",
   "metadata": {
    "slideshow": {
     "slide_type": "slide"
    }
   },
   "source": [
    "# Decorator"
   ]
  },
  {
   "cell_type": "markdown",
   "metadata": {
    "slideshow": {
     "slide_type": "slide"
    }
   },
   "source": [
    "# Decorator (Python) vs. navrhovy vzor Dekorator\n",
    "\n",
    "## Navrhovy vzor\n",
    "* Ciel: pridanie dodatocnej zodpovednosti objektu dynamicky. Za behu.\n",
    "* Ak mame velmi vela moznych kombinacii rozsireni nejakeho objektu \n",
    "* [Priklad s kaviarnou](https://python-3-patterns-idioms-test.readthedocs.io/en/latest/Decorator.html) (Priklad je v pythone ale nepouziva konstrukciu decorator. Je to len implementacia navrhoveho vzoru.)\n",
    "* Zabalenie objektu do noveho objektu, kde ten stary je parametrom konstruktora a pri volani hociakej metody sa vola aj metoda obalovaneho objektu. [Piklad v Jave](https://sourcemaking.com/design_patterns/decorator/java/3)\n",
    "* Obalujuci objekt sa puziva namiesto obalovaneho\n",
    "\n",
    "## Konstrukcia v pythone\n",
    "* Obalenie funkcie alebo triedy do vlastneho kodu\n",
    "* Pouziva sa pri definicii metody alebo triedy\n",
    "* Nie priamo urcene na individualne objekty\n",
    "* Pomocou tejto konstrukcie by sa dal implementovat navrhovy vzor Dekorator, ale to by bolo len velmi obmedzene vyuzitie."
   ]
  },
  {
   "cell_type": "markdown",
   "metadata": {},
   "source": [
    "inspirovane - http://www.artima.com/weblogs/viewpost.jsp?thread=240808"
   ]
  },
  {
   "cell_type": "markdown",
   "metadata": {
    "slideshow": {
     "slide_type": "slide"
    }
   },
   "source": [
    "# Co je dekorator konstrukcia v pythone\n",
    "\n",
    "* Zabalenie funkcie do nejakej inej a pouzivanie obalenej namiesto povodnej\n",
    "  * neznie vam to podobne ako aspektovo orientovane programovanie v jave? Je to podobne, ale jednoduchsie (pouzitim a aj moznostami)\n",
    "* Moze byt implementovany hociakym zavolatelnym objektom (funkcia alebo objekt triedy implementujucej metodu `__call__`)\n",
    "* Decorator moze byt hociaka funkcia, ktora prijma inu funkciu ako parameter a vracia funkciu"
   ]
  },
  {
   "cell_type": "code",
   "execution_count": null,
   "metadata": {
    "slideshow": {
     "slide_type": "-"
    }
   },
   "outputs": [],
   "source": [
    "# takyto dekorator s tou obalovanou funkciou vlastne nic nespravi\n",
    "def najjednoduchsi_mozny_dekorator(param_fct):\n",
    "    return param_fct # vsimnite si, ze tu nie su zatvorky. Cize sa vracia funkcia ako objekt a nevykonava sa"
   ]
  },
  {
   "cell_type": "markdown",
   "metadata": {
    "slideshow": {
     "slide_type": "slide"
    }
   },
   "source": [
    "# Ked uz mame tu funkciu, tak s nou mozeme nieco aj spravit - napriklad obalit niecim inym"
   ]
  },
  {
   "cell_type": "code",
   "execution_count": null,
   "metadata": {},
   "outputs": [],
   "source": [
    "def zaujimavejsi_dekorator(param_fct):\n",
    "    def inner():\n",
    "        do_stuff()\n",
    "        result = param_fct()\n",
    "        do_another_stuff()\n",
    "        return result\n",
    "    return inner"
   ]
  },
  {
   "cell_type": "markdown",
   "metadata": {
    "slideshow": {
     "slide_type": "slide"
    }
   },
   "source": [
    "# Alebo nahradit niecim uplne inym"
   ]
  },
  {
   "cell_type": "code",
   "execution_count": null,
   "metadata": {},
   "outputs": [],
   "source": [
    "def nahradzujuci_dekorator(param_fct):\n",
    "    def nieco_uplne_ine():\n",
    "        pass\n",
    "    return nieco_uplne_ine"
   ]
  },
  {
   "cell_type": "markdown",
   "metadata": {},
   "source": [
    "stale plati to, ze je to funkcia, ktora dostava ako parameter funkciu a vracia funkciu"
   ]
  },
  {
   "cell_type": "markdown",
   "metadata": {
    "slideshow": {
     "slide_type": "slide"
    }
   },
   "source": [
    "# Ako potom takyto dekorator pouzit?"
   ]
  },
  {
   "cell_type": "code",
   "execution_count": null,
   "metadata": {},
   "outputs": [],
   "source": [
    "def function(): # funkcia, ktoru chceme dekorovat\n",
    "    pass\n",
    "\n",
    "function = decorator(function)"
   ]
  },
  {
   "cell_type": "code",
   "execution_count": null,
   "metadata": {
    "slideshow": {
     "slide_type": "-"
    }
   },
   "outputs": [],
   "source": [
    "# syntakticky cukor\n",
    "@decorator\n",
    "def function():\n",
    "    pass"
   ]
  },
  {
   "cell_type": "markdown",
   "metadata": {
    "slideshow": {
     "slide_type": "slide"
    }
   },
   "source": [
    "# Dekorovana funkcia sa pouziva namiesto povodnej"
   ]
  },
  {
   "cell_type": "code",
   "execution_count": 56,
   "metadata": {},
   "outputs": [],
   "source": [
    "def decor(func):\n",
    "    def inner():\n",
    "        print('running inner()')\n",
    "    return inner"
   ]
  },
  {
   "cell_type": "code",
   "execution_count": 57,
   "metadata": {},
   "outputs": [],
   "source": [
    "@decor\n",
    "def target():\n",
    "    print('running target()')"
   ]
  },
  {
   "cell_type": "code",
   "execution_count": 58,
   "metadata": {
    "slideshow": {
     "slide_type": "slide"
    }
   },
   "outputs": [
    {
     "name": "stdout",
     "output_type": "stream",
     "text": [
      "running inner()\n"
     ]
    },
    {
     "data": {
      "text/plain": [
       "<function __main__.deco.<locals>.inner>"
      ]
     },
     "execution_count": 58,
     "metadata": {},
     "output_type": "execute_result"
    }
   ],
   "source": [
    "target()\n",
    "target"
   ]
  },
  {
   "cell_type": "markdown",
   "metadata": {
    "slideshow": {
     "slide_type": "slide"
    }
   },
   "source": [
    "# Dekorator je spusteny pri importovani ale dekorovana funkcia az po explicitnom zavolani"
   ]
  },
  {
   "cell_type": "code",
   "execution_count": 59,
   "metadata": {},
   "outputs": [],
   "source": [
    "registry = []\n",
    "\n",
    "def register(func):\n",
    "    print('running register(%s)' % func) # nejaky kod sa vykona pri registrovani\n",
    "    registry.append(func)\n",
    "    return func # vracia sa ta ista funkcia bezo zmeny"
   ]
  },
  {
   "cell_type": "code",
   "execution_count": 60,
   "metadata": {
    "slideshow": {
     "slide_type": "slide"
    }
   },
   "outputs": [
    {
     "name": "stdout",
     "output_type": "stream",
     "text": [
      "running register(<function f1 at 0x7efe7132d598>)\n",
      "running register(<function f2 at 0x7efe80450048>)\n"
     ]
    }
   ],
   "source": [
    "@register\n",
    "def f1():\n",
    "    print('running f1()')\n",
    "\n",
    "@register\n",
    "def f2():\n",
    "    print('running f2()')\n",
    "\n",
    "def f3():\n",
    "    print('running f3()')"
   ]
  },
  {
   "cell_type": "code",
   "execution_count": 61,
   "metadata": {},
   "outputs": [
    {
     "data": {
      "text/plain": [
       "[<function __main__.f1>, <function __main__.f2>]"
      ]
     },
     "execution_count": 61,
     "metadata": {},
     "output_type": "execute_result"
    }
   ],
   "source": [
    "registry"
   ]
  },
  {
   "cell_type": "markdown",
   "metadata": {
    "slideshow": {
     "slide_type": "slide"
    }
   },
   "source": [
    "# Co dava zmysel ak sa vlastne deje toto"
   ]
  },
  {
   "cell_type": "code",
   "execution_count": 63,
   "metadata": {},
   "outputs": [
    {
     "name": "stdout",
     "output_type": "stream",
     "text": [
      "running register(<function f1 at 0x7efe713239d8>)\n",
      "running register(<function f2 at 0x7efe71323e18>)\n"
     ]
    }
   ],
   "source": [
    "def f1():\n",
    "    print('running f1()')\n",
    "\n",
    "f1 = register(f1)\n",
    "    \n",
    "def f2():\n",
    "    print('running f2()')\n",
    "\n",
    "f2 = register(f2)\n",
    "    \n",
    "def f3():\n",
    "    print('running f3()')"
   ]
  },
  {
   "cell_type": "code",
   "execution_count": 64,
   "metadata": {
    "slideshow": {
     "slide_type": "slide"
    }
   },
   "outputs": [
    {
     "name": "stdout",
     "output_type": "stream",
     "text": [
      "running f1()\n",
      "running f2()\n",
      "running f3()\n"
     ]
    }
   ],
   "source": [
    "f1()\n",
    "f2()\n",
    "f3()"
   ]
  },
  {
   "cell_type": "markdown",
   "metadata": {
    "slideshow": {
     "slide_type": "slide"
    }
   },
   "source": [
    "# Co ked ma dekorovana funkcia nejake parametre?"
   ]
  },
  {
   "cell_type": "code",
   "execution_count": 65,
   "metadata": {},
   "outputs": [],
   "source": [
    "def my_print(string):\n",
    "    print(string)"
   ]
  },
  {
   "cell_type": "code",
   "execution_count": 66,
   "metadata": {},
   "outputs": [],
   "source": [
    "def param_decorator(param_fct):\n",
    "    def wrapper(string): # wrapper musi mat tie iste parametre\n",
    "        print('wrapper stuff')\n",
    "        return param_fct(string)\n",
    "    return wrapper"
   ]
  },
  {
   "cell_type": "code",
   "execution_count": 67,
   "metadata": {
    "slideshow": {
     "slide_type": "slide"
    }
   },
   "outputs": [
    {
     "name": "stdout",
     "output_type": "stream",
     "text": [
      "wrapper stuff\n",
      "hello\n"
     ]
    }
   ],
   "source": [
    "@param_decorator # pri pouzivani dekoratora sa potom nic nemeni\n",
    "def my_print(string):\n",
    "    print(string)\n",
    "    \n",
    "my_print('hello')"
   ]
  },
  {
   "cell_type": "markdown",
   "metadata": {
    "slideshow": {
     "slide_type": "slide"
    }
   },
   "source": [
    "# Co ked ma tych parametrov viac?\n",
    "\n",
    "To iste ako v predchadzajucom pripade. Wrapper musi mat tie iste parametre."
   ]
  },
  {
   "cell_type": "markdown",
   "metadata": {
    "slideshow": {
     "slide_type": "slide"
    }
   },
   "source": [
    "# Skusme to zovseobecnit pre funkcie s hociakym poctom atributov"
   ]
  },
  {
   "cell_type": "code",
   "execution_count": 68,
   "metadata": {},
   "outputs": [],
   "source": [
    "def param_decorator2(param_fct):\n",
    "    def wrapper(*args): # wrapper musi mat tie iste parametre\n",
    "        print('wrapper stuff')\n",
    "        return param_fct(*args) # co sa stane ked tu nebude *?\n",
    "    return wrapper"
   ]
  },
  {
   "cell_type": "code",
   "execution_count": 69,
   "metadata": {
    "slideshow": {
     "slide_type": "slide"
    }
   },
   "outputs": [
    {
     "name": "stdout",
     "output_type": "stream",
     "text": [
      "wrapper stuff\n",
      "hello\n",
      "wrapper stuff\n",
      "hello hello2 hello3\n",
      "wrapper stuff\n",
      "hello hello2 hello3 hello4 hello5\n"
     ]
    }
   ],
   "source": [
    "@param_decorator2\n",
    "def my_print(string):\n",
    "    print(string)\n",
    "\n",
    "@param_decorator2\n",
    "def my_print_more(string1, string2, string3):\n",
    "    print(string1, string2, string3)\n",
    "    \n",
    "@param_decorator2\n",
    "def my_print_many(*args):\n",
    "    print(*args)\n",
    "    \n",
    "my_print('hello')\n",
    "my_print_more('hello', 'hello2', 'hello3')\n",
    "my_print_many('hello', 'hello2', 'hello3', 'hello4', 'hello5')"
   ]
  },
  {
   "cell_type": "markdown",
   "metadata": {
    "slideshow": {
     "slide_type": "slide"
    }
   },
   "source": [
    "# No a co pomenovane atributy?"
   ]
  },
  {
   "cell_type": "code",
   "execution_count": 70,
   "metadata": {},
   "outputs": [
    {
     "name": "stdout",
     "output_type": "stream",
     "text": [
      "1 2 3\n",
      "1 2 third\n",
      "1 second third\n",
      "1 2 3\n",
      "1 second 3\n"
     ]
    }
   ],
   "source": [
    "def my_print_optional(first, second='second', third='third'):\n",
    "    print(first, second, third)\n",
    "    \n",
    "my_print_optional('1', '2', '3')\n",
    "my_print_optional('1', '2')\n",
    "my_print_optional('1')\n",
    "my_print_optional('1', third='3', second='2')\n",
    "my_print_optional('1', third='3')"
   ]
  },
  {
   "cell_type": "code",
   "execution_count": 71,
   "metadata": {
    "slideshow": {
     "slide_type": "slide"
    }
   },
   "outputs": [],
   "source": [
    "def param_decorator3(param_fct):\n",
    "    def wrapper(*args, **kwargs): # wrapper musi mat tie iste parametre\n",
    "        print('wrapper stuff')\n",
    "        return param_fct(*args, **kwargs)\n",
    "    return wrapper\n",
    "\n",
    "@param_decorator3\n",
    "def my_print_optional(first, second='second', third='third'):\n",
    "    print(first, second, third)"
   ]
  },
  {
   "cell_type": "code",
   "execution_count": 72,
   "metadata": {
    "slideshow": {
     "slide_type": "slide"
    }
   },
   "outputs": [
    {
     "name": "stdout",
     "output_type": "stream",
     "text": [
      "wrapper stuff\n",
      "1 2 3\n",
      "wrapper stuff\n",
      "1 2 third\n",
      "wrapper stuff\n",
      "1 second third\n",
      "wrapper stuff\n",
      "1 2 3\n",
      "wrapper stuff\n",
      "1 second 3\n"
     ]
    }
   ],
   "source": [
    "my_print_optional('1', '2', '3')\n",
    "my_print_optional('1', '2')\n",
    "my_print_optional('1')\n",
    "my_print_optional('1', third='3', second='2')\n",
    "my_print_optional('1', third='3')"
   ]
  },
  {
   "cell_type": "markdown",
   "metadata": {
    "slideshow": {
     "slide_type": "slide"
    }
   },
   "source": [
    "# Teraz si mozeme vyrobit napriklad uplne vseobecny dekorator, ktory bude pocitat pocty volani nejakej funkcie"
   ]
  },
  {
   "cell_type": "code",
   "execution_count": 4,
   "metadata": {
    "slideshow": {
     "slide_type": "slide"
    }
   },
   "outputs": [],
   "source": [
    "def counter_decorator(fct):\n",
    "    counter = 0\n",
    "    def wrapper(*args, **kwargs):\n",
    "        nonlocal counter\n",
    "        counter += 1\n",
    "        return fct(*args, **kwargs)\n",
    "    return wrapper"
   ]
  },
  {
   "cell_type": "code",
   "execution_count": 5,
   "metadata": {
    "slideshow": {
     "slide_type": "slide"
    }
   },
   "outputs": [
    {
     "name": "stdout",
     "output_type": "stream",
     "text": [
      "177\n"
     ]
    }
   ],
   "source": [
    "@counter_decorator\n",
    "def counted_fib(n):\n",
    "    if n == 0:\n",
    "        return 0\n",
    "    elif n == 1:\n",
    "        return 1\n",
    "    else:\n",
    "        return counted_fib(n-1) + counted_fib(n-2)\n",
    "    \n",
    "counted_fib(10)\n",
    "print(counted_fib.__closure__[0].cell_contents)"
   ]
  },
  {
   "cell_type": "markdown",
   "metadata": {},
   "source": [
    "dalo by sa to este vylepsit tak, aby som mal praktickejsi pristup k tomu pocitadlu, ale nateraz mi to staci"
   ]
  },
  {
   "cell_type": "markdown",
   "metadata": {
    "slideshow": {
     "slide_type": "slide"
    }
   },
   "source": [
    "# Pocita sa celkovy pocet volani funkcie"
   ]
  },
  {
   "cell_type": "code",
   "execution_count": 6,
   "metadata": {},
   "outputs": [
    {
     "name": "stdout",
     "output_type": "stream",
     "text": [
      "192\n",
      "207\n"
     ]
    }
   ],
   "source": [
    "counted_fib(5)\n",
    "print(counted_fib.__closure__[0].cell_contents)\n",
    "counted_fib(5)\n",
    "print(counted_fib.__closure__[0].cell_contents)"
   ]
  },
  {
   "cell_type": "markdown",
   "metadata": {
    "slideshow": {
     "slide_type": "slide"
    }
   },
   "source": [
    "# Dekorator sa da pouzit na Memoizaciu (Memoization)\n",
    "* Ak mame ciste funkcie, tak ich vystup zalezi len od vstupov. \n",
    "* Ak mam dve volania funkcie s rovnakymi vstupmi, tak to druhe volanie viem nahradit predchadzajucou hodnotou bez toho, aby som realne spustal vypocet.\n",
    "* Dostal by som teda cachovanie funkcii\n",
    "* Dekorator sa da presne na toto pouzit"
   ]
  },
  {
   "cell_type": "code",
   "execution_count": 7,
   "metadata": {
    "slideshow": {
     "slide_type": "slide"
    }
   },
   "outputs": [
    {
     "data": {
      "text/plain": [
       "55"
      ]
     },
     "execution_count": 7,
     "metadata": {},
     "output_type": "execute_result"
    }
   ],
   "source": [
    "def fib(n):\n",
    "    if n == 0:\n",
    "        return 0\n",
    "    elif n == 1:\n",
    "        return 1\n",
    "    else:\n",
    "        return fib(n-1) + fib(n-2)\n",
    "    \n",
    "fib(10)"
   ]
  },
  {
   "cell_type": "markdown",
   "metadata": {
    "slideshow": {
     "slide_type": "slide"
    }
   },
   "source": [
    "# Potrebujeme nejaku strukturu, kde si budeme ukladat priebezne vysledky\n",
    "* Napriklad slovnik"
   ]
  },
  {
   "cell_type": "code",
   "execution_count": 8,
   "metadata": {},
   "outputs": [],
   "source": [
    "def memoize(f):\n",
    "    memo = {}\n",
    "    counter = 0\n",
    "    def wrapper(x):\n",
    "        if x not in memo:\n",
    "            nonlocal counter # toto by tu nemuselo byt, ale ja chcem vediet kolko som si usetril volani\n",
    "            memo[x] = f(x)\n",
    "            counter += 1 # toto by tu nemuselo byt\n",
    "        return memo[x]\n",
    "    return wrapper"
   ]
  },
  {
   "cell_type": "code",
   "execution_count": 9,
   "metadata": {
    "slideshow": {
     "slide_type": "slide"
    }
   },
   "outputs": [
    {
     "name": "stdout",
     "output_type": "stream",
     "text": [
      "55\n",
      "11\n"
     ]
    }
   ],
   "source": [
    "@memoize\n",
    "def memoized_fib(n):\n",
    "    if n == 0:\n",
    "        return 0\n",
    "    elif n == 1:\n",
    "        return 1\n",
    "    else:\n",
    "        return memoized_fib(n-1) + memoized_fib(n-2)\n",
    "    \n",
    "print(memoized_fib(10))\n",
    "print(memoized_fib.__closure__[0].cell_contents)"
   ]
  },
  {
   "cell_type": "code",
   "execution_count": 10,
   "metadata": {
    "slideshow": {
     "slide_type": "slide"
    }
   },
   "outputs": [
    {
     "name": "stdout",
     "output_type": "stream",
     "text": [
      "55\n",
      "177\n"
     ]
    }
   ],
   "source": [
    "@counter_decorator\n",
    "def counted_fib(n):\n",
    "    if n == 0:\n",
    "        return 0\n",
    "    elif n == 1:\n",
    "        return 1\n",
    "    else:\n",
    "        return counted_fib(n-1) + counted_fib(n-2)\n",
    "    \n",
    "print(counted_fib(10))\n",
    "print(counted_fib.__closure__[0].cell_contents)"
   ]
  },
  {
   "cell_type": "markdown",
   "metadata": {
    "slideshow": {
     "slide_type": "slide"
    }
   },
   "source": [
    "# Toto bola len jednoducha verzia, na memoizovanie funkcie s jednym prametrom. \n",
    "* Rozsirenie na viacero atributov by malo byt pre vas jednoduche\n",
    "* Rozsirenie na pomenovane atributy uz take jednoduche nie je pretoze `**kwargs` je slovnik a ten nie je hashovatelny\n",
    "> kto vie preco nie je hashovatelny?\n",
    "* Podobne to **nebude** fungovat ak by hociktory z parametrov nebol hashovatelny. "
   ]
  },
  {
   "cell_type": "markdown",
   "metadata": {
    "slideshow": {
     "slide_type": "slide"
    }
   },
   "source": [
    "# Odpoved na predchadzajucu otazku\n",
    "na to aby mohol byt objekt hashovatelny, musi byt nemenny. Pri zmene objektu by sa totiz musel zmenut vysledok hashovacej funkcie (vysledok by mal zavisiet od obsahu obejtku) a teda uplne straca svoj zmysel pri identifikacii objektu"
   ]
  },
  {
   "cell_type": "markdown",
   "metadata": {
    "slideshow": {
     "slide_type": "slide"
    }
   },
   "source": [
    "# Co ked chcem dat dekoratoru nejake parametre?\n",
    "Tu je syntax trochu nestastna a musim to zabalit este do jednej funkcie"
   ]
  },
  {
   "cell_type": "code",
   "execution_count": null,
   "metadata": {
    "slideshow": {
     "slide_type": "slide"
    }
   },
   "outputs": [],
   "source": [
    "def decorator(argument): # tuto jednu funkciu som tam pridal\n",
    "    def real_decorator(param_funct): # tu bu zacinal dekorator bez parametrov\n",
    "        def wrapper(*args, **kwargs):\n",
    "            before_stuff()\n",
    "            something_with_argument(argument)\n",
    "            funct(*args, **kwargs)\n",
    "            after_stuff()\n",
    "        return wrapper\n",
    "     return real_decorator\n",
    "    \n",
    "@decorator(argument_value)\n",
    "def my_fct():\n",
    "    pass"
   ]
  },
  {
   "cell_type": "markdown",
   "metadata": {
    "slideshow": {
     "slide_type": "slide"
    }
   },
   "source": [
    "# Pouzit to viem napriklad na vytvorenie dekoratora, ktory mi bude logovat volania funkcie a ja si zvolim uroven logovania"
   ]
  },
  {
   "cell_type": "code",
   "execution_count": 80,
   "metadata": {},
   "outputs": [
    {
     "name": "stdout",
     "output_type": "stream",
     "text": [
      "debug: Function my_print started.\n",
      "ide to?\n",
      "debug: Function my_print finished.\n"
     ]
    }
   ],
   "source": [
    "def log(level, message):\n",
    "    print(\"{0}: {1}\".format(level, message))\n",
    "\n",
    "def log_decorator(level):\n",
    "    def decorator(f):\n",
    "        def wrapper(*args, **kwargs):\n",
    "            log(level, \"Function {} started.\".format(f.__name__))\n",
    "            result = f(*args, **kwargs)\n",
    "            log(level, \"Function {} finished.\".format(f.__name__))\n",
    "            return result\n",
    "        return wrapper\n",
    "    return decorator\n",
    "\n",
    "@log_decorator('debug')\n",
    "def my_print(*args):\n",
    "    print(*args)\n",
    "    \n",
    "my_print('ide to?')"
   ]
  },
  {
   "cell_type": "markdown",
   "metadata": {
    "slideshow": {
     "slide_type": "slide"
    }
   },
   "source": [
    "# Dekorovanim menim niektore atributy funkcie\n"
   ]
  },
  {
   "cell_type": "code",
   "execution_count": 81,
   "metadata": {},
   "outputs": [
    {
     "name": "stdout",
     "output_type": "stream",
     "text": [
      "some stuff\n",
      "some_fct\n",
      "doc string of some_fct\n",
      "__main__\n"
     ]
    }
   ],
   "source": [
    "def some_fct():\n",
    "    \"\"\"doc string of some_fct\"\"\"\n",
    "    print(\"some stuff\")\n",
    "\n",
    "some_fct()\n",
    "print(some_fct.__name__)\n",
    "print(some_fct.__doc__)\n",
    "print(some_fct.__module__)"
   ]
  },
  {
   "cell_type": "code",
   "execution_count": 82,
   "metadata": {
    "slideshow": {
     "slide_type": "slide"
    }
   },
   "outputs": [],
   "source": [
    "def decorator(f):\n",
    "    def wrapper_fct(*args, **kwargs):\n",
    "        \"\"\"wrapper_fct doc string\"\"\"\n",
    "        return f(*args, **kwargs)\n",
    "    return wrapper_fct\n",
    "\n",
    "@decorator\n",
    "def some_fct():\n",
    "    \"\"\"doc string of some_fct\"\"\"\n",
    "    print(\"some stuff\")"
   ]
  },
  {
   "cell_type": "code",
   "execution_count": 83,
   "metadata": {
    "slideshow": {
     "slide_type": "slide"
    }
   },
   "outputs": [
    {
     "name": "stdout",
     "output_type": "stream",
     "text": [
      "some stuff\n",
      "wrapper_fct\n",
      "wrapper_fct doc string\n",
      "__main__\n"
     ]
    }
   ],
   "source": [
    "some_fct()\n",
    "print(some_fct.__name__)\n",
    "print(some_fct.__doc__)\n",
    "print(some_fct.__module__)"
   ]
  },
  {
   "cell_type": "markdown",
   "metadata": {
    "slideshow": {
     "slide_type": "-"
    }
   },
   "source": [
    "# Ak dekorujem funkciu, tak nova funkcia dostane `__name__, __doc__, __module__` atributy z dekoratora a nie z tej povodnej funkcie. \n",
    "`__module__` sa nezmeni, kedze dekorator je definovany v tom istom module, ak by som ho ale importoval ako balicek, tak by sa zmenilo aj to"
   ]
  },
  {
   "cell_type": "markdown",
   "metadata": {
    "slideshow": {
     "slide_type": "slide"
    }
   },
   "source": [
    "# Nastastie na to mame riesenie - dalsi dekorator\n",
    "\n",
    "tento nastastie ale staci importovat a takmer nijak to nekomplikuje nas povodny kod"
   ]
  },
  {
   "cell_type": "code",
   "execution_count": 84,
   "metadata": {},
   "outputs": [],
   "source": [
    "from functools import wraps\n",
    "\n",
    "def decorator(f):\n",
    "    @wraps(f) #mame na to dekorator, ktory tieto atributy skopiruje\n",
    "    def wrapper_fct(*args, **kwargs):\n",
    "        \"\"\"wrapper_fct doc string\"\"\"\n",
    "        return f(*args, **kwargs)\n",
    "    return wrapper_fct\n",
    "\n",
    "@decorator\n",
    "def some_fct():\n",
    "    \"\"\"doc string of some_fct\"\"\"\n",
    "    print(\"some stuff\")"
   ]
  },
  {
   "cell_type": "code",
   "execution_count": 85,
   "metadata": {
    "slideshow": {
     "slide_type": "slide"
    }
   },
   "outputs": [
    {
     "name": "stdout",
     "output_type": "stream",
     "text": [
      "some stuff\n",
      "some_fct\n",
      "doc string of some_fct\n",
      "__main__\n"
     ]
    }
   ],
   "source": [
    "some_fct()\n",
    "print(some_fct.__name__)\n",
    "print(some_fct.__doc__)\n",
    "print(some_fct.__module__)"
   ]
  },
  {
   "cell_type": "markdown",
   "metadata": {
    "slideshow": {
     "slide_type": "slide"
    }
   },
   "source": [
    "# Sumarizujeme -  Rozne mozne formy dekoratorov"
   ]
  },
  {
   "cell_type": "markdown",
   "metadata": {
    "slideshow": {
     "slide_type": "slide"
    }
   },
   "source": [
    "# Nahradzajuci dekorator nahradi funkciu uplne niecim inym"
   ]
  },
  {
   "cell_type": "code",
   "execution_count": null,
   "metadata": {},
   "outputs": [],
   "source": [
    "def nahradzujuci_dekorator(param_fct):\n",
    "    def nieco_uplne_ine():\n",
    "        pass\n",
    "    return nieco_uplne_ine"
   ]
  },
  {
   "cell_type": "markdown",
   "metadata": {
    "slideshow": {
     "slide_type": "slide"
    }
   },
   "source": [
    "# Obalujuci dekorator prida nieco pred a/alebo za volanie funkcie"
   ]
  },
  {
   "cell_type": "code",
   "execution_count": null,
   "metadata": {},
   "outputs": [],
   "source": [
    "def obalujuci_dekorator(param_fct):\n",
    "    def inner():\n",
    "        before_call()\n",
    "        result = param_fct()\n",
    "        after_call()\n",
    "        return result\n",
    "    return inner"
   ]
  },
  {
   "cell_type": "markdown",
   "metadata": {
    "slideshow": {
     "slide_type": "slide"
    }
   },
   "source": [
    "# Dekorator uchovavajuci si stav"
   ]
  },
  {
   "cell_type": "code",
   "execution_count": null,
   "metadata": {},
   "outputs": [],
   "source": [
    "def obalujuci_dekorator(param_fct):\n",
    "    stav = hodnota    \n",
    "    def inner():\n",
    "        nonlocal stav # ak mame mutable objekt ako stav, tak netreba pouzivat nonlocal\n",
    "        stav = ina_hodnota\n",
    "        return param_fct()\n",
    "    return inner"
   ]
  },
  {
   "cell_type": "markdown",
   "metadata": {
    "slideshow": {
     "slide_type": "slide"
    }
   },
   "source": [
    "# Parametrizovany dekorator"
   ]
  },
  {
   "cell_type": "code",
   "execution_count": null,
   "metadata": {},
   "outputs": [],
   "source": [
    "def vonkajsi_decorator(argument):\n",
    "    def decorator(param_funct):\n",
    "        def fct_wrapper(*args, **kwargs):\n",
    "            before_stuff()\n",
    "            something_with_argument(argument)\n",
    "            funct(*args, **kwargs)\n",
    "            after_stuff()\n",
    "        return fct_wrapper\n",
    "     return decorator\n",
    "    \n",
    "@vonkajsi_dekorator(parameter)\n",
    "def funkcia():\n",
    "    pass"
   ]
  },
  {
   "cell_type": "markdown",
   "metadata": {
    "slideshow": {
     "slide_type": "slide"
    }
   },
   "source": [
    "# Registracny dekorator vykona nieco pri registracii funkcie\n",
    "* vykona nieco pri registracii funkcie v case importovania a nie vykonavania samotenej funkcie.\n",
    "* kludne si moze dekorator udrzovat nejaky stav pomocou lokalnych premennych"
   ]
  },
  {
   "cell_type": "code",
   "execution_count": null,
   "metadata": {},
   "outputs": [],
   "source": [
    "def registracny_dekorator(param_func):\n",
    "    when_registering_stuff()\n",
    "    return param_func"
   ]
  },
  {
   "cell_type": "markdown",
   "metadata": {
    "slideshow": {
     "slide_type": "slide"
    }
   },
   "source": [
    "# Samozrejme, ze tieto rozne typy sa mozu kombinovat"
   ]
  },
  {
   "cell_type": "markdown",
   "metadata": {
    "slideshow": {
     "slide_type": "slide"
    }
   },
   "source": [
    "# Dekorovat sa da aj trieda, nie len funkcia, ale toho by uz bolo strasne vela, takze to nechavam na samostudium pre tych, ktorych to zaujima\n",
    "\n",
    "* http://www.artima.com/weblogs/viewpost.jsp?thread=240808\n",
    "* http://www.artima.com/weblogs/viewpost.jsp?thread=240845"
   ]
  },
  {
   "cell_type": "markdown",
   "metadata": {
    "slideshow": {
     "slide_type": "slide"
    }
   },
   "source": [
    "# Priklady pouzivanych dekoratorov\n",
    "https://wiki.python.org/moin/PythonDecoratorLibrary"
   ]
  },
  {
   "cell_type": "markdown",
   "metadata": {
    "slideshow": {
     "slide_type": "slide"
    }
   },
   "source": [
    "# Sumar prezentacie\n",
    "## Rozsah platnosti premennych\n",
    "* vo funkcii vieme pristupovat k premennej ale nevieme ju menit pokial nieje globalna alebo nonlocal\n",
    "* mutable objekt vieme upravovat, nie vsak menit premennu\n",
    "## Vnorena funkcia\n",
    "* funkciu vieme definovat vo vnutri funkcie\n",
    "* vnutorna funkcia a aj premenne su schovane pred oklitym svetom pokial ich nevratime ako navratovu hodnotu\n",
    "## Closure / Uzaver\n",
    "* vnorena funkcia vie pristupovat k nelokalnej premennej\n",
    "* da sa to pouzit na udrziavanie stavu medzi volaniami\n",
    "* closure je ekvivalentny s objektom vyrobenym z triedy\n",
    "## Dekorator\n",
    "* nahradenie funkcie prijatej ako parameter inou\n",
    "* da sa obalit volanie ale aj vratit uplne ina funkcia bez pouzitia povodnej\n",
    "* dekorator moze byt implementovany ako uzaver a udrzovat si stav.\n",
    "* dekorator moze dostavat parametre\n",
    "* dekorovat mozeme aj triedu\n"
   ]
  }
 ],
 "metadata": {
  "celltoolbar": "Slideshow",
  "kernelspec": {
   "display_name": "Python 3",
   "language": "python",
   "name": "python3"
  },
  "language_info": {
   "codemirror_mode": {
    "name": "ipython",
    "version": 3
   },
   "file_extension": ".py",
   "mimetype": "text/x-python",
   "name": "python",
   "nbconvert_exporter": "python",
   "pygments_lexer": "ipython3",
   "version": "3.7.1"
  }
 },
 "nbformat": 4,
 "nbformat_minor": 1
}
