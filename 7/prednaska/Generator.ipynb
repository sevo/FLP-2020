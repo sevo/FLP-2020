{
 "cells": [
  {
   "cell_type": "markdown",
   "metadata": {
    "slideshow": {
     "slide_type": "slide"
    }
   },
   "source": [
    "# Obsah dnesnej prednasky\n",
    "## 1. Iterator a generator\n",
    "## 2. Lenive vyhodnocovanie (Lazy evaluation)"
   ]
  },
  {
   "cell_type": "markdown",
   "metadata": {
    "slideshow": {
     "slide_type": "slide"
    }
   },
   "source": [
    "# 1. Iterator a Generator\n",
    "\n",
    "inspirovane http://www.python-course.eu/python3_generators.php\n",
    "\n",
    "Oba sa pouzivaju na postupne prechadzanie cez datovu strukturu alebo postupne vykonavanie algoritmu po krokoch."
   ]
  },
  {
   "cell_type": "markdown",
   "metadata": {
    "slideshow": {
     "slide_type": "slide"
    }
   },
   "source": [
    "# Iterator\n",
    "* je objekt, ktory ma funkciu `__next__` a funkciu `__iter__`, ktora vracia `self`\n",
    "* je to vseobecnejsi pojem ako generator\n",
    "* da sa pouzivat napriklad na iterovanie cez kolekciu bez toho, aby sme vedeli aka je jej vnutorna struktura. Staci definovat funkciu `__next__`. Podobny koncept sa da najst vo vela jazykoch. Napriklad aj v Jave."
   ]
  },
  {
   "cell_type": "markdown",
   "metadata": {
    "slideshow": {
     "slide_type": "slide"
    }
   },
   "source": [
    "# Iterator sa napriklad implicitne pouziva pri prechadzani kolekcii for cyklom"
   ]
  },
  {
   "cell_type": "code",
   "execution_count": 1,
   "metadata": {},
   "outputs": [
    {
     "name": "stdout",
     "output_type": "stream",
     "text": [
      "location: Paris\n",
      "location: Berlin\n",
      "location: Hamburg\n",
      "location: Frankfurt\n",
      "location: London\n",
      "location: Vienna\n",
      "location: Amsterdam\n",
      "location: Den Haag\n"
     ]
    }
   ],
   "source": [
    "cities = [\"Paris\", \"Berlin\", \"Hamburg\", \"Frankfurt\", \"London\", \"Vienna\", \"Amsterdam\", \"Den Haag\"]\n",
    "for location in cities:\n",
    "    print(\"location: \" + location)"
   ]
  },
  {
   "cell_type": "code",
   "execution_count": 4,
   "metadata": {
    "slideshow": {
     "slide_type": "slide"
    }
   },
   "outputs": [
    {
     "data": {
      "text/plain": [
       "['__class__',\n",
       " '__delattr__',\n",
       " '__dir__',\n",
       " '__doc__',\n",
       " '__eq__',\n",
       " '__format__',\n",
       " '__ge__',\n",
       " '__getattribute__',\n",
       " '__gt__',\n",
       " '__hash__',\n",
       " '__init__',\n",
       " '__init_subclass__',\n",
       " '__iter__',\n",
       " '__le__',\n",
       " '__length_hint__',\n",
       " '__lt__',\n",
       " '__ne__',\n",
       " '__new__',\n",
       " '__next__',\n",
       " '__reduce__',\n",
       " '__reduce_ex__',\n",
       " '__repr__',\n",
       " '__setattr__',\n",
       " '__setstate__',\n",
       " '__sizeof__',\n",
       " '__str__',\n",
       " '__subclasshook__']"
      ]
     },
     "execution_count": 4,
     "metadata": {},
     "output_type": "execute_result"
    }
   ],
   "source": [
    "dir(cities.__iter__())"
   ]
  },
  {
   "cell_type": "code",
   "execution_count": 3,
   "metadata": {
    "slideshow": {
     "slide_type": "slide"
    }
   },
   "outputs": [
    {
     "data": {
      "text/plain": [
       "list_iterator"
      ]
     },
     "execution_count": 3,
     "metadata": {},
     "output_type": "execute_result"
    }
   ],
   "source": [
    "type(cities.__iter__())"
   ]
  },
  {
   "cell_type": "code",
   "execution_count": 5,
   "metadata": {},
   "outputs": [
    {
     "name": "stdout",
     "output_type": "stream",
     "text": [
      "<class 'list_iterator'>\n",
      "<class 'list_iterator'>\n",
      "Paris\n"
     ]
    }
   ],
   "source": [
    "print(type(cities.__iter__()))\n",
    "print(type(cities.__iter__().__iter__()))\n",
    "print(cities.__iter__().__next__())"
   ]
  },
  {
   "cell_type": "markdown",
   "metadata": {
    "slideshow": {
     "slide_type": "slide"
    }
   },
   "source": [
    "# Rovnako sa pouzivaju iteratory aj pri prechadzani inych kolekcii"
   ]
  },
  {
   "cell_type": "code",
   "execution_count": 6,
   "metadata": {},
   "outputs": [
    {
     "name": "stdout",
     "output_type": "stream",
     "text": [
      "The capital city of France is Paris\n",
      "The capital city of Netherlands is Amsterdam\n",
      "The capital city of Germany is Berlin\n",
      "The capital city of Switzerland is Bern\n",
      "The capital city of Austria is Vienna\n"
     ]
    }
   ],
   "source": [
    "capitals = { \"France\":\"Paris\", \"Netherlands\":\"Amsterdam\", \"Germany\":\"Berlin\", \"Switzerland\":\"Bern\", \"Austria\":\"Vienna\"}\n",
    "for country in capitals:\n",
    "    print(\"The capital city of \" + country + \" is \" + capitals[country])"
   ]
  },
  {
   "cell_type": "markdown",
   "metadata": {
    "slideshow": {
     "slide_type": "slide"
    }
   },
   "source": [
    "# Generator\n",
    "* kazdy generator objekt je iterator, ale nie naopak\n",
    "* tento pojem sa pouziva na pomenovanie funkcie (generator funkcia) ako aj jej navratovej hodnoty (generator objekt)\n",
    "* generator objekt sa vytvara volanim funkcie (generator funkcie), ktora pouziva `yield`\n"
   ]
  },
  {
   "cell_type": "markdown",
   "metadata": {
    "slideshow": {
     "slide_type": "slide"
    }
   },
   "source": [
    "# Generator pouziva vyraz `yield` na zastavenie vykonavania a na vratenie hodnoty\n",
    "\n",
    "* Vykonavanie sa spusta volanim funkcie `next()` (alebo metody `__next__()`)\n",
    "* Dalsie volanie zacina od posledneho `yield`\n",
    "* Medzi volaniami sa hodnoty lokalnych premennych uchovavaju.\n",
    "\n",
    "## Pozor, toto nie je ten isty `yield` ako je v Ruby\n",
    "* V Ruby je `yield` volanie bloku asociovaneho s metodou\n",
    "* `yield` v Ruby vlastne odovzdáva kontrolu nejakému bloku kódu. Je to skôr podobné volanie lambda funkcie predanej parametrom, len je to inak zapísané\n",
    "* V Ruby je nieco podobne generatorom napriklad trieda `Enumerator`\n",
    "\n",
    "[http://stackoverflow.com/questions/2504494/are-there-something-like-python-generators-in-ruby](http://stackoverflow.com/questions/2504494/are-there-something-like-python-generators-in-ruby)"
   ]
  },
  {
   "cell_type": "markdown",
   "metadata": {
    "slideshow": {
     "slide_type": "slide"
    }
   },
   "source": [
    "# Jednoduchý príklad generátoru"
   ]
  },
  {
   "cell_type": "code",
   "execution_count": 7,
   "metadata": {},
   "outputs": [],
   "source": [
    "def city_generator():\n",
    "    yield \"Konstanz\"\n",
    "    yield \"Zurich\"\n",
    "    yield \"Schaffhausen\"\n",
    "    yield \"Stuttgart\""
   ]
  },
  {
   "cell_type": "code",
   "execution_count": 14,
   "metadata": {},
   "outputs": [],
   "source": [
    "gen = city_generator()"
   ]
  },
  {
   "cell_type": "code",
   "execution_count": 15,
   "metadata": {},
   "outputs": [
    {
     "data": {
      "text/plain": [
       "'Konstanz'"
      ]
     },
     "execution_count": 15,
     "metadata": {},
     "output_type": "execute_result"
    }
   ],
   "source": [
    "next(gen)"
   ]
  },
  {
   "cell_type": "markdown",
   "metadata": {
    "slideshow": {
     "slide_type": "slide"
    }
   },
   "source": [
    "# Vo vnutri generator funkcie mozem pouzivat cyklus"
   ]
  },
  {
   "cell_type": "code",
   "execution_count": 16,
   "metadata": {},
   "outputs": [],
   "source": [
    "cities = [\"Konstanz\", \"Zurich\", \"Schaffhausen\", \"Stuttgart\"]\n",
    "def city_generator():\n",
    "    for city in cities:\n",
    "        yield city\n",
    "gen = city_generator()"
   ]
  },
  {
   "cell_type": "code",
   "execution_count": 17,
   "metadata": {},
   "outputs": [
    {
     "data": {
      "text/plain": [
       "'Konstanz'"
      ]
     },
     "execution_count": 17,
     "metadata": {},
     "output_type": "execute_result"
    }
   ],
   "source": [
    "next(gen)"
   ]
  },
  {
   "cell_type": "markdown",
   "metadata": {},
   "source": [
    "Tento genereator vlastne len supluje iterator, ktory je nad polom, ale ten cyklus moze robit aj nieco viac a vtedy to uz moze byt zaujimavejsie (ukazem neskor)"
   ]
  },
  {
   "cell_type": "markdown",
   "metadata": {
    "slideshow": {
     "slide_type": "slide"
    }
   },
   "source": [
    "# Generator funkcia moze prijmat parametre"
   ]
  },
  {
   "cell_type": "code",
   "execution_count": 18,
   "metadata": {},
   "outputs": [],
   "source": [
    "def city_generator(local_cities):\n",
    "    for city in local_cities:\n",
    "        yield city\n",
    "gen = city_generator([\"Konstanz\", \"Zurich\", \"Schaffhausen\", \"Stuttgart\"])"
   ]
  },
  {
   "cell_type": "code",
   "execution_count": 19,
   "metadata": {},
   "outputs": [
    {
     "data": {
      "text/plain": [
       "'Konstanz'"
      ]
     },
     "execution_count": 19,
     "metadata": {},
     "output_type": "execute_result"
    }
   ],
   "source": [
    "next(gen)"
   ]
  },
  {
   "cell_type": "markdown",
   "metadata": {
    "slideshow": {
     "slide_type": "slide"
    }
   },
   "source": [
    "# Trik ako napisat generator, ktory velmi casto funguje\n",
    "\n",
    "Uloha: Mame sekvenciu cisel a chceme vytvorit pohyblivy priemer dvoch po sebe nasledujucich cisel pre celu sekvenciu.\n",
    "\n",
    "napr:\n",
    "\n",
    "sekvencie = [1,2,3,4,5]\n",
    "\n",
    "pohyblivy priemer = [(0+1)/2, (1+2)/2, (2+3)/2, (3+4)/2, (4+5)/2] = [0.5, 1.5, 2.5, 3.5, 4.5]"
   ]
  },
  {
   "cell_type": "markdown",
   "metadata": {
    "slideshow": {
     "slide_type": "slide"
    }
   },
   "source": [
    "# Ako by ste to napisali imperativne ak chcete vysledok len zapisat do konzoly?"
   ]
  },
  {
   "cell_type": "code",
   "execution_count": 20,
   "metadata": {
    "slideshow": {
     "slide_type": "slide"
    }
   },
   "outputs": [
    {
     "name": "stdout",
     "output_type": "stream",
     "text": [
      "0.5\n",
      "1.5\n",
      "2.5\n",
      "3.5\n",
      "4.5\n"
     ]
    }
   ],
   "source": [
    "sequence = [1,2,3,4,5]\n",
    "previous = 0\n",
    "for actual in sequence:\n",
    "    print((actual + previous) / 2)\n",
    "    previous = actual"
   ]
  },
  {
   "cell_type": "markdown",
   "metadata": {
    "slideshow": {
     "slide_type": "slide"
    }
   },
   "source": [
    "# Zabalim to do funkcie"
   ]
  },
  {
   "cell_type": "code",
   "execution_count": 21,
   "metadata": {
    "slideshow": {
     "slide_type": "-"
    }
   },
   "outputs": [
    {
     "name": "stdout",
     "output_type": "stream",
     "text": [
      "0.5\n",
      "1.5\n",
      "2.5\n",
      "3.5\n",
      "4.5\n"
     ]
    }
   ],
   "source": [
    "sequence = [1,2,3,4,5]\n",
    "def moving_average(sequence):\n",
    "    previous = 0\n",
    "    for actual in sequence:\n",
    "        print((actual + previous) * 0.5)\n",
    "        previous = actual\n",
    "moving_average(sequence)"
   ]
  },
  {
   "cell_type": "markdown",
   "metadata": {
    "slideshow": {
     "slide_type": "slide"
    }
   },
   "source": [
    "# Vymenim print za `yield`"
   ]
  },
  {
   "cell_type": "code",
   "execution_count": 22,
   "metadata": {},
   "outputs": [],
   "source": [
    "sequence = [1,2,3,4,5]\n",
    "def moving_average(sequence):\n",
    "    previous = 0\n",
    "    for actual in sequence:\n",
    "        yield (actual + previous) * 0.5\n",
    "        previous = actual"
   ]
  },
  {
   "cell_type": "code",
   "execution_count": 23,
   "metadata": {},
   "outputs": [
    {
     "name": "stdout",
     "output_type": "stream",
     "text": [
      "[0.5, 1.5, 2.5, 3.5, 4.5]\n"
     ]
    }
   ],
   "source": [
    "print(list(moving_average(sequence)))"
   ]
  },
  {
   "cell_type": "markdown",
   "metadata": {
    "slideshow": {
     "slide_type": "slide"
    }
   },
   "source": [
    "# Hotovo\n",
    "\n",
    "Jednoduchy trik ako napisat generator\n",
    "\n",
    "1. napiste kod, kde priebezne vysledky len zapsiujete funkciou print\n",
    "2. zabalte kod do funkcie\n",
    "3. nahradte print prikazom yield"
   ]
  },
  {
   "cell_type": "markdown",
   "metadata": {
    "collapsed": true,
    "slideshow": {
     "slide_type": "slide"
    }
   },
   "source": [
    "# Pomocou generatoru by sa dala napriklad spravit funkcia `map`"
   ]
  },
  {
   "cell_type": "code",
   "execution_count": 24,
   "metadata": {},
   "outputs": [],
   "source": [
    "def map(f, seq):\n",
    "    for x in seq:\n",
    "        print(f(x))"
   ]
  },
  {
   "cell_type": "code",
   "execution_count": 25,
   "metadata": {},
   "outputs": [],
   "source": [
    "def map(f, seq):\n",
    "    for x in seq:\n",
    "        yield f(x)"
   ]
  },
  {
   "cell_type": "markdown",
   "metadata": {
    "slideshow": {
     "slide_type": "slide"
    }
   },
   "source": [
    "# Porovnajte si ako by vyzerala implementacia `map` v python2 a python3"
   ]
  },
  {
   "cell_type": "code",
   "execution_count": 26,
   "metadata": {},
   "outputs": [],
   "source": [
    "def map(f, seq): # V pythone 2 map vracia list, implementacia by mohla byt napriklad takato\n",
    "    result = [] # mame premennu, ktoru postupne upravujeme a nafukujeme\n",
    "    for x in seq:\n",
    "        result.append(f(x))\n",
    "    return result "
   ]
  },
  {
   "cell_type": "code",
   "execution_count": 27,
   "metadata": {},
   "outputs": [],
   "source": [
    "def map(f, seq): # V pythone 3 map je generator a zabera konstantne mnozstvo pamati\n",
    "    for x in seq:\n",
    "        yield f(x)"
   ]
  },
  {
   "cell_type": "markdown",
   "metadata": {
    "collapsed": true,
    "slideshow": {
     "slide_type": "slide"
    }
   },
   "source": [
    "# Niektore generatory sa daju nahradit funkciou `map`"
   ]
  },
  {
   "cell_type": "code",
   "execution_count": 28,
   "metadata": {},
   "outputs": [
    {
     "name": "stdout",
     "output_type": "stream",
     "text": [
      "<generator object squares at 0x00000265B7F17660>\n",
      "1\n",
      "[4, 9, 16, 25, 36, 49, 64, 81]\n"
     ]
    }
   ],
   "source": [
    "a, b = 1, 10\n",
    "def squares(start, stop):\n",
    "    for i in range(start, stop):\n",
    "        yield i * i\n",
    "\n",
    "generator = squares(a, b)\n",
    "print(generator)\n",
    "print(next(generator))\n",
    "print(list(generator))"
   ]
  },
  {
   "cell_type": "code",
   "execution_count": 29,
   "metadata": {
    "slideshow": {
     "slide_type": "slide"
    }
   },
   "outputs": [
    {
     "name": "stdout",
     "output_type": "stream",
     "text": [
      "<generator object map at 0x00000265B7FDA660>\n",
      "1\n",
      "[4, 9, 16, 25, 36, 49, 64, 81]\n"
     ]
    }
   ],
   "source": [
    "generator = map(lambda i: i*i, range(a, b))\n",
    "print(generator)\n",
    "print(next(generator))\n",
    "print(list(generator))"
   ]
  },
  {
   "cell_type": "markdown",
   "metadata": {
    "slideshow": {
     "slide_type": "slide"
    }
   },
   "source": [
    "# List comprehension tiez moze vytvarat generator"
   ]
  },
  {
   "cell_type": "code",
   "execution_count": 30,
   "metadata": {},
   "outputs": [
    {
     "name": "stdout",
     "output_type": "stream",
     "text": [
      "<generator object <genexpr> at 0x00000265B7F17660>\n",
      "1\n",
      "[4, 9, 16, 25, 36, 49, 64, 81]\n"
     ]
    }
   ],
   "source": [
    "generator = (i*i for i in range(a, b)) # rozdiel oproti kalsickemu LC je v zatvorkach [] => ()\n",
    "print(generator)\n",
    "print(next(generator))\n",
    "print(list(generator))"
   ]
  },
  {
   "cell_type": "markdown",
   "metadata": {
    "collapsed": true,
    "slideshow": {
     "slide_type": "slide"
    }
   },
   "source": [
    "# Explicitny generator ma ale vacsiu vyjadrovaciu silu\n",
    "\n",
    "Nie je obmedzeny len na formu ktoru pouziva funkcia map:"
   ]
  },
  {
   "cell_type": "code",
   "execution_count": 31,
   "metadata": {},
   "outputs": [],
   "source": [
    "def generator(funkcia, iterator):\n",
    "    for i in iterator:\n",
    "        yield funkcia(i)"
   ]
  },
  {
   "cell_type": "markdown",
   "metadata": {
    "slideshow": {
     "slide_type": "slide"
    }
   },
   "source": [
    "# Na co je to cele dobre?"
   ]
  },
  {
   "cell_type": "markdown",
   "metadata": {
    "slideshow": {
     "slide_type": "slide"
    }
   },
   "source": [
    "Tu sa dostavame k druhej casti prednasky\n",
    "# 2. Lenive vyhodnocovanie - Lazy evaluation"
   ]
  },
  {
   "cell_type": "markdown",
   "metadata": {
    "slideshow": {
     "slide_type": "slide"
    }
   },
   "source": [
    "# Strategie vyhodnocovania\n",
    "\n",
    "## Skratene vyhodocovanie (Short-circuit)\n",
    "## Netrpezlive vyhodocovanie (Eager)\n",
    "## Lenive vyhodnocovanie (Lazy)\n",
    "## Vzdialene vyhodocovanie (Remote)\n",
    "## Ciastocne vyhodocovanie (Partial)\n",
    "\n",
    "https://en.wikipedia.org/wiki/Evaluation_strategy"
   ]
  },
  {
   "cell_type": "markdown",
   "metadata": {
    "slideshow": {
     "slide_type": "slide"
    }
   },
   "source": [
    "# Skratene vyhodnocovanie\n",
    "\n",
    "Urcite si pamatate z Proceduralneho programovania"
   ]
  },
  {
   "cell_type": "code",
   "execution_count": null,
   "metadata": {},
   "outputs": [],
   "source": [
    "def fun1():\n",
    "    print('prva')\n",
    "    return False\n",
    "\n",
    "def fun2():\n",
    "    print('druha')\n",
    "    return True\n",
    "\n",
    "if fun1() or fun2():\n",
    "    pass"
   ]
  },
  {
   "cell_type": "markdown",
   "metadata": {
    "slideshow": {
     "slide_type": "slide"
    }
   },
   "source": [
    "# Lenive vyhodocovanie\n",
    "\n",
    "Oddaluje vyhodnocovanie az do doby, ked je to treba"
   ]
  },
  {
   "cell_type": "code",
   "execution_count": null,
   "metadata": {},
   "outputs": [],
   "source": [
    "pom = (x*x for x in range(5))\n",
    "next(pom) #prvok z generatora sa vyberie az ked ho je treba a nie pri vytvoreni generatora"
   ]
  },
  {
   "cell_type": "markdown",
   "metadata": {
    "slideshow": {
     "slide_type": "slide"
    }
   },
   "source": [
    "# Nedockave vyhodocovanie\n",
    "Opak leniveho vyhodnotenia. Vyraz sa vyhodnoti hned ako je priradeny do premennej. Toto je typicky sposob vyhodnocaovania pri vacsine programovacich jazykoch."
   ]
  },
  {
   "cell_type": "code",
   "execution_count": null,
   "metadata": {},
   "outputs": [],
   "source": [
    "pom = [x*x for x in range(5)]\n",
    "pom[4] # vyraz sa hned vyhodnocuje cely"
   ]
  },
  {
   "cell_type": "markdown",
   "metadata": {
    "slideshow": {
     "slide_type": "slide"
    }
   },
   "source": [
    "## Vyhody nedockaveho vyhodnocovania\n",
    "* programator moze kontrolovat poradie vykonavania\n",
    "* nemusi sledovat a planovat poradie vyhodnocovania\n",
    "\n",
    "## Nevyhody\n",
    "* neumoznuje vynechat vykonavanie kodu, ktory vobec nie je potrebny (spomente si na priklad so Sparkom z minuleho tyzdna)\n",
    "* neda sa vykonavat kod, ktory je v danej chvili dolezitejsi\n",
    "* programator musi organizovat kod tak, aby optimalizoval poradie vykonavania\n",
    "\n",
    "Moderne kompilatory ale uz niektore veci vedia optimalizovat za programatora"
   ]
  },
  {
   "cell_type": "markdown",
   "metadata": {
    "slideshow": {
     "slide_type": "slide"
    }
   },
   "source": [
    "# Vzdialene vyhodnocovanie\n",
    "\n",
    "* Vyhodnocovanie na vzdialenom pocitaci. \n",
    "* Hociaky vypoctovy model, ktory spusta kod na inom stroji.\n",
    "* Client/Server, Message passing, MapReduce, Remote procedure call (RPC)"
   ]
  },
  {
   "cell_type": "markdown",
   "metadata": {
    "slideshow": {
     "slide_type": "slide"
    }
   },
   "source": [
    "# Partial evaluation\n",
    "\n",
    "* Viacero optimalizacnych strategii na to aby sme vytvorili program, ktory bezi rychlejsie ako povodny program.\n",
    "  * Napriklad predpocitavanie kodu na zaklade dat, ktore su zname uz v case kompilacie.\n",
    "  * Mamoization (preklad Memoizacia?) - nevykonavanie (cistych) funkcii s rovnakymi vstupmi opakovane. V podstate ide o caschovanie vystupov volani funkcii\n",
    "  * Partial application - fixovanie niektorych parametrov funkcie a vytvorenie novej s mensim poctom parametrov."
   ]
  },
  {
   "cell_type": "markdown",
   "metadata": {
    "slideshow": {
     "slide_type": "slide"
    }
   },
   "source": [
    "# Lenive vyhodnocovanie moze zrychlit vyhodocovanie"
   ]
  },
  {
   "cell_type": "code",
   "execution_count": 34,
   "metadata": {},
   "outputs": [
    {
     "name": "stdout",
     "output_type": "stream",
     "text": [
      "4\n",
      "Wall time: 0 ns\n"
     ]
    }
   ],
   "source": [
    "%%time\n",
    "print(2+2)"
   ]
  },
  {
   "cell_type": "code",
   "execution_count": 35,
   "metadata": {
    "slideshow": {
     "slide_type": "slide"
    }
   },
   "outputs": [
    {
     "name": "stdout",
     "output_type": "stream",
     "text": [
      "<generator object map at 0x00000265B7F17660>\n",
      "Wall time: 0 ns\n"
     ]
    }
   ],
   "source": [
    "%%time\n",
    "import time\n",
    "def slow_square(x):\n",
    "    time.sleep(0.2)\n",
    "    return x**2\n",
    "\n",
    "generator = map(slow_square, range(10))\n",
    "print(generator)"
   ]
  },
  {
   "cell_type": "markdown",
   "metadata": {
    "slideshow": {
     "slide_type": "slide"
    }
   },
   "source": [
    "## Funkcia slow_square sa zatial nespustila ani raz. Preto je ten cas tak maly"
   ]
  },
  {
   "cell_type": "code",
   "execution_count": 37,
   "metadata": {
    "slideshow": {
     "slide_type": "slide"
    }
   },
   "outputs": [
    {
     "name": "stdout",
     "output_type": "stream",
     "text": [
      "[0, 1, 4, 9, 16, 25, 36, 49, 64, 81]\n",
      "Wall time: 2.01 s\n"
     ]
    }
   ],
   "source": [
    "%%time\n",
    "# co sa stane ak budeme chciet transformovat generator na zoznam. Teda spustit ru pomalu funkciu na kazdom prvku?\n",
    "print(list(generator))"
   ]
  },
  {
   "cell_type": "code",
   "execution_count": 38,
   "metadata": {
    "slideshow": {
     "slide_type": "slide"
    }
   },
   "outputs": [
    {
     "name": "stdout",
     "output_type": "stream",
     "text": [
      "[0, 1, 4, 9, 16]\n",
      "Wall time: 2 s\n"
     ]
    }
   ],
   "source": [
    "%%time\n",
    "# Aj ked chceme len cast pola, tak musime transformovat vsetky prvky\n",
    "generator = map(slow_square, range(10))\n",
    "pole = list(generator)\n",
    "print(pole[:5])"
   ]
  },
  {
   "cell_type": "code",
   "execution_count": 39,
   "metadata": {
    "slideshow": {
     "slide_type": "slide"
    }
   },
   "outputs": [],
   "source": [
    "# Mozeme si ale skusit definovat funkciu, ktora nam vyberie len tu cast prvkov, ktore chceme\n",
    "def head(iterator, n):\n",
    "    result = []\n",
    "    for _ in range(n):\n",
    "        result.append(next(iterator))\n",
    "    return result"
   ]
  },
  {
   "cell_type": "code",
   "execution_count": 40,
   "metadata": {},
   "outputs": [
    {
     "name": "stdout",
     "output_type": "stream",
     "text": [
      "[0, 1, 4, 9, 16]\n",
      "Wall time: 1 s\n"
     ]
    }
   ],
   "source": [
    "%%time\n",
    "\n",
    "print(head(map(slow_square, range(10)), 5))"
   ]
  },
  {
   "cell_type": "markdown",
   "metadata": {
    "slideshow": {
     "slide_type": "slide"
    }
   },
   "source": [
    "## Ta pomala operacia sa vykonala len tolko krat, kolko sme potrebovali a to co sme nepotrebovali sa nemuselo nikdy vykonat."
   ]
  },
  {
   "cell_type": "code",
   "execution_count": 51,
   "metadata": {
    "slideshow": {
     "slide_type": "slide"
    }
   },
   "outputs": [
    {
     "name": "stdout",
     "output_type": "stream",
     "text": [
      "[0, 1, 4, 9, 16]\n",
      "Wall time: 1 s\n"
     ]
    }
   ],
   "source": [
    "%%time\n",
    "# tuto funkciu sme si ale nemuseli definovat sami. Nieco take uz existuje\n",
    "\n",
    "from itertools import islice\n",
    "generator = map(slow_square, range(10000))\n",
    "print(list(islice(generator, 5)))"
   ]
  },
  {
   "cell_type": "markdown",
   "metadata": {
    "slideshow": {
     "slide_type": "slide"
    }
   },
   "source": [
    "# Funkciu `islice` si zapamatajte, este ju budeme vela krat pouzivat"
   ]
  },
  {
   "cell_type": "markdown",
   "metadata": {
    "slideshow": {
     "slide_type": "slide"
    }
   },
   "source": [
    "# Lenive vyhodnocovanie setri pamat"
   ]
  },
  {
   "cell_type": "code",
   "execution_count": 44,
   "metadata": {},
   "outputs": [
    {
     "data": {
      "text/plain": [
       "333333283333335000000"
      ]
     },
     "execution_count": 44,
     "metadata": {},
     "output_type": "execute_result"
    }
   ],
   "source": [
    "from operator import add\n",
    "from functools import reduce\n",
    "\n",
    "reduce(add, [x*x for x in range(10000000)])\n",
    "reduce(add, (x*x for x in range(10000000))) # rozdiel je len v zatvorkach"
   ]
  },
  {
   "cell_type": "markdown",
   "metadata": {
    "slideshow": {
     "slide_type": "slide"
    }
   },
   "source": [
    "## skusim si vyrobit funkciu, ktora mi bude priebezne pocitat a vypisovat aktualnu spotrebu pamati premennych na halde pocas toho ako budeme spocitavat cisla"
   ]
  },
  {
   "cell_type": "code",
   "execution_count": 41,
   "metadata": {
    "slideshow": {
     "slide_type": "slide"
    }
   },
   "outputs": [],
   "source": [
    "from functools import reduce\n",
    "import gc\n",
    "import os\n",
    "import psutil\n",
    "process = psutil.Process(os.getpid())\n",
    "\n",
    "def print_memory_usage():\n",
    "    print(process.memory_info().rss)\n",
    "\n",
    "counter = [0] # Toto je hnusny hack a slubujem, ze nabuduce si povieme ako to spravit lepsie. Spytajte sa ma na to! \n",
    "# Problem je v tom, ze potrebujem pocitadlo, ktore bude dostupne vo funkcii,\n",
    "# ale zaroven ho potrebujem inicializovat mimo tejto funkcie.\n",
    "# Teraz som zaspinil funkciu pouzitim mutable datovej struktury a globalneho priestoru mien. 2xFuj!!!\n",
    "def measure_add(a, result, counter=counter):\n",
    "    if counter[0] % 2000000 == 0:\n",
    "        print_memory_usage()\n",
    "    counter[0] = counter[0] + 1\n",
    "    return a + result"
   ]
  },
  {
   "cell_type": "code",
   "execution_count": 43,
   "metadata": {
    "slideshow": {
     "slide_type": "slide"
    }
   },
   "outputs": [
    {
     "name": "stdout",
     "output_type": "stream",
     "text": [
      "48087040\n",
      "453148672\n",
      "453148672\n",
      "453185536\n",
      "453185536\n",
      "453185536\n",
      "vysledok 333333283333335000000\n"
     ]
    }
   ],
   "source": [
    "gc.collect()\n",
    "counter[0] = 0\n",
    "print_memory_usage()\n",
    "print('vysledok', reduce(measure_add, [x*x for x in range(10000000)]))"
   ]
  },
  {
   "cell_type": "code",
   "execution_count": 46,
   "metadata": {
    "slideshow": {
     "slide_type": "slide"
    }
   },
   "outputs": [
    {
     "name": "stdout",
     "output_type": "stream",
     "text": [
      "47976448\n",
      "47976448\n",
      "47976448\n",
      "47976448\n",
      "47976448\n",
      "47976448\n",
      "vysledok 333333283333335000000\n"
     ]
    }
   ],
   "source": [
    "gc.collect()\n",
    "counter[0] = 0\n",
    "print_memory_usage()\n",
    "print('vysledok', reduce(measure_add, (x*x for x in range(10000000))))"
   ]
  },
  {
   "cell_type": "markdown",
   "metadata": {
    "slideshow": {
     "slide_type": "slide"
    }
   },
   "source": [
    "# Ani ked su funkcie povnarane do seba a kolekcia sa predava ako parameter, nikdy nie je cela v pamati\n",
    "map, filter, reduce aj list comprehension vnutorne pracuju s kolekciami ako s iteratormi"
   ]
  },
  {
   "cell_type": "code",
   "execution_count": 48,
   "metadata": {
    "slideshow": {
     "slide_type": "-"
    }
   },
   "outputs": [
    {
     "name": "stdout",
     "output_type": "stream",
     "text": [
      "47984640\n",
      "47984640\n",
      "47984640\n",
      "47984640\n",
      "vysledok 166666616666670000000\n"
     ]
    }
   ],
   "source": [
    "gc.collect()\n",
    "counter[0] = 0\n",
    "print_memory_usage()\n",
    "print('vysledok', reduce(measure_add, filter(lambda x: x%2 == 0, map(lambda x: x*x, range(10000000)))))\n",
    "# a pokojne by som to mohol vnarat dalej"
   ]
  },
  {
   "cell_type": "markdown",
   "metadata": {
    "slideshow": {
     "slide_type": "slide"
    }
   },
   "source": [
    "# Ked vieme, ze generator sa vyhodnocuje lenivo, tak nam nic nebrani vlozit do neho nekonecny cyklus"
   ]
  },
  {
   "cell_type": "code",
   "execution_count": 52,
   "metadata": {},
   "outputs": [],
   "source": [
    "def fibonacci():\n",
    "    \"\"\"Fibonacci numbers generator\"\"\"\n",
    "    a, b = 1, 1\n",
    "    while True:\n",
    "        yield a\n",
    "        a, b = b, a + b\n",
    "        \n",
    "f = fibonacci()"
   ]
  },
  {
   "cell_type": "code",
   "execution_count": 53,
   "metadata": {},
   "outputs": [
    {
     "name": "stdout",
     "output_type": "stream",
     "text": [
      "[1, 1, 2, 3, 5, 8, 13, 21, 34, 55]\n"
     ]
    }
   ],
   "source": [
    "print(list(islice(f, 10)))"
   ]
  },
  {
   "cell_type": "markdown",
   "metadata": {
    "slideshow": {
     "slide_type": "slide"
    }
   },
   "source": [
    "# Voila, nekonecna datova struktura, ktora nezabera skoro ziadnu pamat dokedy ju nechcem materializovat celu."
   ]
  },
  {
   "cell_type": "code",
   "execution_count": null,
   "metadata": {
    "slideshow": {
     "slide_type": "-"
    }
   },
   "outputs": [],
   "source": [
    "# POZOR!!! \n",
    "# Toto netreba pustat. Zozralo by to cely vykon procesoru a postupne aj celu pamat.\n",
    "list(fibonacci()) \n",
    "# POZOR!!! "
   ]
  },
  {
   "cell_type": "markdown",
   "metadata": {
    "slideshow": {
     "slide_type": "slide"
    }
   },
   "source": [
    "# Vedeli by ste to pouzit na:\n",
    "* generator prvocisel?\n",
    "* citanie z velmi velkeho suboru, ktory vam nevojde do pamati?\n",
    "* citanie dat z nejakeho senzoru, ktory produkuje kludne nekonecne mnozstvo dat?"
   ]
  },
  {
   "cell_type": "markdown",
   "metadata": {
    "collapsed": true,
    "slideshow": {
     "slide_type": "slide"
    }
   },
   "source": [
    "# Dalo by sa to pouzit napriklad na cakanie na data\n",
    "Predstavte si, ze mate subor, do ktoreho nejaky proces zapisuje logy po riadkoch a vy ich spracovavate.\n",
    "\n",
    "Ako by ste spravili iterovanie cez riadky suboru tak, aby ste cakali na dalsie riadky ak dojdete na koniec suboru?\n",
    "\n",
    "inspirovane - http://stackoverflow.com/questions/6162002/whats-the-benefit-of-using-generator-in-this-case"
   ]
  },
  {
   "cell_type": "code",
   "execution_count": null,
   "metadata": {
    "slideshow": {
     "slide_type": "slide"
    }
   },
   "outputs": [],
   "source": [
    "%%bash\n",
    "echo -n 'log line' > log.txt"
   ]
  },
  {
   "cell_type": "code",
   "execution_count": 54,
   "metadata": {
    "slideshow": {
     "slide_type": "slide"
    }
   },
   "outputs": [],
   "source": [
    "import time"
   ]
  },
  {
   "cell_type": "code",
   "execution_count": null,
   "metadata": {
    "slideshow": {
     "slide_type": "-"
    }
   },
   "outputs": [],
   "source": [
    "# s generatorom napriklad takto\n",
    "def read(file_name):\n",
    "    with open(file_name) as f:\n",
    "        while True:\n",
    "            line = f.readline()\n",
    "            if not line:\n",
    "                time.sleep(0.1)\n",
    "                continue\n",
    "            yield line\n",
    "\n",
    "lines = read(\"log.txt\")\n",
    "print(next(lines))"
   ]
  },
  {
   "cell_type": "code",
   "execution_count": null,
   "metadata": {},
   "outputs": [],
   "source": [
    "print(next(lines))"
   ]
  },
  {
   "cell_type": "code",
   "execution_count": null,
   "metadata": {},
   "outputs": [],
   "source": [
    "for line in lines:\n",
    "    print(line)"
   ]
  },
  {
   "cell_type": "markdown",
   "metadata": {
    "slideshow": {
     "slide_type": "slide"
    }
   },
   "source": [
    "# Toto by som vedel spravit aj bez generatora ale ...\n",
    "* nemal by som oddelenu logiku cakania a spracovavania riadku\n",
    "* zneuzivam necistu funkciu print\n",
    "* nevedel by som priamociaro znovupouzivat generator, vzdy by som to musel kodit odznova \n",
    "  * jedine, ze by som pouzil funkciu ako parameter\n",
    "  * stale tam ale zostava problem ako vratit viacero hodnot z jednej funkcie\n",
    "* nevedel by som pekne transparentne, lenivo iterovat"
   ]
  },
  {
   "cell_type": "code",
   "execution_count": null,
   "metadata": {},
   "outputs": [],
   "source": [
    "while True:\n",
    "    line = logfile.readline()\n",
    "    if not line:\n",
    "        time.sleep(0.1)\n",
    "        continue\n",
    "    print line"
   ]
  },
  {
   "cell_type": "markdown",
   "metadata": {
    "slideshow": {
     "slide_type": "slide"
    }
   },
   "source": [
    "# Generator moze byt aj trochu zlozitejsi, napriklad rekurzivny"
   ]
  },
  {
   "cell_type": "markdown",
   "metadata": {
    "slideshow": {
     "slide_type": "slide"
    }
   },
   "source": [
    "# Predstavte si takuto stromovu strukturu"
   ]
  },
  {
   "cell_type": "code",
   "execution_count": 67,
   "metadata": {
    "slideshow": {
     "slide_type": "-"
    }
   },
   "outputs": [],
   "source": [
    "class Node(object): # toto je v podstate N-arny strom\n",
    "\n",
    "    def __init__(self, title, children=None):\n",
    "        self.title = title\n",
    "        self.children = children or []\n",
    "        \n",
    "tree = Node(\n",
    "    'A', [\n",
    "        Node('B', [\n",
    "            Node('C', [\n",
    "                Node('D')\n",
    "                ]),\n",
    "            Node('E'),\n",
    "            ]),\n",
    "        Node('F'),\n",
    "        Node('G'),\n",
    "        ])"
   ]
  },
  {
   "cell_type": "code",
   "execution_count": 68,
   "metadata": {
    "slideshow": {
     "slide_type": "slide"
    }
   },
   "outputs": [
    {
     "data": {
      "text/plain": [
       "['A', 'B', 'C', 'D', 'E', 'F', 'G']"
      ]
     },
     "execution_count": 68,
     "metadata": {},
     "output_type": "execute_result"
    }
   ],
   "source": [
    "def node_recurse_generator(node):\n",
    "    yield node\n",
    "    for n in node.children:\n",
    "        for rn in node_recurse_generator(n):\n",
    "            yield rn\n",
    "        \n",
    "[node.title for node in node_recurse_generator(tree)]"
   ]
  },
  {
   "cell_type": "markdown",
   "metadata": {},
   "source": [
    "http://stackoverflow.com/posts/7634323/edit"
   ]
  },
  {
   "cell_type": "markdown",
   "metadata": {},
   "source": [
    "# Uloha na volny cas\n",
    "\n",
    "Vedeli by ste vytvorit datovu strukturu `list_r`, ktora by bola tvorena dvojicou prvy prvok zoznamu a jeho zvysok (first, rest)? Vedeli by ste vytvorit rekurzivne funkcie a generatory, ktore by spracovavali takyto zoznam (vratenie prvku na indexe, pridanie prvku, odstranenie prvku, prevratenie poradia, ..)?\n",
    "\n",
    "Ak ano, tak viete simulovat zakladnu datovu strukturu LISPu a mozete pracovat s Pythonom ako keby to bol LISP."
   ]
  },
  {
   "cell_type": "markdown",
   "metadata": {
    "slideshow": {
     "slide_type": "slide"
    }
   },
   "source": [
    "# Ale castokrat sa to da aj bez pouzitia rekurzie\n",
    "\n",
    "http://stackoverflow.com/questions/26145678/implementing-a-depth-first-tree-iterator-in-python"
   ]
  },
  {
   "cell_type": "code",
   "execution_count": null,
   "metadata": {},
   "outputs": [],
   "source": [
    "from collections import deque\n",
    "\n",
    "def node_stack_generator(node):\n",
    "    stack = deque([node]) # tu si uchovavam stav prehladavania kedze nepouzivam call stack v rekurzii\n",
    "    while stack:\n",
    "        # Pop out the first element in the stack\n",
    "        node = stack.popleft()\n",
    "        yield node\n",
    "        # push children onto the front of the stack.\n",
    "        # Note that with a deque.extendleft, the first on in is the last\n",
    "        # one out, so we need to push them in reverse order.\n",
    "        stack.extendleft(reversed(node.children))\n",
    "        \n",
    "[node.title for node in node_stack_generator(tree)]"
   ]
  },
  {
   "cell_type": "markdown",
   "metadata": {
    "slideshow": {
     "slide_type": "slide"
    }
   },
   "source": [
    "# Uloha na volny cas \n",
    "\n",
    "Vedeli by ste tieto dva generatory upravit pre binarny strom?"
   ]
  },
  {
   "cell_type": "markdown",
   "metadata": {
    "slideshow": {
     "slide_type": "slide"
    }
   },
   "source": [
    "# Rekurzivny generator sa da napriklad pouzit na vyrabanie permutacii"
   ]
  },
  {
   "cell_type": "code",
   "execution_count": 69,
   "metadata": {},
   "outputs": [],
   "source": [
    "def permutations(items):\n",
    "    n = len(items)\n",
    "    if n==0: \n",
    "        yield []\n",
    "    else:\n",
    "        for i in range(len(items)):\n",
    "            for cc in permutations(items[:i]+items[i+1:]):\n",
    "                yield [items[i]]+cc"
   ]
  },
  {
   "cell_type": "code",
   "execution_count": 70,
   "metadata": {},
   "outputs": [
    {
     "name": "stdout",
     "output_type": "stream",
     "text": [
      "red\n",
      "rde\n",
      "erd\n",
      "edr\n",
      "dre\n",
      "der\n"
     ]
    }
   ],
   "source": [
    "for p in permutations('red'): \n",
    "    print(''.join(p))"
   ]
  },
  {
   "cell_type": "code",
   "execution_count": 71,
   "metadata": {},
   "outputs": [
    {
     "name": "stdout",
     "output_type": "stream",
     "text": [
      "game, gaem, gmae, gmea, geam, gema, agme, agem, amge, ameg, aegm, aemg, mgae, mgea, mage, maeg, mega, meag, egam, egma, eagm, eamg, emga, emag, "
     ]
    }
   ],
   "source": [
    "for p in permutations(\"game\"): \n",
    "    print(''.join(p) + \", \", end=\"\")"
   ]
  },
  {
   "cell_type": "markdown",
   "metadata": {
    "slideshow": {
     "slide_type": "slide"
    }
   },
   "source": [
    "# Spominate si na `from itertools import islice` ?"
   ]
  },
  {
   "cell_type": "code",
   "execution_count": 72,
   "metadata": {},
   "outputs": [
    {
     "name": "stdout",
     "output_type": "stream",
     "text": [
      "[1, 1, 2, 3, 5]\n"
     ]
    }
   ],
   "source": [
    "def fibonacci():\n",
    "    \"\"\"Fibonacci numbers generator\"\"\"\n",
    "    a, b = 1, 1\n",
    "    while True:\n",
    "        yield a\n",
    "        a, b = b, a + b\n",
    "        \n",
    "print(list(islice(fibonacci(), 5)))"
   ]
  },
  {
   "cell_type": "markdown",
   "metadata": {
    "collapsed": true,
    "slideshow": {
     "slide_type": "slide"
    }
   },
   "source": [
    "# Pomocou generatoru si vieme vytvorit jej ekvivalent\n",
    "Generator generatorov alebo fukcia, ktora dostava ako parameter generator vracia iny generator"
   ]
  },
  {
   "cell_type": "code",
   "execution_count": 73,
   "metadata": {},
   "outputs": [],
   "source": [
    "def firstn(g, n): # generator objekt je parametrom generator funkcie\n",
    "    for i in range(n):\n",
    "        yield next(g)"
   ]
  },
  {
   "cell_type": "code",
   "execution_count": 74,
   "metadata": {},
   "outputs": [
    {
     "data": {
      "text/plain": [
       "[1, 1, 2, 3, 5, 8, 13, 21, 34, 55]"
      ]
     },
     "execution_count": 74,
     "metadata": {},
     "output_type": "execute_result"
    }
   ],
   "source": [
    "list(firstn(fibonacci(), 10))"
   ]
  },
  {
   "cell_type": "code",
   "execution_count": null,
   "metadata": {},
   "outputs": [],
   "source": []
  }
 ],
 "metadata": {
  "celltoolbar": "Slideshow",
  "kernelspec": {
   "display_name": "Python 3",
   "language": "python",
   "name": "python3"
  },
  "language_info": {
   "codemirror_mode": {
    "name": "ipython",
    "version": 3
   },
   "file_extension": ".py",
   "mimetype": "text/x-python",
   "name": "python",
   "nbconvert_exporter": "python",
   "pygments_lexer": "ipython3",
   "version": "3.7.1"
  }
 },
 "nbformat": 4,
 "nbformat_minor": 1
}
