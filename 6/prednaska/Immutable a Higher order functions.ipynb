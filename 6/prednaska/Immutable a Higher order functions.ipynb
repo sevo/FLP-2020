{
 "cells": [
  {
   "cell_type": "markdown",
   "metadata": {
    "slideshow": {
     "slide_type": "slide"
    }
   },
   "source": [
    "# Sutaz\n",
    "\n",
    "## [Project Euler](https://projecteuler.net/)\n",
    "\n",
    "* Vyriesit co najviac uloh funkcionalne\n",
    "* Najlepsi dostanu **plny pocet bodov** z Python casti zaverecnej skusky"
   ]
  },
  {
   "cell_type": "markdown",
   "metadata": {
    "slideshow": {
     "slide_type": "slide"
    }
   },
   "source": [
    "# Elm\n",
    "\n",
    "Mali ste mat jeden test na prednaske a jeden na cviceni\n",
    "\n",
    "Minimalne jeden sa nahradi malym projektom."
   ]
  },
  {
   "cell_type": "markdown",
   "metadata": {
    "slideshow": {
     "slide_type": "slide"
    }
   },
   "source": [
    "# Obsah dnesnej prednasky\n",
    "\n",
    "## 1. Nemenne objekty a \n",
    "\n",
    "## 2. Funkcie vyssej urovne"
   ]
  },
  {
   "cell_type": "markdown",
   "metadata": {
    "slideshow": {
     "slide_type": "slide"
    }
   },
   "source": [
    "# 1. Nemenné (Immutable) objekty\n",
    "----------------------------------------------------"
   ]
  },
  {
   "cell_type": "markdown",
   "metadata": {
    "slideshow": {
     "slide_type": "slide"
    }
   },
   "source": [
    "# Nemenný objekt sa po vytvorení už nemôže meniť"
   ]
  },
  {
   "cell_type": "code",
   "execution_count": 72,
   "metadata": {},
   "outputs": [
    {
     "name": "stdout",
     "output_type": "stream",
     "text": [
      "140314250459208\n",
      "140314099848448\n",
      "140314099849568\n"
     ]
    }
   ],
   "source": [
    "x = 'foo'\n",
    "print(id(x))\n",
    "print(id(x.upper()))\n",
    "print(id(x + 'bar'))"
   ]
  },
  {
   "cell_type": "markdown",
   "metadata": {
    "slideshow": {
     "slide_type": "slide"
    }
   },
   "source": [
    "# Neznamena to, ze referencia na objekt sa nemoze menit\n",
    "v cisto funkcionalnom jazyku by sa nemalo diat ani to"
   ]
  },
  {
   "cell_type": "code",
   "execution_count": 73,
   "metadata": {},
   "outputs": [
    {
     "name": "stdout",
     "output_type": "stream",
     "text": [
      "foo 140314250459208\n",
      "bar 140314250459152\n",
      "foo 140314250459208\n"
     ]
    }
   ],
   "source": [
    "x = 'foo'\n",
    "y = x\n",
    "print(x, id(x))\n",
    "x = 'bar' \n",
    "print(x, id(x))# objekt foo sa nezmenil, to len x uz smeruje na iny objekt\n",
    "print(y, id(y))"
   ]
  },
  {
   "cell_type": "markdown",
   "metadata": {
    "slideshow": {
     "slide_type": "slide"
    }
   },
   "source": [
    "# Nie je to to iste ako klucove slovo *final* v Jave\n",
    "\n",
    "Final premenna po vytvoreni nemoze smerovat na iny objekt\n",
    "\n",
    "Objekt samtny ale moze byt zmeneny"
   ]
  },
  {
   "cell_type": "code",
   "execution_count": null,
   "metadata": {},
   "outputs": [],
   "source": [
    "# -- JAVA --\n",
    "final List<Integer> list = new ArrayList<Integer>();\n",
    "list = new ArrayList<Integer>(); // toto sa neskompiluje"
   ]
  },
  {
   "cell_type": "code",
   "execution_count": null,
   "metadata": {},
   "outputs": [],
   "source": [
    "# -- JAVA --\n",
    "final List<Integer> list = new ArrayList<Integer>();\n",
    "list.add(1); //toto prejde bez problemov"
   ]
  },
  {
   "cell_type": "code",
   "execution_count": null,
   "metadata": {},
   "outputs": [],
   "source": [
    "# -- JAVA --\n",
    "final List<Integer> list = Collections.unmodifiableList(new ArrayList<Integer>(...)); //toto je immutable list"
   ]
  },
  {
   "cell_type": "markdown",
   "metadata": {
    "slideshow": {
     "slide_type": "slide"
    }
   },
   "source": [
    "# Imutable znamena, ze hociaka operacia nad objektom vytvori novy objekt namiesto toho aby zmenila ten povodny"
   ]
  },
  {
   "cell_type": "code",
   "execution_count": 1,
   "metadata": {},
   "outputs": [
    {
     "name": "stdout",
     "output_type": "stream",
     "text": [
      "foo\n",
      "foo\n",
      "foobar\n"
     ]
    }
   ],
   "source": [
    "# retazec je immutable\n",
    "x = 'foo'\n",
    "y = x\n",
    "print(x) # foo\n",
    "y += 'bar'\n",
    "print(x) # foo\n",
    "print(y)"
   ]
  },
  {
   "cell_type": "code",
   "execution_count": 2,
   "metadata": {},
   "outputs": [
    {
     "name": "stdout",
     "output_type": "stream",
     "text": [
      "2361298200816\n",
      "2361332423344\n"
     ]
    }
   ],
   "source": [
    "print(id(x))\n",
    "print(id(y))"
   ]
  },
  {
   "cell_type": "code",
   "execution_count": 4,
   "metadata": {
    "slideshow": {
     "slide_type": "slide"
    }
   },
   "outputs": [
    {
     "name": "stdout",
     "output_type": "stream",
     "text": [
      "[1, 2, 3]\n",
      "[1, 2, 3, 3, 2, 1]\n"
     ]
    }
   ],
   "source": [
    "# zoznam je mutable\n",
    "x = [1, 2, 3]\n",
    "y = x\n",
    "print(x)\n",
    "y += [3, 2, 1]\n",
    "print(x)"
   ]
  },
  {
   "cell_type": "code",
   "execution_count": 5,
   "metadata": {},
   "outputs": [
    {
     "name": "stdout",
     "output_type": "stream",
     "text": [
      "2361332410504\n",
      "2361332410504\n"
     ]
    }
   ],
   "source": [
    "print(id(x))\n",
    "print(id(y))"
   ]
  },
  {
   "cell_type": "markdown",
   "metadata": {
    "slideshow": {
     "slide_type": "slide"
    }
   },
   "source": [
    "# Pozor, v Pythone sa parametre funkcie predavaju referenciou\n",
    "Pri mutable objektoch to moze sposobit necakane veci ak neviete, co sa vo funkcii deje"
   ]
  },
  {
   "cell_type": "code",
   "execution_count": 76,
   "metadata": {},
   "outputs": [
    {
     "name": "stdout",
     "output_type": "stream",
     "text": [
      "foo\n",
      "foo\n"
     ]
    }
   ],
   "source": [
    "def func(val):\n",
    "    val += 'bar'\n",
    "\n",
    "x = 'foo' # retazec je immutable, objekt sa nezmeni\n",
    "print(x)\n",
    "func(x)\n",
    "print(x)"
   ]
  },
  {
   "cell_type": "code",
   "execution_count": 77,
   "metadata": {},
   "outputs": [
    {
     "name": "stdout",
     "output_type": "stream",
     "text": [
      "[1, 2, 3]\n",
      "[1, 2, 3, 3, 2, 1]\n"
     ]
    }
   ],
   "source": [
    "def func(val):\n",
    "    val += [3, 2, 1]\n",
    "\n",
    "x = [1, 2, 3] # zoznam je mutable, zmeni sa premenna mimo bloku funkcie\n",
    "print(x)\n",
    "func(x)\n",
    "print(x)"
   ]
  },
  {
   "cell_type": "markdown",
   "metadata": {
    "slideshow": {
     "slide_type": "slide"
    }
   },
   "source": [
    "# Ak predate immutable objekt funkcii, tak vam ho funkcia urcite nezmeni"
   ]
  },
  {
   "cell_type": "markdown",
   "metadata": {
    "slideshow": {
     "slide_type": "slide"
    }
   },
   "source": [
    "# String je immutable\n",
    "Podobne ako vsetky zakladne typy"
   ]
  },
  {
   "cell_type": "code",
   "execution_count": 78,
   "metadata": {},
   "outputs": [
    {
     "name": "stdout",
     "output_type": "stream",
     "text": [
      "text\n",
      "Adresa je: 140314297470624\n"
     ]
    }
   ],
   "source": [
    "a = 'text'\n",
    "print(a)\n",
    "print('Adresa je: {}'.format(id(a)))"
   ]
  },
  {
   "cell_type": "code",
   "execution_count": 79,
   "metadata": {
    "scrolled": true
   },
   "outputs": [
    {
     "ename": "TypeError",
     "evalue": "'str' object does not support item assignment",
     "output_type": "error",
     "traceback": [
      "\u001b[0;31m---------------------------------------------------------------------------\u001b[0m",
      "\u001b[0;31mTypeError\u001b[0m                                 Traceback (most recent call last)",
      "\u001b[0;32m<ipython-input-79-309bd94f7dc8>\u001b[0m in \u001b[0;36m<module>\u001b[0;34m()\u001b[0m\n\u001b[1;32m      1\u001b[0m \u001b[0;31m# Znamena to, ze neviem menit hodnotu\u001b[0m\u001b[0;34m\u001b[0m\u001b[0;34m\u001b[0m\u001b[0m\n\u001b[0;32m----> 2\u001b[0;31m \u001b[0ma\u001b[0m\u001b[0;34m[\u001b[0m\u001b[0;36m0\u001b[0m\u001b[0;34m]\u001b[0m \u001b[0;34m=\u001b[0m \u001b[0;34m'T'\u001b[0m\u001b[0;34m\u001b[0m\u001b[0m\n\u001b[0m\u001b[1;32m      3\u001b[0m \u001b[0mprint\u001b[0m\u001b[0;34m(\u001b[0m\u001b[0ma\u001b[0m\u001b[0;34m)\u001b[0m\u001b[0;34m\u001b[0m\u001b[0m\n\u001b[1;32m      4\u001b[0m \u001b[0mprint\u001b[0m\u001b[0;34m(\u001b[0m\u001b[0;34m'Adresa je: {}'\u001b[0m\u001b[0;34m.\u001b[0m\u001b[0mformat\u001b[0m\u001b[0;34m(\u001b[0m\u001b[0mid\u001b[0m\u001b[0;34m(\u001b[0m\u001b[0ma\u001b[0m\u001b[0;34m)\u001b[0m\u001b[0;34m)\u001b[0m\u001b[0;34m)\u001b[0m\u001b[0;34m\u001b[0m\u001b[0m\n",
      "\u001b[0;31mTypeError\u001b[0m: 'str' object does not support item assignment"
     ]
    }
   ],
   "source": [
    "# Znamena to, ze neviem menit hodnotu\n",
    "a[0] = 'T'\n",
    "print(a)\n",
    "print('Adresa je: {}'.format(id(a)))"
   ]
  },
  {
   "cell_type": "markdown",
   "metadata": {
    "slideshow": {
     "slide_type": "slide"
    }
   },
   "source": [
    "# List je mutable"
   ]
  },
  {
   "cell_type": "code",
   "execution_count": 80,
   "metadata": {},
   "outputs": [
    {
     "name": "stdout",
     "output_type": "stream",
     "text": [
      "[1, 2, 3, 4, 5]\n",
      "Adresa je: 140314100315464\n"
     ]
    }
   ],
   "source": [
    "a = [1,2,3,4,5]\n",
    "print(a)\n",
    "print('Adresa je: {}'.format(id(a)))"
   ]
  },
  {
   "cell_type": "code",
   "execution_count": 81,
   "metadata": {},
   "outputs": [
    {
     "name": "stdout",
     "output_type": "stream",
     "text": [
      "['T', 2, 3, 4, 5]\n",
      "Adresa je: 140314100315464\n"
     ]
    }
   ],
   "source": [
    "# Znamena to, ze neviem menit hodnotu\n",
    "a[0] = 'T'\n",
    "print(a)\n",
    "print('Adresa je: {}'.format(id(a)))"
   ]
  },
  {
   "cell_type": "markdown",
   "metadata": {
    "slideshow": {
     "slide_type": "slide"
    }
   },
   "source": [
    "# Tuple je immutable"
   ]
  },
  {
   "cell_type": "code",
   "execution_count": 82,
   "metadata": {},
   "outputs": [
    {
     "data": {
      "text/plain": [
       "(1, 2, 3, 4, 5)"
      ]
     },
     "execution_count": 82,
     "metadata": {},
     "output_type": "execute_result"
    }
   ],
   "source": [
    "t1 = (1, 2, 3, 4, 5)\n",
    "t1"
   ]
  },
  {
   "cell_type": "code",
   "execution_count": 83,
   "metadata": {},
   "outputs": [
    {
     "data": {
      "text/plain": [
       "2"
      ]
     },
     "execution_count": 83,
     "metadata": {},
     "output_type": "execute_result"
    }
   ],
   "source": [
    "t1[1]"
   ]
  },
  {
   "cell_type": "code",
   "execution_count": 84,
   "metadata": {},
   "outputs": [
    {
     "ename": "TypeError",
     "evalue": "'tuple' object does not support item assignment",
     "output_type": "error",
     "traceback": [
      "\u001b[0;31m---------------------------------------------------------------------------\u001b[0m",
      "\u001b[0;31mTypeError\u001b[0m                                 Traceback (most recent call last)",
      "\u001b[0;32m<ipython-input-84-ab9dff0930da>\u001b[0m in \u001b[0;36m<module>\u001b[0;34m()\u001b[0m\n\u001b[0;32m----> 1\u001b[0;31m \u001b[0mt1\u001b[0m\u001b[0;34m[\u001b[0m\u001b[0;36m1\u001b[0m\u001b[0;34m]\u001b[0m\u001b[0;34m=\u001b[0m\u001b[0;36m3\u001b[0m\u001b[0;34m\u001b[0m\u001b[0m\n\u001b[0m",
      "\u001b[0;31mTypeError\u001b[0m: 'tuple' object does not support item assignment"
     ]
    }
   ],
   "source": [
    "t1[1]=3"
   ]
  },
  {
   "cell_type": "markdown",
   "metadata": {
    "slideshow": {
     "slide_type": "slide"
    }
   },
   "source": [
    "# Nemennost moze komplikovat pracu s objektami"
   ]
  },
  {
   "cell_type": "code",
   "execution_count": 85,
   "metadata": {},
   "outputs": [
    {
     "data": {
      "text/plain": [
       "(1, 2, 17, 4, 5)"
      ]
     },
     "execution_count": 85,
     "metadata": {},
     "output_type": "execute_result"
    }
   ],
   "source": [
    "t1 = (1, 2, 3, 4, 5)\n",
    "# Ked chceme update, treba vyrobit novy objekt\n",
    "t2 = t1[:2] + (17, ) + t1[3:]\n",
    "t2"
   ]
  },
  {
   "cell_type": "code",
   "execution_count": 86,
   "metadata": {},
   "outputs": [
    {
     "data": {
      "text/plain": [
       "(1, 2, 17, 4, 5)"
      ]
     },
     "execution_count": 86,
     "metadata": {},
     "output_type": "execute_result"
    }
   ],
   "source": [
    "# alebo\n",
    "l1 = list(t1)\n",
    "l1[2] = 17\n",
    "t2 = tuple(l1)\n",
    "t2"
   ]
  },
  {
   "cell_type": "code",
   "execution_count": 87,
   "metadata": {},
   "outputs": [
    {
     "data": {
      "text/plain": [
       "[1, 2, 17, 4, 5]"
      ]
     },
     "execution_count": 87,
     "metadata": {},
     "output_type": "execute_result"
    }
   ],
   "source": [
    "# vs. \n",
    "a = [1,2,3,4,5]\n",
    "a[2] = 17\n",
    "a"
   ]
  },
  {
   "cell_type": "markdown",
   "metadata": {
    "slideshow": {
     "slide_type": "slide"
    }
   },
   "source": [
    "# Preco je nemennost dobra"
   ]
  },
  {
   "cell_type": "markdown",
   "metadata": {
    "slideshow": {
     "slide_type": "slide"
    }
   },
   "source": [
    "# Netreba pocitat s tym, ze sa vam moze objekt zmenit\n",
    "\n",
    "* Je to bezpecnejsie.\n",
    "* vznika menej chyb\n",
    "* Lahsie sa debuguje"
   ]
  },
  {
   "cell_type": "markdown",
   "metadata": {
    "slideshow": {
     "slide_type": "slide"
    }
   },
   "source": [
    "# Lahsie sa testuje\n",
    "\n",
    "* staci test na jednu funkciu a nie celu skupinu objektov\n",
    "* Ak testujete fuknciu, ktora meni objekty, tak moze vzniknut viacero testovych pachov\n",
    "\n",
    "![testy1](img/testy1.png)"
   ]
  },
  {
   "cell_type": "markdown",
   "metadata": {
    "slideshow": {
     "slide_type": "slide"
    }
   },
   "source": [
    "![testy2](img/testy2.png)"
   ]
  },
  {
   "cell_type": "markdown",
   "metadata": {
    "slideshow": {
     "slide_type": "slide"
    }
   },
   "source": [
    "# Toto je dovod, preco ma Test Driven Development (TDD) taky usepch\n",
    "\n",
    "* Testy sa píšu ešte pred kódom\n",
    "* Zamýšľate sa ako napísať kód tak, aby bol testovateľný\n",
    "* Bez toho aby ste o tom vedeli odstraňujete vedľajšie efekty\n",
    "* Snazite sa o to, aby na sebe funkcie co najmenej zaviseli\n",
    "* Pripravovanie objektov je pre vas zbytocnou komplikaciou\n",
    "* Zmena stavu objektu sposobuje, ze musite pisat velmi vela testov aby ste osetrili mnozstvo hranicnych stavov. A kedze sme tvroy lenive, tak nas to prirodzene vedie k tomu, aby sme pisali kod, ktory sa lahko testuje a nepouziva komplikovane obejkty a zavislosti od stavu.\n"
   ]
  },
  {
   "cell_type": "markdown",
   "metadata": {
    "slideshow": {
     "slide_type": "slide"
    }
   },
   "source": [
    "# Da sa lahsie zdielat medzi vlaknami a procesmi\n",
    "* netreba synchronizovat pristup k objektom a stavu"
   ]
  },
  {
   "cell_type": "markdown",
   "metadata": {
    "slideshow": {
     "slide_type": "slide"
    }
   },
   "source": [
    "# Da sa hashovat\n",
    "\n",
    "* ak pouzijete premenlivy obejkt ako kluc a zmenite jeho stav, tak aj hodnota hashovacej funkkcie spocitanej z tohto objektu sa zmeni. To znamena, ze by ste po zmene obejktu uz nenasli povodny zaznam v hashovacej tabulke.\n",
    "* ak pouzijete nemenny objekt ako kluc, tak sa urcite nezmeni a ani hodnota hashovacej funkcie sa urcite nezmeni \n",
    "* hashovacia funkcia nad nim vzdy vrati rovnaku hodnotu"
   ]
  },
  {
   "cell_type": "markdown",
   "metadata": {
    "slideshow": {
     "slide_type": "slide"
    }
   },
   "source": [
    "# Objekty mozu byt mensie. Zaberaju menej miesta v pamati a operacie nad  nimi mozu byt rychlejsie.\n",
    "\n",
    "* nepotrebujete reziu na to, aby ste umoznili velke mnzostvo transformacii."
   ]
  },
  {
   "cell_type": "markdown",
   "metadata": {
    "slideshow": {
     "slide_type": "slide"
    }
   },
   "source": [
    "# Ale!!!\n",
    "* Je treba vytvarat velmi vela objektov. \n",
    "* Garbage collector sa narobi."
   ]
  },
  {
   "cell_type": "code",
   "execution_count": 88,
   "metadata": {},
   "outputs": [
    {
     "name": "stdout",
     "output_type": "stream",
     "text": [
      "<ul>\n",
      "\t<li>Jozo</li>\n",
      "\t<li>Eva</li>\n",
      "\t<li>Fero</li>\n",
      "\t<li>Miro</li>\n",
      "\t<li>Anna</li>\n",
      "\t<li>Kristina</li>\n",
      "</ul>\n"
     ]
    }
   ],
   "source": [
    "# inspirovane https://www.youtube.com/watch?v=5qQQ3yzbKp8\n",
    "employees = ['Jozo', 'Eva', 'Fero', 'Miro', 'Anna', 'Kristina']\n",
    "\n",
    "output = '<ul>\\n'\n",
    "\n",
    "for employee in employees:\n",
    "    output += '\\t<li>{}</li>\\n'.format(employee)\n",
    "#     print('Adresa outputu je: {}'.format(id(output)))\n",
    "\n",
    "output += '</ul>'\n",
    "\n",
    "print(output)"
   ]
  },
  {
   "cell_type": "markdown",
   "metadata": {},
   "source": [
    "Postupne vytvarame retazec, ktoreho velkost stale rastie a zakazdym sa vytvori novy a novy objekt. Kazdy docasny obejkt sa musi potom odstranit pomocou garbage collectoru. Zostane zachovana referencia len na ten posledny objekt."
   ]
  },
  {
   "cell_type": "markdown",
   "metadata": {
    "slideshow": {
     "slide_type": "slide"
    }
   },
   "source": [
    "# Ako zabezpecit nemennost objektov?\n",
    "\n",
    "* konvencia\n",
    "* vynutit si ju"
   ]
  },
  {
   "cell_type": "markdown",
   "metadata": {
    "collapsed": true,
    "slideshow": {
     "slide_type": "slide"
    }
   },
   "source": [
    "# S vela vecami si mozeme pomoct kniznicou Pyrsistent"
   ]
  },
  {
   "cell_type": "code",
   "execution_count": 89,
   "metadata": {},
   "outputs": [],
   "source": [
    "import pyrsistent as ps"
   ]
  },
  {
   "cell_type": "markdown",
   "metadata": {
    "slideshow": {
     "slide_type": "slide"
    }
   },
   "source": [
    "# List / Vektor"
   ]
  },
  {
   "cell_type": "code",
   "execution_count": 90,
   "metadata": {},
   "outputs": [
    {
     "data": {
      "text/plain": [
       "True"
      ]
     },
     "execution_count": 90,
     "metadata": {},
     "output_type": "execute_result"
    }
   ],
   "source": [
    "v1 = ps.pvector([1, 2, 3, 4])\n",
    "v1 == ps.v(1, 2, 3, 4)"
   ]
  },
  {
   "cell_type": "code",
   "execution_count": 91,
   "metadata": {},
   "outputs": [
    {
     "data": {
      "text/plain": [
       "2"
      ]
     },
     "execution_count": 91,
     "metadata": {},
     "output_type": "execute_result"
    }
   ],
   "source": [
    "v1[1]"
   ]
  },
  {
   "cell_type": "code",
   "execution_count": 92,
   "metadata": {},
   "outputs": [
    {
     "data": {
      "text/plain": [
       "pvector([2, 3])"
      ]
     },
     "execution_count": 92,
     "metadata": {},
     "output_type": "execute_result"
    }
   ],
   "source": [
    "v1[1:3]"
   ]
  },
  {
   "cell_type": "code",
   "execution_count": 93,
   "metadata": {
    "slideshow": {
     "slide_type": "slide"
    }
   },
   "outputs": [
    {
     "ename": "TypeError",
     "evalue": "'pvectorc.PVector' object does not support item assignment",
     "output_type": "error",
     "traceback": [
      "\u001b[0;31m---------------------------------------------------------------------------\u001b[0m",
      "\u001b[0;31mTypeError\u001b[0m                                 Traceback (most recent call last)",
      "\u001b[0;32m<ipython-input-93-00087ab71557>\u001b[0m in \u001b[0;36m<module>\u001b[0;34m()\u001b[0m\n\u001b[0;32m----> 1\u001b[0;31m \u001b[0mv1\u001b[0m\u001b[0;34m[\u001b[0m\u001b[0;36m1\u001b[0m\u001b[0;34m]\u001b[0m \u001b[0;34m=\u001b[0m \u001b[0;36m3\u001b[0m\u001b[0;34m\u001b[0m\u001b[0m\n\u001b[0m",
      "\u001b[0;31mTypeError\u001b[0m: 'pvectorc.PVector' object does not support item assignment"
     ]
    }
   ],
   "source": [
    "v1[1] = 3"
   ]
  },
  {
   "cell_type": "code",
   "execution_count": 95,
   "metadata": {},
   "outputs": [
    {
     "name": "stdout",
     "output_type": "stream",
     "text": [
      "pvector([1, 5, 3, 4]) 140314100300968\n",
      "pvector([1, 2, 3, 4]) 140314100300464\n"
     ]
    }
   ],
   "source": [
    "v3 = v1.set(1, 5)\n",
    "print(v3, id(v3))\n",
    "print(v1, id(v1))"
   ]
  },
  {
   "cell_type": "markdown",
   "metadata": {
    "collapsed": true,
    "slideshow": {
     "slide_type": "slide"
    }
   },
   "source": [
    "# Map / dict"
   ]
  },
  {
   "cell_type": "code",
   "execution_count": 96,
   "metadata": {},
   "outputs": [
    {
     "data": {
      "text/plain": [
       "True"
      ]
     },
     "execution_count": 96,
     "metadata": {},
     "output_type": "execute_result"
    }
   ],
   "source": [
    "m1 = ps.pmap({'a':1, 'b':2})\n",
    "m1 == ps.m(a=1, b=2)"
   ]
  },
  {
   "cell_type": "code",
   "execution_count": 97,
   "metadata": {},
   "outputs": [
    {
     "data": {
      "text/plain": [
       "1"
      ]
     },
     "execution_count": 97,
     "metadata": {},
     "output_type": "execute_result"
    }
   ],
   "source": [
    "m1['a']"
   ]
  },
  {
   "cell_type": "code",
   "execution_count": 98,
   "metadata": {},
   "outputs": [
    {
     "data": {
      "text/plain": [
       "2"
      ]
     },
     "execution_count": 98,
     "metadata": {},
     "output_type": "execute_result"
    }
   ],
   "source": [
    "m1.b # toto s dict nejde"
   ]
  },
  {
   "cell_type": "code",
   "execution_count": 99,
   "metadata": {
    "slideshow": {
     "slide_type": "slide"
    }
   },
   "outputs": [
    {
     "name": "stdout",
     "output_type": "stream",
     "text": [
      "pmap({'b': 2, 'a': 3})\n",
      "pmap({'b': 2, 'a': 1})\n"
     ]
    }
   ],
   "source": [
    "print(m1.set('a', 3))\n",
    "print(m1)"
   ]
  },
  {
   "cell_type": "code",
   "execution_count": 100,
   "metadata": {},
   "outputs": [
    {
     "name": "stdout",
     "output_type": "stream",
     "text": [
      "140314100301112 140314100301256\n"
     ]
    }
   ],
   "source": [
    "print(id(m1), id(m1.set('a', 3)))"
   ]
  },
  {
   "cell_type": "markdown",
   "metadata": {
    "slideshow": {
     "slide_type": "slide"
    }
   },
   "source": [
    "### Transformacia mutable <=> immutable"
   ]
  },
  {
   "cell_type": "code",
   "execution_count": 101,
   "metadata": {},
   "outputs": [
    {
     "data": {
      "text/plain": [
       "pvector([1, pmap({'a': 3})])"
      ]
     },
     "execution_count": 101,
     "metadata": {},
     "output_type": "execute_result"
    }
   ],
   "source": [
    "ps.freeze([1, {'a': 3}])"
   ]
  },
  {
   "cell_type": "code",
   "execution_count": 102,
   "metadata": {},
   "outputs": [
    {
     "data": {
      "text/plain": [
       "[1, {'a': 3}]"
      ]
     },
     "execution_count": 102,
     "metadata": {},
     "output_type": "execute_result"
    }
   ],
   "source": [
    "ps.thaw(ps.v(1, ps.m(a=3)))"
   ]
  },
  {
   "cell_type": "markdown",
   "metadata": {
    "slideshow": {
     "slide_type": "slide"
    }
   },
   "source": [
    "# ... a dalsie immutable struktury\n",
    "https://github.com/tobgu/pyrsistent\n",
    "\n",
    "* PVector, similar to a python list\n",
    "* PMap, similar to dict\n",
    "* PSet, similar to set\n",
    "* PRecord, a PMap on steroids with fixed fields, optional type and invariant checking and much more\n",
    "* PClass, a Python class fixed fields, optional type and invariant checking and much more\n",
    "* Checked collections, PVector, PMap and PSet with optional type and invariance checks and more\n",
    "* PBag, similar to collections.Counter\n",
    "* PList, a classic singly linked list\n",
    "* PDeque, similar to collections.deque\n",
    "* Immutable object type (immutable) built on the named tuple\n",
    "* freeze and thaw functions to convert between pythons standard collections and pyrsistent collections.\n",
    "* Flexible transformations of arbitrarily complex structures built from PMaps and PVectors."
   ]
  },
  {
   "cell_type": "markdown",
   "metadata": {
    "slideshow": {
     "slide_type": "slide"
    }
   },
   "source": [
    "# Da sa nieco spravit s tou spotrebou pamati? "
   ]
  },
  {
   "cell_type": "markdown",
   "metadata": {
    "slideshow": {
     "slide_type": "slide"
    }
   },
   "source": [
    "# Po niektorych operaciach sa objekty dost podobaju"
   ]
  },
  {
   "cell_type": "code",
   "execution_count": 103,
   "metadata": {
    "slideshow": {
     "slide_type": "-"
    }
   },
   "outputs": [
    {
     "name": "stdout",
     "output_type": "stream",
     "text": [
      "pvector([0, 1, 2, 3, 4, 5, 6, 7, 8])\n",
      "pvector([0, 1, 2, 3, 4, 'beef', 6, 7, 8])\n"
     ]
    }
   ],
   "source": [
    "v1 = ps.v(0, 1, 2, 3, 4, 5, 6, 7, 8) \n",
    "print(v1)\n",
    "v2 = v1.set(5, 'beef') \n",
    "print(v2)"
   ]
  },
  {
   "cell_type": "markdown",
   "metadata": {
    "slideshow": {
     "slide_type": "slide"
    }
   },
   "source": [
    "# Zdielanie casti datovej struktury\n",
    "\n",
    "pvector([0, 1, 2, 3, 4, 5, 6, 7, 8])\n",
    "\n",
    "pvector([0, 1, 2, 3, 4, 'beef', 6, 7, 8])\n",
    "![zdielanie casti datovej struktury](img/update.png)\n",
    "http://hypirion.com/musings/understanding-persistent-vector-pt-1"
   ]
  },
  {
   "cell_type": "markdown",
   "metadata": {
    "slideshow": {
     "slide_type": "slide"
    }
   },
   "source": [
    "# Nanestastie, Python toto nepodporuje\n",
    "\n",
    "Niektore funkcionalne jazyky ako napriklad Clojure ale ano."
   ]
  },
  {
   "cell_type": "markdown",
   "metadata": {
    "slideshow": {
     "slide_type": "slide"
    }
   },
   "source": [
    "# 2. Higher order functions"
   ]
  },
  {
   "cell_type": "markdown",
   "metadata": {
    "slideshow": {
     "slide_type": "slide"
    }
   },
   "source": [
    "# Funkcional v LISPe (a inych funkcionalnych jazykoch) je funkcia, ktora ma ako argument funkciu alebo funkciu vracia\n",
    "* FUNCALL - vykonanie funkcie s argumentami\n",
    "* MAPCAR - zobrazenie\n",
    "* REMOVE-IF/REMOVE-IF-NOT - filter\n",
    "* REDUCE - redukcia\n",
    "* ..."
   ]
  },
  {
   "cell_type": "markdown",
   "metadata": {
    "slideshow": {
     "slide_type": "slide"
    }
   },
   "source": [
    "# V Pythone a inych jazykoch\n",
    "* **Funkcia vyssej urovne** (Higher order function) - je funkcia, ktora dostava funkciu ako parameter\n",
    "* **Generator** - je funkcia, ktora vracia funkciu"
   ]
  },
  {
   "cell_type": "markdown",
   "metadata": {
    "slideshow": {
     "slide_type": "slide"
    }
   },
   "source": [
    "# Funkcie vyssej urovne sa daju velmi dobre pouzit na spracovanie zoznamu\n",
    "\n",
    "Minimalne je to ich najcastejsie pouzitie. Casto sa ale pouzivaju aj na ine struktury: napr.: strom\n",
    "\n",
    "Najcastejsie operacie so zoznamom:\n",
    "* zobrazenie\n",
    "* filter\n",
    "* redukcia"
   ]
  },
  {
   "cell_type": "markdown",
   "metadata": {
    "slideshow": {
     "slide_type": "slide"
    }
   },
   "source": [
    "# Zobrazenie\n",
    "\n",
    "Aplikovanie funkcie/transformacie na vsetky prvky zoznamu a vytvorenie noveho zoznamu z transformovanych prvkov"
   ]
  },
  {
   "cell_type": "code",
   "execution_count": 7,
   "metadata": {},
   "outputs": [],
   "source": [
    "def process_item(x):\n",
    "    return x*x\n",
    "item_list = [1,2,3,4,5,6]"
   ]
  },
  {
   "cell_type": "code",
   "execution_count": 8,
   "metadata": {},
   "outputs": [
    {
     "data": {
      "text/plain": [
       "[1, 4, 9, 16, 25, 36]"
      ]
     },
     "execution_count": 8,
     "metadata": {},
     "output_type": "execute_result"
    }
   ],
   "source": [
    "# impertivny zapis \n",
    "collection = []\n",
    "for item in item_list:\n",
    "    partial_result = process_item(item)\n",
    "    collection.append(partial_result)\n",
    "collection"
   ]
  },
  {
   "cell_type": "code",
   "execution_count": 10,
   "metadata": {
    "slideshow": {
     "slide_type": "slide"
    }
   },
   "outputs": [
    {
     "data": {
      "text/plain": [
       "[1, 4, 9, 16, 25, 36]"
      ]
     },
     "execution_count": 10,
     "metadata": {},
     "output_type": "execute_result"
    }
   ],
   "source": [
    "#  C-like zapis\n",
    "collection = [0] * len(item_list) # nahrada mallocu\n",
    "index = 0\n",
    "while index < len(item_list):\n",
    "    partial_result = process_item(item_list[index])\n",
    "    collection[index] = partial_result\n",
    "    index += 1\n",
    "collection"
   ]
  },
  {
   "cell_type": "markdown",
   "metadata": {},
   "source": [
    "# Zobrazenie je tak casta operacia, ze ma zmysel spravit nejaku abstrakciu, aby som to nemusel implementovat stale odznova."
   ]
  },
  {
   "cell_type": "markdown",
   "metadata": {
    "slideshow": {
     "slide_type": "slide"
    }
   },
   "source": [
    "# Zobrazenie pomocou funkcie vyssej urovne je prehladnejsie"
   ]
  },
  {
   "cell_type": "code",
   "execution_count": 11,
   "metadata": {},
   "outputs": [],
   "source": [
    "def process_item(x):\n",
    "    return x*x\n",
    "item_list = [1,2,3,4,5,6]"
   ]
  },
  {
   "cell_type": "code",
   "execution_count": 12,
   "metadata": {},
   "outputs": [
    {
     "data": {
      "text/plain": [
       "[1, 4, 9, 16, 25, 36]"
      ]
     },
     "execution_count": 12,
     "metadata": {},
     "output_type": "execute_result"
    }
   ],
   "source": [
    "# funkcionalny zapis\n",
    "collection = map(process_item, item_list)\n",
    "list(collection)"
   ]
  },
  {
   "cell_type": "markdown",
   "metadata": {
    "slideshow": {
     "slide_type": "slide"
    }
   },
   "source": [
    "Nezaujima ma ako je `map` implementovane.\n",
    "\n",
    "Funkcia `map` predstavuje abstrakciu. Ak niekto zmeni implementaciu map, tak ma to niejak neovplyvni. Ak map a ani `process_item` nema ziadne vedlajsie vplyvy (su to ciste funkcie), tak su na sebe uplne nezavisle a mzoem ich menit bez toho aby som menil zvysok kodu.\n",
    "\n",
    "Viem co chcem dosiahnut a nezaujima ma ako sa to vykona. Deklarujem co chcem dostat a nemusim imperativne hovorit ako to chcem dostat.\n",
    "\n"
   ]
  },
  {
   "cell_type": "markdown",
   "metadata": {
    "slideshow": {
     "slide_type": "slide"
    }
   },
   "source": [
    "# Dalsi priklad pouzitia funkcie map"
   ]
  },
  {
   "cell_type": "code",
   "execution_count": 13,
   "metadata": {},
   "outputs": [
    {
     "name": "stdout",
     "output_type": "stream",
     "text": [
      "[97.7, 98.60000000000001, 99.5, 100.4, 102.2]\n",
      "[36.5, 37.00000000000001, 37.5, 38.00000000000001, 39.0]\n"
     ]
    }
   ],
   "source": [
    "def fahrenheit(T):\n",
    "    return ((float(9)/5)*T + 32)\n",
    "\n",
    "def celsius(T):\n",
    "    return (float(5)/9)*(T-32)\n",
    " \n",
    "temperatures = (36.5, 37, 37.5, 38, 39)\n",
    "F = list(map(fahrenheit, temperatures))\n",
    "C = list(map(celsius, map(fahrenheit, temperatures)))\n",
    "print(F)\n",
    "print(C)"
   ]
  },
  {
   "cell_type": "markdown",
   "metadata": {
    "slideshow": {
     "slide_type": "slide"
    }
   },
   "source": [
    "# Alebo este iny"
   ]
  },
  {
   "cell_type": "code",
   "execution_count": 14,
   "metadata": {},
   "outputs": [
    {
     "data": {
      "text/plain": [
       "[8, 1, 42, 41, 43, 41]"
      ]
     },
     "execution_count": 14,
     "metadata": {},
     "output_type": "execute_result"
    }
   ],
   "source": [
    "list(map(len, open('data/morho.txt')))"
   ]
  },
  {
   "cell_type": "code",
   "execution_count": 15,
   "metadata": {},
   "outputs": [
    {
     "name": "stdout",
     "output_type": "stream",
     "text": [
      "Mor ho!\n",
      "\n",
      "\n",
      "\n",
      "Zleteli orly z Tatry, tiahnu na podolia, \n",
      "\n",
      "ponad vysokÃ© hory, ponad rovnÃ© polia; \n",
      "\n",
      "preleteli cez Dunaj, cez tÃº Å¡Ã­ru vodu, \n",
      "\n",
      "sadli tam za pomedzÃ­m slovenskÃ©ho rodu.\n"
     ]
    },
    {
     "data": {
      "text/plain": [
       "[None, None, None, None, None, None]"
      ]
     },
     "execution_count": 15,
     "metadata": {},
     "output_type": "execute_result"
    }
   ],
   "source": [
    "list(map(print, open('data/morho.txt')))"
   ]
  },
  {
   "cell_type": "markdown",
   "metadata": {
    "slideshow": {
     "slide_type": "slide"
    }
   },
   "source": [
    "# Funkcia *map* odstranuje potrebu udrzovat si stav\n",
    "\n",
    "* nepotrebujem ziadnu kolekciu, ktora je v nejakom case ciastocne naplnena\n",
    "* nepotrebujem ziadny index, ktory sa inkrementuje\n",
    "* nestaram sa o to, ako map funguje\n",
    "  * iterativne, rekurziou, paralelne, distribuovane, pomocou indexu?\n",
    "* nestaram sa o vnutornu strukturu kolekcie\n",
    "  * staci aby sa cez nu dalo iterovat (o tomto si povieme viac nabuduce)"
   ]
  },
  {
   "cell_type": "markdown",
   "metadata": {
    "slideshow": {
     "slide_type": "slide"
    }
   },
   "source": [
    "# Funkcia map by mohla byt implementovana napriklad takto"
   ]
  },
  {
   "cell_type": "code",
   "execution_count": null,
   "metadata": {},
   "outputs": [],
   "source": [
    "def my_map(f, seq): # Takto by to mohlo byt v pythone 2 a nie 3. Tam map vracia iterator (co je iterator vysvetlim neskor).\n",
    "    result = []\n",
    "    for x in seq:\n",
    "        result.append(f(x))\n",
    "    return result "
   ]
  },
  {
   "cell_type": "markdown",
   "metadata": {
    "slideshow": {
     "slide_type": "slide"
    }
   },
   "source": [
    "# Filter\n",
    "\n",
    "Dalsia velmi casta operacia\n",
    "\n",
    "Zo zoznamu sa vytvara novy zoznam s tymi prvkami, ktore splnaju podmienku"
   ]
  },
  {
   "cell_type": "code",
   "execution_count": 124,
   "metadata": {},
   "outputs": [],
   "source": [
    "item_list = [1,2,3,4,5,6]\n",
    "def condition(x):\n",
    "    return(x % 2 == 0)"
   ]
  },
  {
   "cell_type": "code",
   "execution_count": 125,
   "metadata": {},
   "outputs": [
    {
     "data": {
      "text/plain": [
       "[2, 4, 6]"
      ]
     },
     "execution_count": 125,
     "metadata": {},
     "output_type": "execute_result"
    }
   ],
   "source": [
    "collection = []\n",
    "for item in item_list:\n",
    "    if condition(item):\n",
    "        collection.append(item)\n",
    "collection"
   ]
  },
  {
   "cell_type": "markdown",
   "metadata": {
    "slideshow": {
     "slide_type": "slide"
    }
   },
   "source": [
    "# Filter pomocou funkcie vyssej urovne"
   ]
  },
  {
   "cell_type": "code",
   "execution_count": null,
   "metadata": {},
   "outputs": [],
   "source": [
    "item_list = [1,2,3,4,5,6]\n",
    "def condition(x):\n",
    "    return(x % 2 == 0)"
   ]
  },
  {
   "cell_type": "code",
   "execution_count": 126,
   "metadata": {},
   "outputs": [
    {
     "data": {
      "text/plain": [
       "[2, 4, 6]"
      ]
     },
     "execution_count": 126,
     "metadata": {},
     "output_type": "execute_result"
    }
   ],
   "source": [
    "collection = filter(condition, item_list)\n",
    "list(collection)"
   ]
  },
  {
   "cell_type": "markdown",
   "metadata": {
    "slideshow": {
     "slide_type": "slide"
    }
   },
   "source": [
    "# Dalsi priklad pouzitia funkcie *Filter*"
   ]
  },
  {
   "cell_type": "code",
   "execution_count": null,
   "metadata": {},
   "outputs": [],
   "source": [
    "fibonacci = [0,1,1,2,3,5,8,13,21,34,55]\n",
    "def is_even(x):\n",
    "    return x % 2 == 0\n",
    "\n",
    "list(filter(is_even, fibonacci))"
   ]
  },
  {
   "cell_type": "markdown",
   "metadata": {
    "slideshow": {
     "slide_type": "slide"
    }
   },
   "source": [
    "# Redukcia\n",
    "\n",
    "reduce(func, seq, init) \n",
    "\n",
    "func(a, b)\n",
    "\n",
    "Opakovane aplikuje funkciu na sekvenciu. \n",
    "\n",
    "*func* prijma dva argumenty: hodnotu akumulatora a jeden prvok mnoziny\n",
    "\n",
    "Atributom *func* moze byt prvok sekvencie alebo navratova hodnota inej *func*\n",
    "\n",
    "![reduce](http://www.python-course.eu/images/reduce.png)"
   ]
  },
  {
   "cell_type": "markdown",
   "metadata": {
    "slideshow": {
     "slide_type": "slide"
    }
   },
   "source": [
    "# Typicky priklad je suma prvkov zoznamu"
   ]
  },
  {
   "cell_type": "code",
   "execution_count": 127,
   "metadata": {},
   "outputs": [],
   "source": [
    "item_list = [47,11,42,13]\n",
    "def add(a,b):\n",
    "    return(a+b)"
   ]
  },
  {
   "cell_type": "code",
   "execution_count": 128,
   "metadata": {},
   "outputs": [
    {
     "data": {
      "text/plain": [
       "113"
      ]
     },
     "execution_count": 128,
     "metadata": {},
     "output_type": "execute_result"
    }
   ],
   "source": [
    "from functools import reduce\n",
    "\n",
    "reduce(add, item_list)"
   ]
  },
  {
   "cell_type": "markdown",
   "metadata": {
    "slideshow": {
     "slide_type": "slide"
    }
   },
   "source": [
    "![reduce1](http://www.python-course.eu/images/reduce_diagram.png)"
   ]
  },
  {
   "cell_type": "code",
   "execution_count": null,
   "metadata": {},
   "outputs": [],
   "source": [
    "total = 0 # Takto by to bolo imperativne\n",
    "for item in item_list:\n",
    "    total = add(total, item)\n",
    "total"
   ]
  },
  {
   "cell_type": "markdown",
   "metadata": {
    "slideshow": {
     "slide_type": "slide"
    }
   },
   "source": [
    "# Dalsi priklad - nasobenie prvkov zoznamu"
   ]
  },
  {
   "cell_type": "code",
   "execution_count": 129,
   "metadata": {},
   "outputs": [
    {
     "data": {
      "text/plain": [
       "120"
      ]
     },
     "execution_count": 129,
     "metadata": {},
     "output_type": "execute_result"
    }
   ],
   "source": [
    "from functools import reduce\n",
    "def mul(a,b):\n",
    "    return a * b\n",
    "\n",
    "reduce(mul, [1,2,3,4,5])"
   ]
  },
  {
   "cell_type": "markdown",
   "metadata": {
    "slideshow": {
     "slide_type": "slide"
    }
   },
   "source": [
    "# Vela funkcii uz je predpripravenych"
   ]
  },
  {
   "cell_type": "code",
   "execution_count": null,
   "metadata": {},
   "outputs": [],
   "source": [
    "from operator import add"
   ]
  },
  {
   "cell_type": "code",
   "execution_count": null,
   "metadata": {},
   "outputs": [],
   "source": [
    "from operator import mul"
   ]
  },
  {
   "cell_type": "markdown",
   "metadata": {
    "slideshow": {
     "slide_type": "slide"
    }
   },
   "source": [
    "# Da sa spracovavat aj nieco ine ako cisla"
   ]
  },
  {
   "cell_type": "code",
   "execution_count": 130,
   "metadata": {},
   "outputs": [
    {
     "name": "stdout",
     "output_type": "stream",
     "text": [
      "Mor ho!\n",
      "\n",
      "Zleteli orly z Tatry, tiahnu na podolia, \n",
      "ponad vysoké hory, ponad rovné polia; \n",
      "preleteli cez Dunaj, cez tú šíru vodu, \n",
      "sadli tam za pomedzím slovenského rodu.\n"
     ]
    }
   ],
   "source": [
    "from functools import reduce\n",
    "from operator import add\n",
    "\n",
    "print(reduce(add, open('data/morho.txt')))"
   ]
  },
  {
   "cell_type": "markdown",
   "metadata": {
    "slideshow": {
     "slide_type": "slide"
    }
   },
   "source": [
    "# Da sa napriklad pracovat s mnozinami"
   ]
  },
  {
   "cell_type": "code",
   "execution_count": 131,
   "metadata": {},
   "outputs": [
    {
     "data": {
      "text/plain": [
       "{1, 2, 3}"
      ]
     },
     "execution_count": 131,
     "metadata": {},
     "output_type": "execute_result"
    }
   ],
   "source": [
    "from operator import or_\n",
    "reduce(or_, ({1}, {1, 2}, {1, 3}))  # union"
   ]
  },
  {
   "cell_type": "code",
   "execution_count": 132,
   "metadata": {},
   "outputs": [
    {
     "data": {
      "text/plain": [
       "{1}"
      ]
     },
     "execution_count": 132,
     "metadata": {},
     "output_type": "execute_result"
    }
   ],
   "source": [
    "from operator import and_\n",
    "reduce(and_, ({1}, {1, 2}, {1, 3})) # intersection"
   ]
  },
  {
   "cell_type": "markdown",
   "metadata": {
    "slideshow": {
     "slide_type": "slide"
    }
   },
   "source": [
    "# Lambda funkcia\n",
    "\n",
    "anonymna funkcia"
   ]
  },
  {
   "cell_type": "code",
   "execution_count": 133,
   "metadata": {},
   "outputs": [
    {
     "data": {
      "text/plain": [
       "3"
      ]
     },
     "execution_count": 133,
     "metadata": {},
     "output_type": "execute_result"
    }
   ],
   "source": [
    "my_sum = lambda x, y: x + y\n",
    "my_sum(1,2)"
   ]
  },
  {
   "cell_type": "markdown",
   "metadata": {
    "slideshow": {
     "slide_type": "-"
    }
   },
   "source": [
    "* obemdzenie na jediny riadok\n",
    "* nepotrebuje return"
   ]
  },
  {
   "cell_type": "markdown",
   "metadata": {
    "slideshow": {
     "slide_type": "slide"
    }
   },
   "source": [
    "# Lambda je celkom prakticka ako parameter funkcie vyssej urovne"
   ]
  },
  {
   "cell_type": "code",
   "execution_count": 134,
   "metadata": {},
   "outputs": [
    {
     "name": "stdout",
     "output_type": "stream",
     "text": [
      "[1, 4, 9, 16, 25]\n"
     ]
    }
   ],
   "source": [
    "item_list = [1,2,3,4,5]\n",
    "print(list(map(lambda x: x**2, item_list)))"
   ]
  },
  {
   "cell_type": "code",
   "execution_count": 135,
   "metadata": {},
   "outputs": [
    {
     "data": {
      "text/plain": [
       "['AUTO', 'MACKA', 'TRAKTOR']"
      ]
     },
     "execution_count": 135,
     "metadata": {},
     "output_type": "execute_result"
    }
   ],
   "source": [
    "item_list = [\"auto\", \"macka\", \"traktor\"]\n",
    "list(map(lambda x: x.upper(), item_list))"
   ]
  },
  {
   "cell_type": "markdown",
   "metadata": {
    "slideshow": {
     "slide_type": "slide"
    }
   },
   "source": [
    "# Spracovanie zoznamu (list comprehension)"
   ]
  },
  {
   "cell_type": "code",
   "execution_count": 136,
   "metadata": {},
   "outputs": [
    {
     "name": "stdout",
     "output_type": "stream",
     "text": [
      "[1, 4, 9, 16, 25]\n",
      "[1, 4, 9, 16, 25]\n"
     ]
    }
   ],
   "source": [
    "print(list(map(lambda x: x**2, [1,2,3,4,5])))\n",
    "print([x**2 for x in [1,2,3,4,5]])"
   ]
  },
  {
   "cell_type": "code",
   "execution_count": 17,
   "metadata": {},
   "outputs": [
    {
     "name": "stdout",
     "output_type": "stream",
     "text": [
      "{1, 4, 9, 16, 25}\n",
      "{1, 4, 9, 16, 25}\n"
     ]
    }
   ],
   "source": [
    "print(set(map(lambda x: x**2, [1,2,3,4,5])))\n",
    "print({x**2 for x in [1,2,3,4,5]})"
   ]
  },
  {
   "cell_type": "code",
   "execution_count": 16,
   "metadata": {},
   "outputs": [
    {
     "name": "stdout",
     "output_type": "stream",
     "text": [
      "{2: 8, 4: 64}\n",
      "{2: 8, 4: 64}\n"
     ]
    }
   ],
   "source": [
    "print(dict(map(lambda x: (x, x**3), filter(lambda x: x % 2 == 0, [1,2,3,4,5]))))\n",
    "print(dict((x, x**3) for x in [1,2,3,4,5] if x % 2 == 0))"
   ]
  },
  {
   "cell_type": "markdown",
   "metadata": {
    "slideshow": {
     "slide_type": "slide"
    }
   },
   "source": [
    "# Na co je to cele dobre - MapReduce\n",
    "\n",
    "* je programovací model (framework) vyvinutý a patentovaný spoločnosťou Google, Inc. v roku 2004\n",
    "* hlavným cieľom jeho vývoja bolo uľahčiť programátorom vytváranie dsitribuovaných aplikácií, ktoré spracovávajú veľké objemy dát\n",
    "* zložité výpočty nad veľkým objemom dát musia byť vykonávané paralelne a dsitribuovane, niekedy až na stovkách alebo tisíckach počítačov súčasne\n",
    "* pri takomto spracovaní sa treba okrem samotného výpočtu sústrediť napríklad aj na\n",
    "  * rovnomerné rozdelenie záťaže všetkým dostupným počítačom\n",
    "  * kontrolovanie výpadkov a porúch spolu s ich následným riešením\n",
    "* MapReduce prináša ďalšiu vrstvu abstrakcie medzi výpočet, ktorý sa má realizovať paralelne a jeho vykonanie na konkrétnom hardvéri\n",
    "* Keď napíšem program správne, tak sa nemusím starať na koľkých počítačoch bude bežať"
   ]
  },
  {
   "cell_type": "markdown",
   "metadata": {
    "slideshow": {
     "slide_type": "slide"
    }
   },
   "source": [
    "![mapreduce](img/mapreduce.png)"
   ]
  },
  {
   "cell_type": "markdown",
   "metadata": {
    "slideshow": {
     "slide_type": "slide"
    }
   },
   "source": [
    "# GOTO priklad z netu\n",
    "Celkom pekny priklad na jednoduchu MapReduce ulohu v Pythone.\n",
    "\n",
    "Klasicky Word count priklad\n",
    "\n",
    "http://www.michael-noll.com/tutorials/writing-an-hadoop-mapreduce-program-in-python/"
   ]
  },
  {
   "cell_type": "markdown",
   "metadata": {
    "slideshow": {
     "slide_type": "slide"
    }
   },
   "source": [
    "--- pseudokod ---\n",
    "function map(String name, String document):\n",
    "\n",
    "  // name: document name\n",
    "  \n",
    "  // document: document contents\n",
    "  \n",
    "  for each word w in document:\n",
    "  \n",
    "    emit (w, 1)\n",
    "\n",
    "\n",
    "\n",
    "function reduce(String word, Iterator partialCounts):\n",
    "\n",
    "  // word: a word\n",
    "  \n",
    "  // partialCounts: a list of aggregated partial counts\n",
    "  \n",
    "  sum = 0\n",
    "  \n",
    "  for each pc in partialCounts:\n",
    "  \n",
    "    sum += pc\n",
    "    \n",
    "  emit (word, sum)"
   ]
  },
  {
   "cell_type": "markdown",
   "metadata": {
    "slideshow": {
     "slide_type": "slide"
    }
   },
   "source": [
    "# GOTO Spark"
   ]
  },
  {
   "cell_type": "markdown",
   "metadata": {
    "slideshow": {
     "slide_type": "slide"
    }
   },
   "source": [
    "# Nieco na dalsie studium\n",
    "\n",
    "* Balicek Operator - https://docs.python.org/3/library/operator.html\n",
    "* Balicek Itertools - https://docs.python.org/3/library/itertools.html\n",
    "* Balicek Functools - https://docs.python.org/3/library/functools.html"
   ]
  }
 ],
 "metadata": {
  "celltoolbar": "Slideshow",
  "kernelspec": {
   "display_name": "Python 3",
   "language": "python",
   "name": "python3"
  },
  "language_info": {
   "codemirror_mode": {
    "name": "ipython",
    "version": 3
   },
   "file_extension": ".py",
   "mimetype": "text/x-python",
   "name": "python",
   "nbconvert_exporter": "python",
   "pygments_lexer": "ipython3",
   "version": "3.7.1"
  }
 },
 "nbformat": 4,
 "nbformat_minor": 1
}
